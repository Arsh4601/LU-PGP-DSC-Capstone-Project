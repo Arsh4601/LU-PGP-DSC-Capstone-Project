{
 "cells": [
  {
   "cell_type": "markdown",
   "id": "962225c7",
   "metadata": {},
   "source": [
    "# Model Training On Tain and test Dataset"
   ]
  },
  {
   "cell_type": "code",
   "execution_count": null,
   "id": "15c78824",
   "metadata": {},
   "outputs": [],
   "source": []
  },
  {
   "cell_type": "markdown",
   "id": "10b5a3fb",
   "metadata": {},
   "source": [
    "# Importing Libraries"
   ]
  },
  {
   "cell_type": "code",
   "execution_count": null,
   "id": "9d76a7cd",
   "metadata": {},
   "outputs": [],
   "source": []
  },
  {
   "cell_type": "code",
   "execution_count": 1,
   "id": "94c88909",
   "metadata": {},
   "outputs": [],
   "source": [
    "import pandas as pd\n",
    "import networkx as nx\n",
    "import numpy as np\n",
    "import matplotlib.pyplot as plt\n",
    "import seaborn as sns"
   ]
  },
  {
   "cell_type": "code",
   "execution_count": null,
   "id": "24851671",
   "metadata": {},
   "outputs": [],
   "source": []
  },
  {
   "cell_type": "code",
   "execution_count": 2,
   "id": "6204c442",
   "metadata": {},
   "outputs": [],
   "source": [
    "train=pd.read_csv(\"C:/Users/Shafiq/Desktop/arsh LU/final_train.csv\")\n",
    "test=pd.read_csv(\"C:/Users/Shafiq/Desktop/arsh LU/final_test.csv\")"
   ]
  },
  {
   "cell_type": "code",
   "execution_count": null,
   "id": "6d26c223",
   "metadata": {},
   "outputs": [],
   "source": []
  },
  {
   "cell_type": "code",
   "execution_count": 3,
   "id": "055d05a5",
   "metadata": {},
   "outputs": [
    {
     "data": {
      "text/html": [
       "<div>\n",
       "<style scoped>\n",
       "    .dataframe tbody tr th:only-of-type {\n",
       "        vertical-align: middle;\n",
       "    }\n",
       "\n",
       "    .dataframe tbody tr th {\n",
       "        vertical-align: top;\n",
       "    }\n",
       "\n",
       "    .dataframe thead th {\n",
       "        text-align: right;\n",
       "    }\n",
       "</style>\n",
       "<table border=\"1\" class=\"dataframe\">\n",
       "  <thead>\n",
       "    <tr style=\"text-align: right;\">\n",
       "      <th></th>\n",
       "      <th>source_node</th>\n",
       "      <th>destination_node</th>\n",
       "      <th>Jaccard_followees</th>\n",
       "      <th>Jaccard_followers</th>\n",
       "      <th>cosine_followees</th>\n",
       "      <th>cosine_followers</th>\n",
       "      <th>Avg_sim_followees</th>\n",
       "      <th>Avg_sim_followers</th>\n",
       "      <th>Adar Index</th>\n",
       "      <th>Is_Followback</th>\n",
       "      <th>...</th>\n",
       "      <th>katz_d</th>\n",
       "      <th>hub_source</th>\n",
       "      <th>auth_source</th>\n",
       "      <th>hub_dest</th>\n",
       "      <th>auth_dest</th>\n",
       "      <th>wt_f1</th>\n",
       "      <th>wt_f2</th>\n",
       "      <th>wt_f3</th>\n",
       "      <th>wt_f4</th>\n",
       "      <th>link_indicator</th>\n",
       "    </tr>\n",
       "  </thead>\n",
       "  <tbody>\n",
       "    <tr>\n",
       "      <th>0</th>\n",
       "      <td>128335</td>\n",
       "      <td>990238</td>\n",
       "      <td>0.000000</td>\n",
       "      <td>0.000000</td>\n",
       "      <td>0</td>\n",
       "      <td>0</td>\n",
       "      <td>0.00</td>\n",
       "      <td>0.00</td>\n",
       "      <td>0.000000</td>\n",
       "      <td>1</td>\n",
       "      <td>...</td>\n",
       "      <td>0.001024</td>\n",
       "      <td>1</td>\n",
       "      <td>1</td>\n",
       "      <td>1</td>\n",
       "      <td>1</td>\n",
       "      <td>0.544331</td>\n",
       "      <td>0.055556</td>\n",
       "      <td>0.952579</td>\n",
       "      <td>0.680414</td>\n",
       "      <td>1</td>\n",
       "    </tr>\n",
       "    <tr>\n",
       "      <th>1</th>\n",
       "      <td>64311</td>\n",
       "      <td>874986</td>\n",
       "      <td>0.000000</td>\n",
       "      <td>0.333333</td>\n",
       "      <td>0</td>\n",
       "      <td>0</td>\n",
       "      <td>0.00</td>\n",
       "      <td>0.17</td>\n",
       "      <td>0.000000</td>\n",
       "      <td>1</td>\n",
       "      <td>...</td>\n",
       "      <td>0.001008</td>\n",
       "      <td>1</td>\n",
       "      <td>1</td>\n",
       "      <td>1</td>\n",
       "      <td>1</td>\n",
       "      <td>0.813053</td>\n",
       "      <td>0.136083</td>\n",
       "      <td>1.390403</td>\n",
       "      <td>1.048755</td>\n",
       "      <td>1</td>\n",
       "    </tr>\n",
       "    <tr>\n",
       "      <th>2</th>\n",
       "      <td>108983</td>\n",
       "      <td>1416606</td>\n",
       "      <td>0.000000</td>\n",
       "      <td>0.000000</td>\n",
       "      <td>0</td>\n",
       "      <td>0</td>\n",
       "      <td>0.00</td>\n",
       "      <td>0.00</td>\n",
       "      <td>0.000000</td>\n",
       "      <td>1</td>\n",
       "      <td>...</td>\n",
       "      <td>0.001008</td>\n",
       "      <td>1</td>\n",
       "      <td>1</td>\n",
       "      <td>1</td>\n",
       "      <td>1</td>\n",
       "      <td>0.910684</td>\n",
       "      <td>0.192450</td>\n",
       "      <td>1.488034</td>\n",
       "      <td>1.244017</td>\n",
       "      <td>1</td>\n",
       "    </tr>\n",
       "    <tr>\n",
       "      <th>3</th>\n",
       "      <td>17882</td>\n",
       "      <td>1789054</td>\n",
       "      <td>0.000000</td>\n",
       "      <td>0.000000</td>\n",
       "      <td>0</td>\n",
       "      <td>0</td>\n",
       "      <td>0.00</td>\n",
       "      <td>0.00</td>\n",
       "      <td>0.000000</td>\n",
       "      <td>1</td>\n",
       "      <td>...</td>\n",
       "      <td>0.001003</td>\n",
       "      <td>1</td>\n",
       "      <td>1</td>\n",
       "      <td>1</td>\n",
       "      <td>1</td>\n",
       "      <td>1.207107</td>\n",
       "      <td>0.353553</td>\n",
       "      <td>1.914214</td>\n",
       "      <td>1.707107</td>\n",
       "      <td>1</td>\n",
       "    </tr>\n",
       "    <tr>\n",
       "      <th>4</th>\n",
       "      <td>109045</td>\n",
       "      <td>85458</td>\n",
       "      <td>0.052632</td>\n",
       "      <td>0.000000</td>\n",
       "      <td>0</td>\n",
       "      <td>0</td>\n",
       "      <td>0.03</td>\n",
       "      <td>0.00</td>\n",
       "      <td>2.183295</td>\n",
       "      <td>1</td>\n",
       "      <td>...</td>\n",
       "      <td>0.001024</td>\n",
       "      <td>1</td>\n",
       "      <td>1</td>\n",
       "      <td>1</td>\n",
       "      <td>1</td>\n",
       "      <td>0.597231</td>\n",
       "      <td>0.077152</td>\n",
       "      <td>1.005479</td>\n",
       "      <td>0.786213</td>\n",
       "      <td>1</td>\n",
       "    </tr>\n",
       "    <tr>\n",
       "      <th>...</th>\n",
       "      <td>...</td>\n",
       "      <td>...</td>\n",
       "      <td>...</td>\n",
       "      <td>...</td>\n",
       "      <td>...</td>\n",
       "      <td>...</td>\n",
       "      <td>...</td>\n",
       "      <td>...</td>\n",
       "      <td>...</td>\n",
       "      <td>...</td>\n",
       "      <td>...</td>\n",
       "      <td>...</td>\n",
       "      <td>...</td>\n",
       "      <td>...</td>\n",
       "      <td>...</td>\n",
       "      <td>...</td>\n",
       "      <td>...</td>\n",
       "      <td>...</td>\n",
       "      <td>...</td>\n",
       "      <td>...</td>\n",
       "      <td>...</td>\n",
       "    </tr>\n",
       "    <tr>\n",
       "      <th>1677715</th>\n",
       "      <td>633464</td>\n",
       "      <td>211229</td>\n",
       "      <td>0.000000</td>\n",
       "      <td>0.000000</td>\n",
       "      <td>0</td>\n",
       "      <td>0</td>\n",
       "      <td>0.00</td>\n",
       "      <td>0.00</td>\n",
       "      <td>0.000000</td>\n",
       "      <td>1</td>\n",
       "      <td>...</td>\n",
       "      <td>0.001034</td>\n",
       "      <td>1</td>\n",
       "      <td>1</td>\n",
       "      <td>1</td>\n",
       "      <td>1</td>\n",
       "      <td>0.853553</td>\n",
       "      <td>0.176777</td>\n",
       "      <td>1.207107</td>\n",
       "      <td>1.353553</td>\n",
       "      <td>0</td>\n",
       "    </tr>\n",
       "    <tr>\n",
       "      <th>1677716</th>\n",
       "      <td>498101</td>\n",
       "      <td>196926</td>\n",
       "      <td>0.000000</td>\n",
       "      <td>0.000000</td>\n",
       "      <td>0</td>\n",
       "      <td>0</td>\n",
       "      <td>0.00</td>\n",
       "      <td>0.00</td>\n",
       "      <td>0.000000</td>\n",
       "      <td>1</td>\n",
       "      <td>...</td>\n",
       "      <td>0.001003</td>\n",
       "      <td>1</td>\n",
       "      <td>1</td>\n",
       "      <td>1</td>\n",
       "      <td>1</td>\n",
       "      <td>1.414214</td>\n",
       "      <td>0.500000</td>\n",
       "      <td>2.121320</td>\n",
       "      <td>2.121320</td>\n",
       "      <td>0</td>\n",
       "    </tr>\n",
       "    <tr>\n",
       "      <th>1677717</th>\n",
       "      <td>183408</td>\n",
       "      <td>179009</td>\n",
       "      <td>0.000000</td>\n",
       "      <td>0.000000</td>\n",
       "      <td>0</td>\n",
       "      <td>0</td>\n",
       "      <td>0.00</td>\n",
       "      <td>0.00</td>\n",
       "      <td>0.000000</td>\n",
       "      <td>1</td>\n",
       "      <td>...</td>\n",
       "      <td>0.001018</td>\n",
       "      <td>1</td>\n",
       "      <td>1</td>\n",
       "      <td>1</td>\n",
       "      <td>1</td>\n",
       "      <td>0.855462</td>\n",
       "      <td>0.182574</td>\n",
       "      <td>1.302675</td>\n",
       "      <td>1.263710</td>\n",
       "      <td>0</td>\n",
       "    </tr>\n",
       "    <tr>\n",
       "      <th>1677718</th>\n",
       "      <td>233512</td>\n",
       "      <td>554483</td>\n",
       "      <td>0.000000</td>\n",
       "      <td>0.000000</td>\n",
       "      <td>0</td>\n",
       "      <td>0</td>\n",
       "      <td>0.00</td>\n",
       "      <td>0.00</td>\n",
       "      <td>0.000000</td>\n",
       "      <td>1</td>\n",
       "      <td>...</td>\n",
       "      <td>0.001013</td>\n",
       "      <td>1</td>\n",
       "      <td>1</td>\n",
       "      <td>1</td>\n",
       "      <td>1</td>\n",
       "      <td>1.207107</td>\n",
       "      <td>0.353553</td>\n",
       "      <td>1.707107</td>\n",
       "      <td>1.914214</td>\n",
       "      <td>0</td>\n",
       "    </tr>\n",
       "    <tr>\n",
       "      <th>1677719</th>\n",
       "      <td>132549</td>\n",
       "      <td>629570</td>\n",
       "      <td>0.000000</td>\n",
       "      <td>0.000000</td>\n",
       "      <td>0</td>\n",
       "      <td>0</td>\n",
       "      <td>0.00</td>\n",
       "      <td>0.00</td>\n",
       "      <td>0.000000</td>\n",
       "      <td>1</td>\n",
       "      <td>...</td>\n",
       "      <td>0.001013</td>\n",
       "      <td>1</td>\n",
       "      <td>1</td>\n",
       "      <td>1</td>\n",
       "      <td>1</td>\n",
       "      <td>0.877964</td>\n",
       "      <td>0.188982</td>\n",
       "      <td>1.377964</td>\n",
       "      <td>1.255929</td>\n",
       "      <td>0</td>\n",
       "    </tr>\n",
       "  </tbody>\n",
       "</table>\n",
       "<p>1677720 rows × 31 columns</p>\n",
       "</div>"
      ],
      "text/plain": [
       "         source_node  destination_node  Jaccard_followees  Jaccard_followers  \\\n",
       "0             128335            990238           0.000000           0.000000   \n",
       "1              64311            874986           0.000000           0.333333   \n",
       "2             108983           1416606           0.000000           0.000000   \n",
       "3              17882           1789054           0.000000           0.000000   \n",
       "4             109045             85458           0.052632           0.000000   \n",
       "...              ...               ...                ...                ...   \n",
       "1677715       633464            211229           0.000000           0.000000   \n",
       "1677716       498101            196926           0.000000           0.000000   \n",
       "1677717       183408            179009           0.000000           0.000000   \n",
       "1677718       233512            554483           0.000000           0.000000   \n",
       "1677719       132549            629570           0.000000           0.000000   \n",
       "\n",
       "         cosine_followees  cosine_followers  Avg_sim_followees  \\\n",
       "0                       0                 0               0.00   \n",
       "1                       0                 0               0.00   \n",
       "2                       0                 0               0.00   \n",
       "3                       0                 0               0.00   \n",
       "4                       0                 0               0.03   \n",
       "...                   ...               ...                ...   \n",
       "1677715                 0                 0               0.00   \n",
       "1677716                 0                 0               0.00   \n",
       "1677717                 0                 0               0.00   \n",
       "1677718                 0                 0               0.00   \n",
       "1677719                 0                 0               0.00   \n",
       "\n",
       "         Avg_sim_followers  Adar Index  Is_Followback  ...    katz_d  \\\n",
       "0                     0.00    0.000000              1  ...  0.001024   \n",
       "1                     0.17    0.000000              1  ...  0.001008   \n",
       "2                     0.00    0.000000              1  ...  0.001008   \n",
       "3                     0.00    0.000000              1  ...  0.001003   \n",
       "4                     0.00    2.183295              1  ...  0.001024   \n",
       "...                    ...         ...            ...  ...       ...   \n",
       "1677715               0.00    0.000000              1  ...  0.001034   \n",
       "1677716               0.00    0.000000              1  ...  0.001003   \n",
       "1677717               0.00    0.000000              1  ...  0.001018   \n",
       "1677718               0.00    0.000000              1  ...  0.001013   \n",
       "1677719               0.00    0.000000              1  ...  0.001013   \n",
       "\n",
       "         hub_source  auth_source  hub_dest  auth_dest     wt_f1     wt_f2  \\\n",
       "0                 1            1         1          1  0.544331  0.055556   \n",
       "1                 1            1         1          1  0.813053  0.136083   \n",
       "2                 1            1         1          1  0.910684  0.192450   \n",
       "3                 1            1         1          1  1.207107  0.353553   \n",
       "4                 1            1         1          1  0.597231  0.077152   \n",
       "...             ...          ...       ...        ...       ...       ...   \n",
       "1677715           1            1         1          1  0.853553  0.176777   \n",
       "1677716           1            1         1          1  1.414214  0.500000   \n",
       "1677717           1            1         1          1  0.855462  0.182574   \n",
       "1677718           1            1         1          1  1.207107  0.353553   \n",
       "1677719           1            1         1          1  0.877964  0.188982   \n",
       "\n",
       "            wt_f3     wt_f4  link_indicator  \n",
       "0        0.952579  0.680414               1  \n",
       "1        1.390403  1.048755               1  \n",
       "2        1.488034  1.244017               1  \n",
       "3        1.914214  1.707107               1  \n",
       "4        1.005479  0.786213               1  \n",
       "...           ...       ...             ...  \n",
       "1677715  1.207107  1.353553               0  \n",
       "1677716  2.121320  2.121320               0  \n",
       "1677717  1.302675  1.263710               0  \n",
       "1677718  1.707107  1.914214               0  \n",
       "1677719  1.377964  1.255929               0  \n",
       "\n",
       "[1677720 rows x 31 columns]"
      ]
     },
     "execution_count": 3,
     "metadata": {},
     "output_type": "execute_result"
    }
   ],
   "source": [
    "train"
   ]
  },
  {
   "cell_type": "code",
   "execution_count": null,
   "id": "00ccf43a",
   "metadata": {},
   "outputs": [],
   "source": []
  },
  {
   "cell_type": "code",
   "execution_count": 4,
   "id": "55a9ff29",
   "metadata": {},
   "outputs": [
    {
     "data": {
      "text/html": [
       "<div>\n",
       "<style scoped>\n",
       "    .dataframe tbody tr th:only-of-type {\n",
       "        vertical-align: middle;\n",
       "    }\n",
       "\n",
       "    .dataframe tbody tr th {\n",
       "        vertical-align: top;\n",
       "    }\n",
       "\n",
       "    .dataframe thead th {\n",
       "        text-align: right;\n",
       "    }\n",
       "</style>\n",
       "<table border=\"1\" class=\"dataframe\">\n",
       "  <thead>\n",
       "    <tr style=\"text-align: right;\">\n",
       "      <th></th>\n",
       "      <th>source_node</th>\n",
       "      <th>destination_node</th>\n",
       "      <th>Jaccard_followees</th>\n",
       "      <th>Jaccard_followers</th>\n",
       "      <th>cosine_followees</th>\n",
       "      <th>cosine_followers</th>\n",
       "      <th>Avg_sim_followees</th>\n",
       "      <th>Avg_sim_followers</th>\n",
       "      <th>Adar Index</th>\n",
       "      <th>Is_Followback</th>\n",
       "      <th>...</th>\n",
       "      <th>katz_d</th>\n",
       "      <th>hub_source</th>\n",
       "      <th>auth_source</th>\n",
       "      <th>hub_dest</th>\n",
       "      <th>auth_dest</th>\n",
       "      <th>wt_f1</th>\n",
       "      <th>wt_f2</th>\n",
       "      <th>wt_f3</th>\n",
       "      <th>wt_f4</th>\n",
       "      <th>link_indicator</th>\n",
       "    </tr>\n",
       "  </thead>\n",
       "  <tbody>\n",
       "    <tr>\n",
       "      <th>0</th>\n",
       "      <td>204446</td>\n",
       "      <td>139592</td>\n",
       "      <td>0.0</td>\n",
       "      <td>0.0</td>\n",
       "      <td>0</td>\n",
       "      <td>0</td>\n",
       "      <td>0.0</td>\n",
       "      <td>0.0</td>\n",
       "      <td>0.0</td>\n",
       "      <td>0</td>\n",
       "      <td>...</td>\n",
       "      <td>0.001409</td>\n",
       "      <td>1</td>\n",
       "      <td>1</td>\n",
       "      <td>1</td>\n",
       "      <td>1</td>\n",
       "      <td>1.577350</td>\n",
       "      <td>0.577350</td>\n",
       "      <td>2.577350</td>\n",
       "      <td>2.154701</td>\n",
       "      <td>1</td>\n",
       "    </tr>\n",
       "    <tr>\n",
       "      <th>1</th>\n",
       "      <td>70119</td>\n",
       "      <td>256428</td>\n",
       "      <td>0.0</td>\n",
       "      <td>0.0</td>\n",
       "      <td>0</td>\n",
       "      <td>0</td>\n",
       "      <td>0.0</td>\n",
       "      <td>0.0</td>\n",
       "      <td>0.0</td>\n",
       "      <td>1</td>\n",
       "      <td>...</td>\n",
       "      <td>0.001409</td>\n",
       "      <td>1</td>\n",
       "      <td>1</td>\n",
       "      <td>1</td>\n",
       "      <td>1</td>\n",
       "      <td>1.414214</td>\n",
       "      <td>0.500000</td>\n",
       "      <td>2.121320</td>\n",
       "      <td>2.121320</td>\n",
       "      <td>1</td>\n",
       "    </tr>\n",
       "    <tr>\n",
       "      <th>2</th>\n",
       "      <td>171448</td>\n",
       "      <td>1548414</td>\n",
       "      <td>0.0</td>\n",
       "      <td>0.0</td>\n",
       "      <td>0</td>\n",
       "      <td>0</td>\n",
       "      <td>0.0</td>\n",
       "      <td>0.0</td>\n",
       "      <td>0.0</td>\n",
       "      <td>1</td>\n",
       "      <td>...</td>\n",
       "      <td>0.001409</td>\n",
       "      <td>1</td>\n",
       "      <td>1</td>\n",
       "      <td>1</td>\n",
       "      <td>1</td>\n",
       "      <td>1.154320</td>\n",
       "      <td>0.316228</td>\n",
       "      <td>1.861427</td>\n",
       "      <td>1.601534</td>\n",
       "      <td>1</td>\n",
       "    </tr>\n",
       "    <tr>\n",
       "      <th>3</th>\n",
       "      <td>108453</td>\n",
       "      <td>163467</td>\n",
       "      <td>0.0</td>\n",
       "      <td>0.0</td>\n",
       "      <td>0</td>\n",
       "      <td>0</td>\n",
       "      <td>0.0</td>\n",
       "      <td>0.0</td>\n",
       "      <td>0.0</td>\n",
       "      <td>1</td>\n",
       "      <td>...</td>\n",
       "      <td>0.001409</td>\n",
       "      <td>1</td>\n",
       "      <td>1</td>\n",
       "      <td>1</td>\n",
       "      <td>1</td>\n",
       "      <td>1.023335</td>\n",
       "      <td>0.223607</td>\n",
       "      <td>1.730441</td>\n",
       "      <td>1.339562</td>\n",
       "      <td>1</td>\n",
       "    </tr>\n",
       "    <tr>\n",
       "      <th>4</th>\n",
       "      <td>53271</td>\n",
       "      <td>1548358</td>\n",
       "      <td>0.0</td>\n",
       "      <td>0.0</td>\n",
       "      <td>0</td>\n",
       "      <td>0</td>\n",
       "      <td>0.0</td>\n",
       "      <td>0.0</td>\n",
       "      <td>0.0</td>\n",
       "      <td>1</td>\n",
       "      <td>...</td>\n",
       "      <td>0.001409</td>\n",
       "      <td>1</td>\n",
       "      <td>1</td>\n",
       "      <td>1</td>\n",
       "      <td>1</td>\n",
       "      <td>1.207107</td>\n",
       "      <td>0.353553</td>\n",
       "      <td>1.914214</td>\n",
       "      <td>1.707107</td>\n",
       "      <td>1</td>\n",
       "    </tr>\n",
       "    <tr>\n",
       "      <th>...</th>\n",
       "      <td>...</td>\n",
       "      <td>...</td>\n",
       "      <td>...</td>\n",
       "      <td>...</td>\n",
       "      <td>...</td>\n",
       "      <td>...</td>\n",
       "      <td>...</td>\n",
       "      <td>...</td>\n",
       "      <td>...</td>\n",
       "      <td>...</td>\n",
       "      <td>...</td>\n",
       "      <td>...</td>\n",
       "      <td>...</td>\n",
       "      <td>...</td>\n",
       "      <td>...</td>\n",
       "      <td>...</td>\n",
       "      <td>...</td>\n",
       "      <td>...</td>\n",
       "      <td>...</td>\n",
       "      <td>...</td>\n",
       "      <td>...</td>\n",
       "    </tr>\n",
       "    <tr>\n",
       "      <th>419425</th>\n",
       "      <td>425062</td>\n",
       "      <td>515552</td>\n",
       "      <td>0.0</td>\n",
       "      <td>0.0</td>\n",
       "      <td>0</td>\n",
       "      <td>0</td>\n",
       "      <td>0.0</td>\n",
       "      <td>0.0</td>\n",
       "      <td>0.0</td>\n",
       "      <td>1</td>\n",
       "      <td>...</td>\n",
       "      <td>0.001416</td>\n",
       "      <td>1</td>\n",
       "      <td>1</td>\n",
       "      <td>1</td>\n",
       "      <td>1</td>\n",
       "      <td>1.284457</td>\n",
       "      <td>0.408248</td>\n",
       "      <td>1.861807</td>\n",
       "      <td>1.991564</td>\n",
       "      <td>0</td>\n",
       "    </tr>\n",
       "    <tr>\n",
       "      <th>419426</th>\n",
       "      <td>380571</td>\n",
       "      <td>381467</td>\n",
       "      <td>0.0</td>\n",
       "      <td>0.0</td>\n",
       "      <td>0</td>\n",
       "      <td>0</td>\n",
       "      <td>0.0</td>\n",
       "      <td>0.0</td>\n",
       "      <td>0.0</td>\n",
       "      <td>1</td>\n",
       "      <td>...</td>\n",
       "      <td>0.001409</td>\n",
       "      <td>1</td>\n",
       "      <td>1</td>\n",
       "      <td>1</td>\n",
       "      <td>1</td>\n",
       "      <td>1.284457</td>\n",
       "      <td>0.408248</td>\n",
       "      <td>1.991564</td>\n",
       "      <td>1.861807</td>\n",
       "      <td>0</td>\n",
       "    </tr>\n",
       "    <tr>\n",
       "      <th>419427</th>\n",
       "      <td>585852</td>\n",
       "      <td>270912</td>\n",
       "      <td>0.0</td>\n",
       "      <td>0.0</td>\n",
       "      <td>0</td>\n",
       "      <td>0</td>\n",
       "      <td>0.0</td>\n",
       "      <td>0.0</td>\n",
       "      <td>0.0</td>\n",
       "      <td>1</td>\n",
       "      <td>...</td>\n",
       "      <td>0.001416</td>\n",
       "      <td>1</td>\n",
       "      <td>1</td>\n",
       "      <td>1</td>\n",
       "      <td>1</td>\n",
       "      <td>1.284457</td>\n",
       "      <td>0.408248</td>\n",
       "      <td>1.861807</td>\n",
       "      <td>1.991564</td>\n",
       "      <td>0</td>\n",
       "    </tr>\n",
       "    <tr>\n",
       "      <th>419428</th>\n",
       "      <td>472340</td>\n",
       "      <td>224297</td>\n",
       "      <td>0.0</td>\n",
       "      <td>0.0</td>\n",
       "      <td>0</td>\n",
       "      <td>0</td>\n",
       "      <td>0.0</td>\n",
       "      <td>0.0</td>\n",
       "      <td>0.0</td>\n",
       "      <td>1</td>\n",
       "      <td>...</td>\n",
       "      <td>0.001416</td>\n",
       "      <td>1</td>\n",
       "      <td>1</td>\n",
       "      <td>1</td>\n",
       "      <td>1</td>\n",
       "      <td>1.284457</td>\n",
       "      <td>0.408248</td>\n",
       "      <td>1.861807</td>\n",
       "      <td>1.991564</td>\n",
       "      <td>0</td>\n",
       "    </tr>\n",
       "    <tr>\n",
       "      <th>419429</th>\n",
       "      <td>340097</td>\n",
       "      <td>281376</td>\n",
       "      <td>0.0</td>\n",
       "      <td>0.0</td>\n",
       "      <td>0</td>\n",
       "      <td>0</td>\n",
       "      <td>0.0</td>\n",
       "      <td>0.0</td>\n",
       "      <td>0.0</td>\n",
       "      <td>1</td>\n",
       "      <td>...</td>\n",
       "      <td>0.001409</td>\n",
       "      <td>1</td>\n",
       "      <td>1</td>\n",
       "      <td>1</td>\n",
       "      <td>1</td>\n",
       "      <td>1.414214</td>\n",
       "      <td>0.500000</td>\n",
       "      <td>2.121320</td>\n",
       "      <td>2.121320</td>\n",
       "      <td>0</td>\n",
       "    </tr>\n",
       "  </tbody>\n",
       "</table>\n",
       "<p>419430 rows × 31 columns</p>\n",
       "</div>"
      ],
      "text/plain": [
       "        source_node  destination_node  Jaccard_followees  Jaccard_followers  \\\n",
       "0            204446            139592                0.0                0.0   \n",
       "1             70119            256428                0.0                0.0   \n",
       "2            171448           1548414                0.0                0.0   \n",
       "3            108453            163467                0.0                0.0   \n",
       "4             53271           1548358                0.0                0.0   \n",
       "...             ...               ...                ...                ...   \n",
       "419425       425062            515552                0.0                0.0   \n",
       "419426       380571            381467                0.0                0.0   \n",
       "419427       585852            270912                0.0                0.0   \n",
       "419428       472340            224297                0.0                0.0   \n",
       "419429       340097            281376                0.0                0.0   \n",
       "\n",
       "        cosine_followees  cosine_followers  Avg_sim_followees  \\\n",
       "0                      0                 0                0.0   \n",
       "1                      0                 0                0.0   \n",
       "2                      0                 0                0.0   \n",
       "3                      0                 0                0.0   \n",
       "4                      0                 0                0.0   \n",
       "...                  ...               ...                ...   \n",
       "419425                 0                 0                0.0   \n",
       "419426                 0                 0                0.0   \n",
       "419427                 0                 0                0.0   \n",
       "419428                 0                 0                0.0   \n",
       "419429                 0                 0                0.0   \n",
       "\n",
       "        Avg_sim_followers  Adar Index  Is_Followback  ...    katz_d  \\\n",
       "0                     0.0         0.0              0  ...  0.001409   \n",
       "1                     0.0         0.0              1  ...  0.001409   \n",
       "2                     0.0         0.0              1  ...  0.001409   \n",
       "3                     0.0         0.0              1  ...  0.001409   \n",
       "4                     0.0         0.0              1  ...  0.001409   \n",
       "...                   ...         ...            ...  ...       ...   \n",
       "419425                0.0         0.0              1  ...  0.001416   \n",
       "419426                0.0         0.0              1  ...  0.001409   \n",
       "419427                0.0         0.0              1  ...  0.001416   \n",
       "419428                0.0         0.0              1  ...  0.001416   \n",
       "419429                0.0         0.0              1  ...  0.001409   \n",
       "\n",
       "        hub_source  auth_source  hub_dest  auth_dest     wt_f1     wt_f2  \\\n",
       "0                1            1         1          1  1.577350  0.577350   \n",
       "1                1            1         1          1  1.414214  0.500000   \n",
       "2                1            1         1          1  1.154320  0.316228   \n",
       "3                1            1         1          1  1.023335  0.223607   \n",
       "4                1            1         1          1  1.207107  0.353553   \n",
       "...            ...          ...       ...        ...       ...       ...   \n",
       "419425           1            1         1          1  1.284457  0.408248   \n",
       "419426           1            1         1          1  1.284457  0.408248   \n",
       "419427           1            1         1          1  1.284457  0.408248   \n",
       "419428           1            1         1          1  1.284457  0.408248   \n",
       "419429           1            1         1          1  1.414214  0.500000   \n",
       "\n",
       "           wt_f3     wt_f4  link_indicator  \n",
       "0       2.577350  2.154701               1  \n",
       "1       2.121320  2.121320               1  \n",
       "2       1.861427  1.601534               1  \n",
       "3       1.730441  1.339562               1  \n",
       "4       1.914214  1.707107               1  \n",
       "...          ...       ...             ...  \n",
       "419425  1.861807  1.991564               0  \n",
       "419426  1.991564  1.861807               0  \n",
       "419427  1.861807  1.991564               0  \n",
       "419428  1.861807  1.991564               0  \n",
       "419429  2.121320  2.121320               0  \n",
       "\n",
       "[419430 rows x 31 columns]"
      ]
     },
     "execution_count": 4,
     "metadata": {},
     "output_type": "execute_result"
    }
   ],
   "source": [
    "test"
   ]
  },
  {
   "cell_type": "code",
   "execution_count": null,
   "id": "c114df67",
   "metadata": {},
   "outputs": [],
   "source": []
  },
  {
   "cell_type": "markdown",
   "id": "0bf33b2f",
   "metadata": {},
   "source": [
    "# Statistical Overview of Train and Test Dataset "
   ]
  },
  {
   "cell_type": "code",
   "execution_count": null,
   "id": "481e3e55",
   "metadata": {},
   "outputs": [],
   "source": []
  },
  {
   "cell_type": "code",
   "execution_count": 5,
   "id": "9cd666e0",
   "metadata": {},
   "outputs": [
    {
     "data": {
      "text/html": [
       "<div>\n",
       "<style scoped>\n",
       "    .dataframe tbody tr th:only-of-type {\n",
       "        vertical-align: middle;\n",
       "    }\n",
       "\n",
       "    .dataframe tbody tr th {\n",
       "        vertical-align: top;\n",
       "    }\n",
       "\n",
       "    .dataframe thead th {\n",
       "        text-align: right;\n",
       "    }\n",
       "</style>\n",
       "<table border=\"1\" class=\"dataframe\">\n",
       "  <thead>\n",
       "    <tr style=\"text-align: right;\">\n",
       "      <th></th>\n",
       "      <th>count</th>\n",
       "      <th>mean</th>\n",
       "      <th>std</th>\n",
       "      <th>min</th>\n",
       "      <th>25%</th>\n",
       "      <th>50%</th>\n",
       "      <th>75%</th>\n",
       "      <th>max</th>\n",
       "    </tr>\n",
       "  </thead>\n",
       "  <tbody>\n",
       "    <tr>\n",
       "      <th>source_node</th>\n",
       "      <td>1677720.0</td>\n",
       "      <td>228136.599519</td>\n",
       "      <td>195766.091922</td>\n",
       "      <td>1.000000</td>\n",
       "      <td>79628.750000</td>\n",
       "      <td>159173.500000</td>\n",
       "      <td>353733.000000</td>\n",
       "      <td>7.068810e+05</td>\n",
       "    </tr>\n",
       "    <tr>\n",
       "      <th>destination_node</th>\n",
       "      <td>1677720.0</td>\n",
       "      <td>642194.713074</td>\n",
       "      <td>498950.315200</td>\n",
       "      <td>1.000000</td>\n",
       "      <td>255772.000000</td>\n",
       "      <td>512237.000000</td>\n",
       "      <td>931506.750000</td>\n",
       "      <td>1.862218e+06</td>\n",
       "    </tr>\n",
       "    <tr>\n",
       "      <th>Jaccard_followees</th>\n",
       "      <td>1677720.0</td>\n",
       "      <td>0.004173</td>\n",
       "      <td>0.034756</td>\n",
       "      <td>0.000000</td>\n",
       "      <td>0.000000</td>\n",
       "      <td>0.000000</td>\n",
       "      <td>0.000000</td>\n",
       "      <td>8.333333e-01</td>\n",
       "    </tr>\n",
       "    <tr>\n",
       "      <th>Jaccard_followers</th>\n",
       "      <td>1677720.0</td>\n",
       "      <td>0.019332</td>\n",
       "      <td>0.078193</td>\n",
       "      <td>0.000000</td>\n",
       "      <td>0.000000</td>\n",
       "      <td>0.000000</td>\n",
       "      <td>0.000000</td>\n",
       "      <td>8.888889e-01</td>\n",
       "    </tr>\n",
       "    <tr>\n",
       "      <th>cosine_followees</th>\n",
       "      <td>1677720.0</td>\n",
       "      <td>0.000000</td>\n",
       "      <td>0.000000</td>\n",
       "      <td>0.000000</td>\n",
       "      <td>0.000000</td>\n",
       "      <td>0.000000</td>\n",
       "      <td>0.000000</td>\n",
       "      <td>0.000000e+00</td>\n",
       "    </tr>\n",
       "    <tr>\n",
       "      <th>cosine_followers</th>\n",
       "      <td>1677720.0</td>\n",
       "      <td>0.000000</td>\n",
       "      <td>0.000000</td>\n",
       "      <td>0.000000</td>\n",
       "      <td>0.000000</td>\n",
       "      <td>0.000000</td>\n",
       "      <td>0.000000</td>\n",
       "      <td>0.000000e+00</td>\n",
       "    </tr>\n",
       "    <tr>\n",
       "      <th>Avg_sim_followees</th>\n",
       "      <td>1677720.0</td>\n",
       "      <td>0.002090</td>\n",
       "      <td>0.017386</td>\n",
       "      <td>0.000000</td>\n",
       "      <td>0.000000</td>\n",
       "      <td>0.000000</td>\n",
       "      <td>0.000000</td>\n",
       "      <td>4.200000e-01</td>\n",
       "    </tr>\n",
       "    <tr>\n",
       "      <th>Avg_sim_followers</th>\n",
       "      <td>1677720.0</td>\n",
       "      <td>0.009630</td>\n",
       "      <td>0.039019</td>\n",
       "      <td>0.000000</td>\n",
       "      <td>0.000000</td>\n",
       "      <td>0.000000</td>\n",
       "      <td>0.000000</td>\n",
       "      <td>4.400000e-01</td>\n",
       "    </tr>\n",
       "    <tr>\n",
       "      <th>Adar Index</th>\n",
       "      <td>1677720.0</td>\n",
       "      <td>0.260230</td>\n",
       "      <td>3.055211</td>\n",
       "      <td>0.000000</td>\n",
       "      <td>0.000000</td>\n",
       "      <td>0.000000</td>\n",
       "      <td>0.000000</td>\n",
       "      <td>4.742811e+02</td>\n",
       "    </tr>\n",
       "    <tr>\n",
       "      <th>Is_Followback</th>\n",
       "      <td>1677720.0</td>\n",
       "      <td>0.999999</td>\n",
       "      <td>0.000772</td>\n",
       "      <td>0.000000</td>\n",
       "      <td>1.000000</td>\n",
       "      <td>1.000000</td>\n",
       "      <td>1.000000</td>\n",
       "      <td>1.000000e+00</td>\n",
       "    </tr>\n",
       "    <tr>\n",
       "      <th>Shortest Path</th>\n",
       "      <td>1677720.0</td>\n",
       "      <td>2.509490</td>\n",
       "      <td>7.577850</td>\n",
       "      <td>-1.000000</td>\n",
       "      <td>-1.000000</td>\n",
       "      <td>-1.000000</td>\n",
       "      <td>2.000000</td>\n",
       "      <td>6.900000e+01</td>\n",
       "    </tr>\n",
       "    <tr>\n",
       "      <th>source_followees</th>\n",
       "      <td>1677720.0</td>\n",
       "      <td>1.856451</td>\n",
       "      <td>2.663166</td>\n",
       "      <td>0.000000</td>\n",
       "      <td>0.000000</td>\n",
       "      <td>1.000000</td>\n",
       "      <td>3.000000</td>\n",
       "      <td>4.700000e+01</td>\n",
       "    </tr>\n",
       "    <tr>\n",
       "      <th>dest_followees</th>\n",
       "      <td>1677720.0</td>\n",
       "      <td>1.882401</td>\n",
       "      <td>3.051553</td>\n",
       "      <td>0.000000</td>\n",
       "      <td>0.000000</td>\n",
       "      <td>1.000000</td>\n",
       "      <td>3.000000</td>\n",
       "      <td>4.800000e+01</td>\n",
       "    </tr>\n",
       "    <tr>\n",
       "      <th>source_followers</th>\n",
       "      <td>1677720.0</td>\n",
       "      <td>10.122053</td>\n",
       "      <td>27.403924</td>\n",
       "      <td>0.000000</td>\n",
       "      <td>0.000000</td>\n",
       "      <td>2.000000</td>\n",
       "      <td>9.000000</td>\n",
       "      <td>6.920000e+02</td>\n",
       "    </tr>\n",
       "    <tr>\n",
       "      <th>dest_followers</th>\n",
       "      <td>1677720.0</td>\n",
       "      <td>1.599092</td>\n",
       "      <td>7.116769</td>\n",
       "      <td>0.000000</td>\n",
       "      <td>0.000000</td>\n",
       "      <td>0.000000</td>\n",
       "      <td>1.000000</td>\n",
       "      <td>5.360000e+02</td>\n",
       "    </tr>\n",
       "    <tr>\n",
       "      <th>common_followees</th>\n",
       "      <td>1677720.0</td>\n",
       "      <td>0.197577</td>\n",
       "      <td>1.046856</td>\n",
       "      <td>0.000000</td>\n",
       "      <td>0.000000</td>\n",
       "      <td>0.000000</td>\n",
       "      <td>0.000000</td>\n",
       "      <td>3.100000e+01</td>\n",
       "    </tr>\n",
       "    <tr>\n",
       "      <th>common_followers</th>\n",
       "      <td>1677720.0</td>\n",
       "      <td>0.202338</td>\n",
       "      <td>3.004670</td>\n",
       "      <td>0.000000</td>\n",
       "      <td>0.000000</td>\n",
       "      <td>0.000000</td>\n",
       "      <td>0.000000</td>\n",
       "      <td>2.040000e+02</td>\n",
       "    </tr>\n",
       "    <tr>\n",
       "      <th>weight_in</th>\n",
       "      <td>1677720.0</td>\n",
       "      <td>0.548051</td>\n",
       "      <td>0.119731</td>\n",
       "      <td>0.142857</td>\n",
       "      <td>0.447214</td>\n",
       "      <td>0.577350</td>\n",
       "      <td>0.707107</td>\n",
       "      <td>7.071068e-01</td>\n",
       "    </tr>\n",
       "    <tr>\n",
       "      <th>weight_out</th>\n",
       "      <td>1677720.0</td>\n",
       "      <td>0.423590</td>\n",
       "      <td>0.175166</td>\n",
       "      <td>0.037987</td>\n",
       "      <td>0.277350</td>\n",
       "      <td>0.447214</td>\n",
       "      <td>0.577350</td>\n",
       "      <td>7.071068e-01</td>\n",
       "    </tr>\n",
       "    <tr>\n",
       "      <th>same_comp</th>\n",
       "      <td>1677720.0</td>\n",
       "      <td>1.000000</td>\n",
       "      <td>0.000000</td>\n",
       "      <td>1.000000</td>\n",
       "      <td>1.000000</td>\n",
       "      <td>1.000000</td>\n",
       "      <td>1.000000</td>\n",
       "      <td>1.000000e+00</td>\n",
       "    </tr>\n",
       "    <tr>\n",
       "      <th>katz_s</th>\n",
       "      <td>1677720.0</td>\n",
       "      <td>0.001010</td>\n",
       "      <td>0.000014</td>\n",
       "      <td>0.000998</td>\n",
       "      <td>0.001003</td>\n",
       "      <td>0.001008</td>\n",
       "      <td>0.001013</td>\n",
       "      <td>1.244751e-03</td>\n",
       "    </tr>\n",
       "    <tr>\n",
       "      <th>katz_d</th>\n",
       "      <td>1677720.0</td>\n",
       "      <td>0.001014</td>\n",
       "      <td>0.000015</td>\n",
       "      <td>0.001003</td>\n",
       "      <td>0.001003</td>\n",
       "      <td>0.001008</td>\n",
       "      <td>0.001018</td>\n",
       "      <td>1.244751e-03</td>\n",
       "    </tr>\n",
       "    <tr>\n",
       "      <th>hub_source</th>\n",
       "      <td>1677720.0</td>\n",
       "      <td>1.000000</td>\n",
       "      <td>0.000000</td>\n",
       "      <td>1.000000</td>\n",
       "      <td>1.000000</td>\n",
       "      <td>1.000000</td>\n",
       "      <td>1.000000</td>\n",
       "      <td>1.000000e+00</td>\n",
       "    </tr>\n",
       "    <tr>\n",
       "      <th>auth_source</th>\n",
       "      <td>1677720.0</td>\n",
       "      <td>1.000000</td>\n",
       "      <td>0.000000</td>\n",
       "      <td>1.000000</td>\n",
       "      <td>1.000000</td>\n",
       "      <td>1.000000</td>\n",
       "      <td>1.000000</td>\n",
       "      <td>1.000000e+00</td>\n",
       "    </tr>\n",
       "    <tr>\n",
       "      <th>hub_dest</th>\n",
       "      <td>1677720.0</td>\n",
       "      <td>1.000000</td>\n",
       "      <td>0.000000</td>\n",
       "      <td>1.000000</td>\n",
       "      <td>1.000000</td>\n",
       "      <td>1.000000</td>\n",
       "      <td>1.000000</td>\n",
       "      <td>1.000000e+00</td>\n",
       "    </tr>\n",
       "    <tr>\n",
       "      <th>auth_dest</th>\n",
       "      <td>1677720.0</td>\n",
       "      <td>1.000000</td>\n",
       "      <td>0.000000</td>\n",
       "      <td>1.000000</td>\n",
       "      <td>1.000000</td>\n",
       "      <td>1.000000</td>\n",
       "      <td>1.000000</td>\n",
       "      <td>1.000000e+00</td>\n",
       "    </tr>\n",
       "    <tr>\n",
       "      <th>wt_f1</th>\n",
       "      <td>1677720.0</td>\n",
       "      <td>0.971642</td>\n",
       "      <td>0.227232</td>\n",
       "      <td>0.182324</td>\n",
       "      <td>0.825178</td>\n",
       "      <td>0.995782</td>\n",
       "      <td>1.154320</td>\n",
       "      <td>1.414214e+00</td>\n",
       "    </tr>\n",
       "    <tr>\n",
       "      <th>wt_f2</th>\n",
       "      <td>1677720.0</td>\n",
       "      <td>0.235457</td>\n",
       "      <td>0.111274</td>\n",
       "      <td>0.005483</td>\n",
       "      <td>0.149071</td>\n",
       "      <td>0.235702</td>\n",
       "      <td>0.316228</td>\n",
       "      <td>5.000000e-01</td>\n",
       "    </tr>\n",
       "    <tr>\n",
       "      <th>wt_f3</th>\n",
       "      <td>1677720.0</td>\n",
       "      <td>1.519693</td>\n",
       "      <td>0.318209</td>\n",
       "      <td>0.326662</td>\n",
       "      <td>1.333279</td>\n",
       "      <td>1.562949</td>\n",
       "      <td>1.732051</td>\n",
       "      <td>2.121320e+00</td>\n",
       "    </tr>\n",
       "    <tr>\n",
       "      <th>wt_f4</th>\n",
       "      <td>1677720.0</td>\n",
       "      <td>1.395232</td>\n",
       "      <td>0.387685</td>\n",
       "      <td>0.220311</td>\n",
       "      <td>1.113880</td>\n",
       "      <td>1.414214</td>\n",
       "      <td>1.707107</td>\n",
       "      <td>2.121320e+00</td>\n",
       "    </tr>\n",
       "    <tr>\n",
       "      <th>link_indicator</th>\n",
       "      <td>1677720.0</td>\n",
       "      <td>0.500000</td>\n",
       "      <td>0.500000</td>\n",
       "      <td>0.000000</td>\n",
       "      <td>0.000000</td>\n",
       "      <td>0.500000</td>\n",
       "      <td>1.000000</td>\n",
       "      <td>1.000000e+00</td>\n",
       "    </tr>\n",
       "  </tbody>\n",
       "</table>\n",
       "</div>"
      ],
      "text/plain": [
       "                       count           mean            std       min  \\\n",
       "source_node        1677720.0  228136.599519  195766.091922  1.000000   \n",
       "destination_node   1677720.0  642194.713074  498950.315200  1.000000   \n",
       "Jaccard_followees  1677720.0       0.004173       0.034756  0.000000   \n",
       "Jaccard_followers  1677720.0       0.019332       0.078193  0.000000   \n",
       "cosine_followees   1677720.0       0.000000       0.000000  0.000000   \n",
       "cosine_followers   1677720.0       0.000000       0.000000  0.000000   \n",
       "Avg_sim_followees  1677720.0       0.002090       0.017386  0.000000   \n",
       "Avg_sim_followers  1677720.0       0.009630       0.039019  0.000000   \n",
       "Adar Index         1677720.0       0.260230       3.055211  0.000000   \n",
       "Is_Followback      1677720.0       0.999999       0.000772  0.000000   \n",
       "Shortest Path      1677720.0       2.509490       7.577850 -1.000000   \n",
       "source_followees   1677720.0       1.856451       2.663166  0.000000   \n",
       "dest_followees     1677720.0       1.882401       3.051553  0.000000   \n",
       "source_followers   1677720.0      10.122053      27.403924  0.000000   \n",
       "dest_followers     1677720.0       1.599092       7.116769  0.000000   \n",
       "common_followees   1677720.0       0.197577       1.046856  0.000000   \n",
       "common_followers   1677720.0       0.202338       3.004670  0.000000   \n",
       "weight_in          1677720.0       0.548051       0.119731  0.142857   \n",
       "weight_out         1677720.0       0.423590       0.175166  0.037987   \n",
       "same_comp          1677720.0       1.000000       0.000000  1.000000   \n",
       "katz_s             1677720.0       0.001010       0.000014  0.000998   \n",
       "katz_d             1677720.0       0.001014       0.000015  0.001003   \n",
       "hub_source         1677720.0       1.000000       0.000000  1.000000   \n",
       "auth_source        1677720.0       1.000000       0.000000  1.000000   \n",
       "hub_dest           1677720.0       1.000000       0.000000  1.000000   \n",
       "auth_dest          1677720.0       1.000000       0.000000  1.000000   \n",
       "wt_f1              1677720.0       0.971642       0.227232  0.182324   \n",
       "wt_f2              1677720.0       0.235457       0.111274  0.005483   \n",
       "wt_f3              1677720.0       1.519693       0.318209  0.326662   \n",
       "wt_f4              1677720.0       1.395232       0.387685  0.220311   \n",
       "link_indicator     1677720.0       0.500000       0.500000  0.000000   \n",
       "\n",
       "                             25%            50%            75%           max  \n",
       "source_node         79628.750000  159173.500000  353733.000000  7.068810e+05  \n",
       "destination_node   255772.000000  512237.000000  931506.750000  1.862218e+06  \n",
       "Jaccard_followees       0.000000       0.000000       0.000000  8.333333e-01  \n",
       "Jaccard_followers       0.000000       0.000000       0.000000  8.888889e-01  \n",
       "cosine_followees        0.000000       0.000000       0.000000  0.000000e+00  \n",
       "cosine_followers        0.000000       0.000000       0.000000  0.000000e+00  \n",
       "Avg_sim_followees       0.000000       0.000000       0.000000  4.200000e-01  \n",
       "Avg_sim_followers       0.000000       0.000000       0.000000  4.400000e-01  \n",
       "Adar Index              0.000000       0.000000       0.000000  4.742811e+02  \n",
       "Is_Followback           1.000000       1.000000       1.000000  1.000000e+00  \n",
       "Shortest Path          -1.000000      -1.000000       2.000000  6.900000e+01  \n",
       "source_followees        0.000000       1.000000       3.000000  4.700000e+01  \n",
       "dest_followees          0.000000       1.000000       3.000000  4.800000e+01  \n",
       "source_followers        0.000000       2.000000       9.000000  6.920000e+02  \n",
       "dest_followers          0.000000       0.000000       1.000000  5.360000e+02  \n",
       "common_followees        0.000000       0.000000       0.000000  3.100000e+01  \n",
       "common_followers        0.000000       0.000000       0.000000  2.040000e+02  \n",
       "weight_in               0.447214       0.577350       0.707107  7.071068e-01  \n",
       "weight_out              0.277350       0.447214       0.577350  7.071068e-01  \n",
       "same_comp               1.000000       1.000000       1.000000  1.000000e+00  \n",
       "katz_s                  0.001003       0.001008       0.001013  1.244751e-03  \n",
       "katz_d                  0.001003       0.001008       0.001018  1.244751e-03  \n",
       "hub_source              1.000000       1.000000       1.000000  1.000000e+00  \n",
       "auth_source             1.000000       1.000000       1.000000  1.000000e+00  \n",
       "hub_dest                1.000000       1.000000       1.000000  1.000000e+00  \n",
       "auth_dest               1.000000       1.000000       1.000000  1.000000e+00  \n",
       "wt_f1                   0.825178       0.995782       1.154320  1.414214e+00  \n",
       "wt_f2                   0.149071       0.235702       0.316228  5.000000e-01  \n",
       "wt_f3                   1.333279       1.562949       1.732051  2.121320e+00  \n",
       "wt_f4                   1.113880       1.414214       1.707107  2.121320e+00  \n",
       "link_indicator          0.000000       0.500000       1.000000  1.000000e+00  "
      ]
     },
     "execution_count": 5,
     "metadata": {},
     "output_type": "execute_result"
    }
   ],
   "source": [
    "train.describe().T"
   ]
  },
  {
   "cell_type": "code",
   "execution_count": null,
   "id": "75230d10",
   "metadata": {},
   "outputs": [],
   "source": []
  },
  {
   "cell_type": "code",
   "execution_count": 6,
   "id": "3abbcaeb",
   "metadata": {},
   "outputs": [
    {
     "data": {
      "text/html": [
       "<div>\n",
       "<style scoped>\n",
       "    .dataframe tbody tr th:only-of-type {\n",
       "        vertical-align: middle;\n",
       "    }\n",
       "\n",
       "    .dataframe tbody tr th {\n",
       "        vertical-align: top;\n",
       "    }\n",
       "\n",
       "    .dataframe thead th {\n",
       "        text-align: right;\n",
       "    }\n",
       "</style>\n",
       "<table border=\"1\" class=\"dataframe\">\n",
       "  <thead>\n",
       "    <tr style=\"text-align: right;\">\n",
       "      <th></th>\n",
       "      <th>count</th>\n",
       "      <th>mean</th>\n",
       "      <th>std</th>\n",
       "      <th>min</th>\n",
       "      <th>25%</th>\n",
       "      <th>50%</th>\n",
       "      <th>75%</th>\n",
       "      <th>max</th>\n",
       "    </tr>\n",
       "  </thead>\n",
       "  <tbody>\n",
       "    <tr>\n",
       "      <th>source_node</th>\n",
       "      <td>419430.0</td>\n",
       "      <td>228085.616489</td>\n",
       "      <td>195943.532261</td>\n",
       "      <td>1.000000</td>\n",
       "      <td>79416.500000</td>\n",
       "      <td>159090.500000</td>\n",
       "      <td>353945.500000</td>\n",
       "      <td>7.068650e+05</td>\n",
       "    </tr>\n",
       "    <tr>\n",
       "      <th>destination_node</th>\n",
       "      <td>419430.0</td>\n",
       "      <td>642486.931576</td>\n",
       "      <td>498936.157372</td>\n",
       "      <td>6.000000</td>\n",
       "      <td>256320.250000</td>\n",
       "      <td>512350.000000</td>\n",
       "      <td>932179.750000</td>\n",
       "      <td>1.862202e+06</td>\n",
       "    </tr>\n",
       "    <tr>\n",
       "      <th>Jaccard_followees</th>\n",
       "      <td>419430.0</td>\n",
       "      <td>0.000584</td>\n",
       "      <td>0.010900</td>\n",
       "      <td>0.000000</td>\n",
       "      <td>0.000000</td>\n",
       "      <td>0.000000</td>\n",
       "      <td>0.000000</td>\n",
       "      <td>7.500000e-01</td>\n",
       "    </tr>\n",
       "    <tr>\n",
       "      <th>Jaccard_followers</th>\n",
       "      <td>419430.0</td>\n",
       "      <td>0.001848</td>\n",
       "      <td>0.024460</td>\n",
       "      <td>0.000000</td>\n",
       "      <td>0.000000</td>\n",
       "      <td>0.000000</td>\n",
       "      <td>0.000000</td>\n",
       "      <td>8.000000e-01</td>\n",
       "    </tr>\n",
       "    <tr>\n",
       "      <th>cosine_followees</th>\n",
       "      <td>419430.0</td>\n",
       "      <td>0.000000</td>\n",
       "      <td>0.000000</td>\n",
       "      <td>0.000000</td>\n",
       "      <td>0.000000</td>\n",
       "      <td>0.000000</td>\n",
       "      <td>0.000000</td>\n",
       "      <td>0.000000e+00</td>\n",
       "    </tr>\n",
       "    <tr>\n",
       "      <th>cosine_followers</th>\n",
       "      <td>419430.0</td>\n",
       "      <td>0.000000</td>\n",
       "      <td>0.000000</td>\n",
       "      <td>0.000000</td>\n",
       "      <td>0.000000</td>\n",
       "      <td>0.000000</td>\n",
       "      <td>0.000000</td>\n",
       "      <td>0.000000e+00</td>\n",
       "    </tr>\n",
       "    <tr>\n",
       "      <th>Avg_sim_followees</th>\n",
       "      <td>419430.0</td>\n",
       "      <td>0.000292</td>\n",
       "      <td>0.005437</td>\n",
       "      <td>0.000000</td>\n",
       "      <td>0.000000</td>\n",
       "      <td>0.000000</td>\n",
       "      <td>0.000000</td>\n",
       "      <td>3.800000e-01</td>\n",
       "    </tr>\n",
       "    <tr>\n",
       "      <th>Avg_sim_followers</th>\n",
       "      <td>419430.0</td>\n",
       "      <td>0.000921</td>\n",
       "      <td>0.012217</td>\n",
       "      <td>0.000000</td>\n",
       "      <td>0.000000</td>\n",
       "      <td>0.000000</td>\n",
       "      <td>0.000000</td>\n",
       "      <td>4.000000e-01</td>\n",
       "    </tr>\n",
       "    <tr>\n",
       "      <th>Adar Index</th>\n",
       "      <td>419430.0</td>\n",
       "      <td>0.018288</td>\n",
       "      <td>0.345935</td>\n",
       "      <td>0.000000</td>\n",
       "      <td>0.000000</td>\n",
       "      <td>0.000000</td>\n",
       "      <td>0.000000</td>\n",
       "      <td>3.023987e+01</td>\n",
       "    </tr>\n",
       "    <tr>\n",
       "      <th>Is_Followback</th>\n",
       "      <td>419430.0</td>\n",
       "      <td>0.999995</td>\n",
       "      <td>0.002184</td>\n",
       "      <td>0.000000</td>\n",
       "      <td>1.000000</td>\n",
       "      <td>1.000000</td>\n",
       "      <td>1.000000</td>\n",
       "      <td>1.000000e+00</td>\n",
       "    </tr>\n",
       "    <tr>\n",
       "      <th>Shortest Path</th>\n",
       "      <td>419430.0</td>\n",
       "      <td>-0.957001</td>\n",
       "      <td>0.409294</td>\n",
       "      <td>-1.000000</td>\n",
       "      <td>-1.000000</td>\n",
       "      <td>-1.000000</td>\n",
       "      <td>-1.000000</td>\n",
       "      <td>9.000000e+00</td>\n",
       "    </tr>\n",
       "    <tr>\n",
       "      <th>source_followees</th>\n",
       "      <td>419430.0</td>\n",
       "      <td>0.348082</td>\n",
       "      <td>0.747772</td>\n",
       "      <td>0.000000</td>\n",
       "      <td>0.000000</td>\n",
       "      <td>0.000000</td>\n",
       "      <td>1.000000</td>\n",
       "      <td>1.200000e+01</td>\n",
       "    </tr>\n",
       "    <tr>\n",
       "      <th>dest_followees</th>\n",
       "      <td>419430.0</td>\n",
       "      <td>0.289214</td>\n",
       "      <td>0.785190</td>\n",
       "      <td>0.000000</td>\n",
       "      <td>0.000000</td>\n",
       "      <td>0.000000</td>\n",
       "      <td>0.000000</td>\n",
       "      <td>1.600000e+01</td>\n",
       "    </tr>\n",
       "    <tr>\n",
       "      <th>source_followers</th>\n",
       "      <td>419430.0</td>\n",
       "      <td>1.662985</td>\n",
       "      <td>5.415811</td>\n",
       "      <td>0.000000</td>\n",
       "      <td>0.000000</td>\n",
       "      <td>0.000000</td>\n",
       "      <td>1.000000</td>\n",
       "      <td>2.020000e+02</td>\n",
       "    </tr>\n",
       "    <tr>\n",
       "      <th>dest_followers</th>\n",
       "      <td>419430.0</td>\n",
       "      <td>0.258255</td>\n",
       "      <td>1.379866</td>\n",
       "      <td>0.000000</td>\n",
       "      <td>0.000000</td>\n",
       "      <td>0.000000</td>\n",
       "      <td>0.000000</td>\n",
       "      <td>6.400000e+01</td>\n",
       "    </tr>\n",
       "    <tr>\n",
       "      <th>common_followees</th>\n",
       "      <td>419430.0</td>\n",
       "      <td>0.008473</td>\n",
       "      <td>0.105856</td>\n",
       "      <td>0.000000</td>\n",
       "      <td>0.000000</td>\n",
       "      <td>0.000000</td>\n",
       "      <td>0.000000</td>\n",
       "      <td>4.000000e+00</td>\n",
       "    </tr>\n",
       "    <tr>\n",
       "      <th>common_followers</th>\n",
       "      <td>419430.0</td>\n",
       "      <td>0.009000</td>\n",
       "      <td>0.184523</td>\n",
       "      <td>0.000000</td>\n",
       "      <td>0.000000</td>\n",
       "      <td>0.000000</td>\n",
       "      <td>0.000000</td>\n",
       "      <td>1.400000e+01</td>\n",
       "    </tr>\n",
       "    <tr>\n",
       "      <th>weight_in</th>\n",
       "      <td>419430.0</td>\n",
       "      <td>0.652588</td>\n",
       "      <td>0.081941</td>\n",
       "      <td>0.242536</td>\n",
       "      <td>0.577350</td>\n",
       "      <td>0.707107</td>\n",
       "      <td>0.707107</td>\n",
       "      <td>1.000000e+00</td>\n",
       "    </tr>\n",
       "    <tr>\n",
       "      <th>weight_out</th>\n",
       "      <td>419430.0</td>\n",
       "      <td>0.560795</td>\n",
       "      <td>0.152360</td>\n",
       "      <td>0.070014</td>\n",
       "      <td>0.447214</td>\n",
       "      <td>0.577350</td>\n",
       "      <td>0.707107</td>\n",
       "      <td>7.071068e-01</td>\n",
       "    </tr>\n",
       "    <tr>\n",
       "      <th>same_comp</th>\n",
       "      <td>419430.0</td>\n",
       "      <td>1.000000</td>\n",
       "      <td>0.000000</td>\n",
       "      <td>1.000000</td>\n",
       "      <td>1.000000</td>\n",
       "      <td>1.000000</td>\n",
       "      <td>1.000000</td>\n",
       "      <td>1.000000e+00</td>\n",
       "    </tr>\n",
       "    <tr>\n",
       "      <th>katz_s</th>\n",
       "      <td>419430.0</td>\n",
       "      <td>0.001406</td>\n",
       "      <td>0.000006</td>\n",
       "      <td>0.001402</td>\n",
       "      <td>0.001402</td>\n",
       "      <td>0.001402</td>\n",
       "      <td>0.001409</td>\n",
       "      <td>1.495568e-03</td>\n",
       "    </tr>\n",
       "    <tr>\n",
       "      <th>katz_d</th>\n",
       "      <td>419430.0</td>\n",
       "      <td>0.001413</td>\n",
       "      <td>0.000007</td>\n",
       "      <td>0.001409</td>\n",
       "      <td>0.001409</td>\n",
       "      <td>0.001409</td>\n",
       "      <td>0.001416</td>\n",
       "      <td>1.516604e-03</td>\n",
       "    </tr>\n",
       "    <tr>\n",
       "      <th>hub_source</th>\n",
       "      <td>419430.0</td>\n",
       "      <td>1.000000</td>\n",
       "      <td>0.000000</td>\n",
       "      <td>1.000000</td>\n",
       "      <td>1.000000</td>\n",
       "      <td>1.000000</td>\n",
       "      <td>1.000000</td>\n",
       "      <td>1.000000e+00</td>\n",
       "    </tr>\n",
       "    <tr>\n",
       "      <th>auth_source</th>\n",
       "      <td>419430.0</td>\n",
       "      <td>1.000000</td>\n",
       "      <td>0.000000</td>\n",
       "      <td>1.000000</td>\n",
       "      <td>1.000000</td>\n",
       "      <td>1.000000</td>\n",
       "      <td>1.000000</td>\n",
       "      <td>1.000000e+00</td>\n",
       "    </tr>\n",
       "    <tr>\n",
       "      <th>hub_dest</th>\n",
       "      <td>419430.0</td>\n",
       "      <td>1.000000</td>\n",
       "      <td>0.000000</td>\n",
       "      <td>1.000000</td>\n",
       "      <td>1.000000</td>\n",
       "      <td>1.000000</td>\n",
       "      <td>1.000000</td>\n",
       "      <td>1.000000e+00</td>\n",
       "    </tr>\n",
       "    <tr>\n",
       "      <th>auth_dest</th>\n",
       "      <td>419430.0</td>\n",
       "      <td>1.000000</td>\n",
       "      <td>0.000000</td>\n",
       "      <td>1.000000</td>\n",
       "      <td>1.000000</td>\n",
       "      <td>1.000000</td>\n",
       "      <td>1.000000</td>\n",
       "      <td>1.000000e+00</td>\n",
       "    </tr>\n",
       "    <tr>\n",
       "      <th>wt_f1</th>\n",
       "      <td>419430.0</td>\n",
       "      <td>1.213383</td>\n",
       "      <td>0.185757</td>\n",
       "      <td>0.373842</td>\n",
       "      <td>1.115355</td>\n",
       "      <td>1.284457</td>\n",
       "      <td>1.414214</td>\n",
       "      <td>1.577350e+00</td>\n",
       "    </tr>\n",
       "    <tr>\n",
       "      <th>wt_f2</th>\n",
       "      <td>419430.0</td>\n",
       "      <td>0.368257</td>\n",
       "      <td>0.112674</td>\n",
       "      <td>0.023338</td>\n",
       "      <td>0.288675</td>\n",
       "      <td>0.408248</td>\n",
       "      <td>0.500000</td>\n",
       "      <td>5.773503e-01</td>\n",
       "    </tr>\n",
       "    <tr>\n",
       "      <th>wt_f3</th>\n",
       "      <td>419430.0</td>\n",
       "      <td>1.865970</td>\n",
       "      <td>0.243365</td>\n",
       "      <td>0.616378</td>\n",
       "      <td>1.732051</td>\n",
       "      <td>1.861807</td>\n",
       "      <td>2.121320</td>\n",
       "      <td>2.577350e+00</td>\n",
       "    </tr>\n",
       "    <tr>\n",
       "      <th>wt_f4</th>\n",
       "      <td>419430.0</td>\n",
       "      <td>1.774178</td>\n",
       "      <td>0.329734</td>\n",
       "      <td>0.473361</td>\n",
       "      <td>1.577350</td>\n",
       "      <td>1.861807</td>\n",
       "      <td>2.121320</td>\n",
       "      <td>2.154701e+00</td>\n",
       "    </tr>\n",
       "    <tr>\n",
       "      <th>link_indicator</th>\n",
       "      <td>419430.0</td>\n",
       "      <td>0.500000</td>\n",
       "      <td>0.500001</td>\n",
       "      <td>0.000000</td>\n",
       "      <td>0.000000</td>\n",
       "      <td>0.500000</td>\n",
       "      <td>1.000000</td>\n",
       "      <td>1.000000e+00</td>\n",
       "    </tr>\n",
       "  </tbody>\n",
       "</table>\n",
       "</div>"
      ],
      "text/plain": [
       "                      count           mean            std       min  \\\n",
       "source_node        419430.0  228085.616489  195943.532261  1.000000   \n",
       "destination_node   419430.0  642486.931576  498936.157372  6.000000   \n",
       "Jaccard_followees  419430.0       0.000584       0.010900  0.000000   \n",
       "Jaccard_followers  419430.0       0.001848       0.024460  0.000000   \n",
       "cosine_followees   419430.0       0.000000       0.000000  0.000000   \n",
       "cosine_followers   419430.0       0.000000       0.000000  0.000000   \n",
       "Avg_sim_followees  419430.0       0.000292       0.005437  0.000000   \n",
       "Avg_sim_followers  419430.0       0.000921       0.012217  0.000000   \n",
       "Adar Index         419430.0       0.018288       0.345935  0.000000   \n",
       "Is_Followback      419430.0       0.999995       0.002184  0.000000   \n",
       "Shortest Path      419430.0      -0.957001       0.409294 -1.000000   \n",
       "source_followees   419430.0       0.348082       0.747772  0.000000   \n",
       "dest_followees     419430.0       0.289214       0.785190  0.000000   \n",
       "source_followers   419430.0       1.662985       5.415811  0.000000   \n",
       "dest_followers     419430.0       0.258255       1.379866  0.000000   \n",
       "common_followees   419430.0       0.008473       0.105856  0.000000   \n",
       "common_followers   419430.0       0.009000       0.184523  0.000000   \n",
       "weight_in          419430.0       0.652588       0.081941  0.242536   \n",
       "weight_out         419430.0       0.560795       0.152360  0.070014   \n",
       "same_comp          419430.0       1.000000       0.000000  1.000000   \n",
       "katz_s             419430.0       0.001406       0.000006  0.001402   \n",
       "katz_d             419430.0       0.001413       0.000007  0.001409   \n",
       "hub_source         419430.0       1.000000       0.000000  1.000000   \n",
       "auth_source        419430.0       1.000000       0.000000  1.000000   \n",
       "hub_dest           419430.0       1.000000       0.000000  1.000000   \n",
       "auth_dest          419430.0       1.000000       0.000000  1.000000   \n",
       "wt_f1              419430.0       1.213383       0.185757  0.373842   \n",
       "wt_f2              419430.0       0.368257       0.112674  0.023338   \n",
       "wt_f3              419430.0       1.865970       0.243365  0.616378   \n",
       "wt_f4              419430.0       1.774178       0.329734  0.473361   \n",
       "link_indicator     419430.0       0.500000       0.500001  0.000000   \n",
       "\n",
       "                             25%            50%            75%           max  \n",
       "source_node         79416.500000  159090.500000  353945.500000  7.068650e+05  \n",
       "destination_node   256320.250000  512350.000000  932179.750000  1.862202e+06  \n",
       "Jaccard_followees       0.000000       0.000000       0.000000  7.500000e-01  \n",
       "Jaccard_followers       0.000000       0.000000       0.000000  8.000000e-01  \n",
       "cosine_followees        0.000000       0.000000       0.000000  0.000000e+00  \n",
       "cosine_followers        0.000000       0.000000       0.000000  0.000000e+00  \n",
       "Avg_sim_followees       0.000000       0.000000       0.000000  3.800000e-01  \n",
       "Avg_sim_followers       0.000000       0.000000       0.000000  4.000000e-01  \n",
       "Adar Index              0.000000       0.000000       0.000000  3.023987e+01  \n",
       "Is_Followback           1.000000       1.000000       1.000000  1.000000e+00  \n",
       "Shortest Path          -1.000000      -1.000000      -1.000000  9.000000e+00  \n",
       "source_followees        0.000000       0.000000       1.000000  1.200000e+01  \n",
       "dest_followees          0.000000       0.000000       0.000000  1.600000e+01  \n",
       "source_followers        0.000000       0.000000       1.000000  2.020000e+02  \n",
       "dest_followers          0.000000       0.000000       0.000000  6.400000e+01  \n",
       "common_followees        0.000000       0.000000       0.000000  4.000000e+00  \n",
       "common_followers        0.000000       0.000000       0.000000  1.400000e+01  \n",
       "weight_in               0.577350       0.707107       0.707107  1.000000e+00  \n",
       "weight_out              0.447214       0.577350       0.707107  7.071068e-01  \n",
       "same_comp               1.000000       1.000000       1.000000  1.000000e+00  \n",
       "katz_s                  0.001402       0.001402       0.001409  1.495568e-03  \n",
       "katz_d                  0.001409       0.001409       0.001416  1.516604e-03  \n",
       "hub_source              1.000000       1.000000       1.000000  1.000000e+00  \n",
       "auth_source             1.000000       1.000000       1.000000  1.000000e+00  \n",
       "hub_dest                1.000000       1.000000       1.000000  1.000000e+00  \n",
       "auth_dest               1.000000       1.000000       1.000000  1.000000e+00  \n",
       "wt_f1                   1.115355       1.284457       1.414214  1.577350e+00  \n",
       "wt_f2                   0.288675       0.408248       0.500000  5.773503e-01  \n",
       "wt_f3                   1.732051       1.861807       2.121320  2.577350e+00  \n",
       "wt_f4                   1.577350       1.861807       2.121320  2.154701e+00  \n",
       "link_indicator          0.000000       0.500000       1.000000  1.000000e+00  "
      ]
     },
     "execution_count": 6,
     "metadata": {},
     "output_type": "execute_result"
    }
   ],
   "source": [
    "test.describe().T"
   ]
  },
  {
   "cell_type": "code",
   "execution_count": null,
   "id": "4499ae99",
   "metadata": {},
   "outputs": [],
   "source": []
  },
  {
   "cell_type": "code",
   "execution_count": 7,
   "id": "3ab5f936",
   "metadata": {},
   "outputs": [
    {
     "data": {
      "text/plain": [
       "1    838860\n",
       "0    838860\n",
       "Name: link_indicator, dtype: int64"
      ]
     },
     "execution_count": 7,
     "metadata": {},
     "output_type": "execute_result"
    }
   ],
   "source": [
    "train[\"link_indicator\"].value_counts()"
   ]
  },
  {
   "cell_type": "code",
   "execution_count": null,
   "id": "11b6378e",
   "metadata": {},
   "outputs": [],
   "source": []
  },
  {
   "cell_type": "code",
   "execution_count": 8,
   "id": "b4acfb91",
   "metadata": {},
   "outputs": [
    {
     "data": {
      "text/plain": [
       "1    209715\n",
       "0    209715\n",
       "Name: link_indicator, dtype: int64"
      ]
     },
     "execution_count": 8,
     "metadata": {},
     "output_type": "execute_result"
    }
   ],
   "source": [
    "test[\"link_indicator\"].value_counts()"
   ]
  },
  {
   "cell_type": "code",
   "execution_count": null,
   "id": "bbedf12e",
   "metadata": {},
   "outputs": [],
   "source": []
  },
  {
   "cell_type": "raw",
   "id": "66f953ce",
   "metadata": {},
   "source": [
    "Both the Train and Test Dataset are balanced Dataset, No Preprocessing Required"
   ]
  },
  {
   "cell_type": "code",
   "execution_count": null,
   "id": "40e9a60e",
   "metadata": {},
   "outputs": [],
   "source": []
  },
  {
   "cell_type": "markdown",
   "id": "0fbebe41",
   "metadata": {},
   "source": [
    "# Preparing x_train,y_train,x_test,y_test"
   ]
  },
  {
   "cell_type": "code",
   "execution_count": null,
   "id": "1f9015a7",
   "metadata": {},
   "outputs": [],
   "source": []
  },
  {
   "cell_type": "code",
   "execution_count": 6,
   "id": "fa629bf2",
   "metadata": {},
   "outputs": [
    {
     "name": "stdout",
     "output_type": "stream",
     "text": [
      "x_train:  (1677720, 28)\n",
      "y_train:  (1677720,)\n",
      "x_test:  (419430, 28)\n",
      "y_test:  (419430,)\n"
     ]
    }
   ],
   "source": [
    "# Removing Source and Destination node and Link Idicator(Independent Feature) from x_train and x_test\n",
    "# y_train and y_test will have only link_indicator (Independent Feature)\n",
    "\n",
    "x_train=train.drop([\"source_node\",\"destination_node\",\"link_indicator\"],axis=1)\n",
    "\n",
    "y_train=train[\"link_indicator\"]\n",
    "\n",
    "x_test=test.drop([\"source_node\",\"destination_node\",\"link_indicator\"],axis=1)\n",
    "\n",
    "y_test=test[\"link_indicator\"]\n",
    "\n",
    "print(\"x_train: \",x_train.shape)\n",
    "print(\"y_train: \",y_train.shape)\n",
    "print(\"x_test: \",x_test.shape)\n",
    "print(\"y_test: \",y_test.shape)"
   ]
  },
  {
   "cell_type": "code",
   "execution_count": null,
   "id": "2730ac44",
   "metadata": {},
   "outputs": [],
   "source": []
  },
  {
   "cell_type": "markdown",
   "id": "c3806c33",
   "metadata": {},
   "source": [
    "# Building the Model"
   ]
  },
  {
   "cell_type": "code",
   "execution_count": null,
   "id": "1fc25bbe",
   "metadata": {},
   "outputs": [],
   "source": []
  },
  {
   "cell_type": "markdown",
   "id": "bc4caa3d",
   "metadata": {},
   "source": [
    "# Random Forest"
   ]
  },
  {
   "cell_type": "code",
   "execution_count": null,
   "id": "4a9fa578",
   "metadata": {},
   "outputs": [],
   "source": []
  },
  {
   "cell_type": "code",
   "execution_count": 5,
   "id": "b6c6b924",
   "metadata": {},
   "outputs": [],
   "source": [
    "from sklearn.ensemble import RandomForestClassifier\n",
    "from sklearn.metrics import f1_score"
   ]
  },
  {
   "cell_type": "code",
   "execution_count": null,
   "id": "3819fd6b",
   "metadata": {},
   "outputs": [],
   "source": []
  },
  {
   "cell_type": "markdown",
   "id": "de9b1c0f",
   "metadata": {},
   "source": [
    "# Checking the performance of Model with default values of Parameters"
   ]
  },
  {
   "cell_type": "code",
   "execution_count": null,
   "id": "73c96abe",
   "metadata": {},
   "outputs": [],
   "source": []
  },
  {
   "cell_type": "code",
   "execution_count": 11,
   "id": "361e7f1c",
   "metadata": {},
   "outputs": [
    {
     "name": "stdout",
     "output_type": "stream",
     "text": [
      "F1_score from train:  0.9094381699817622\n",
      "F1_score from test:  0.12948767686496948\n"
     ]
    }
   ],
   "source": [
    "clf= RandomForestClassifier()\n",
    "clf.fit(x_train,y_train)\n",
    "    \n",
    "tr_sc=f1_score(y_train,clf.predict(x_train))\n",
    "te_sc=f1_score(y_test,clf.predict(x_test))\n",
    "\n",
    "\n",
    "print(\"F1_score from train: \",tr_sc)\n",
    "print(\"F1_score from test: \",te_sc)"
   ]
  },
  {
   "cell_type": "code",
   "execution_count": null,
   "id": "0f9923e1",
   "metadata": {},
   "outputs": [],
   "source": []
  },
  {
   "cell_type": "raw",
   "id": "0a43ab13",
   "metadata": {},
   "source": [
    "The Model is Overfitting, not a suitable model"
   ]
  },
  {
   "cell_type": "code",
   "execution_count": null,
   "id": "4bdf175b",
   "metadata": {},
   "outputs": [],
   "source": []
  },
  {
   "cell_type": "markdown",
   "id": "16bbb053",
   "metadata": {},
   "source": [
    "# Hyperparameter Tuning"
   ]
  },
  {
   "cell_type": "code",
   "execution_count": null,
   "id": "cc1432df",
   "metadata": {},
   "outputs": [],
   "source": []
  },
  {
   "cell_type": "markdown",
   "id": "d79c1229",
   "metadata": {},
   "source": [
    "# Checking Performance w.r.t. different values of n_estimators at depth 7"
   ]
  },
  {
   "cell_type": "code",
   "execution_count": null,
   "id": "ddc718a9",
   "metadata": {},
   "outputs": [],
   "source": []
  },
  {
   "cell_type": "code",
   "execution_count": 12,
   "id": "d5d82b45",
   "metadata": {},
   "outputs": [
    {
     "name": "stderr",
     "output_type": "stream",
     "text": [
      "C:\\Users\\Shafiq\\AppData\\Roaming\\Python\\Python39\\site-packages\\sklearn\\ensemble\\_forest.py:427: FutureWarning: `max_features='auto'` has been deprecated in 1.1 and will be removed in 1.3. To keep the past behaviour, explicitly set `max_features='sqrt'` or remove this parameter as it is also the default value for RandomForestClassifiers and ExtraTreesClassifiers.\n",
      "  warn(\n"
     ]
    },
    {
     "name": "stdout",
     "output_type": "stream",
     "text": [
      "At n_estimator=  50  train score:  0.8713699398326481  and test score:  0.4071833576697703\n"
     ]
    },
    {
     "name": "stderr",
     "output_type": "stream",
     "text": [
      "C:\\Users\\Shafiq\\AppData\\Roaming\\Python\\Python39\\site-packages\\sklearn\\ensemble\\_forest.py:427: FutureWarning: `max_features='auto'` has been deprecated in 1.1 and will be removed in 1.3. To keep the past behaviour, explicitly set `max_features='sqrt'` or remove this parameter as it is also the default value for RandomForestClassifiers and ExtraTreesClassifiers.\n",
      "  warn(\n"
     ]
    },
    {
     "name": "stdout",
     "output_type": "stream",
     "text": [
      "At n_estimator=  100  train score:  0.8714707250777481  and test score:  0.4106681201715438\n"
     ]
    },
    {
     "name": "stderr",
     "output_type": "stream",
     "text": [
      "C:\\Users\\Shafiq\\AppData\\Roaming\\Python\\Python39\\site-packages\\sklearn\\ensemble\\_forest.py:427: FutureWarning: `max_features='auto'` has been deprecated in 1.1 and will be removed in 1.3. To keep the past behaviour, explicitly set `max_features='sqrt'` or remove this parameter as it is also the default value for RandomForestClassifiers and ExtraTreesClassifiers.\n",
      "  warn(\n"
     ]
    },
    {
     "name": "stdout",
     "output_type": "stream",
     "text": [
      "At n_estimator=  150  train score:  0.8714232121577685  and test score:  0.4107570022710068\n"
     ]
    },
    {
     "name": "stderr",
     "output_type": "stream",
     "text": [
      "C:\\Users\\Shafiq\\AppData\\Roaming\\Python\\Python39\\site-packages\\sklearn\\ensemble\\_forest.py:427: FutureWarning: `max_features='auto'` has been deprecated in 1.1 and will be removed in 1.3. To keep the past behaviour, explicitly set `max_features='sqrt'` or remove this parameter as it is also the default value for RandomForestClassifiers and ExtraTreesClassifiers.\n",
      "  warn(\n"
     ]
    },
    {
     "name": "stdout",
     "output_type": "stream",
     "text": [
      "At n_estimator=  200  train score:  0.8713508200659091  and test score:  0.4151555870940467\n"
     ]
    },
    {
     "name": "stderr",
     "output_type": "stream",
     "text": [
      "C:\\Users\\Shafiq\\AppData\\Roaming\\Python\\Python39\\site-packages\\sklearn\\ensemble\\_forest.py:427: FutureWarning: `max_features='auto'` has been deprecated in 1.1 and will be removed in 1.3. To keep the past behaviour, explicitly set `max_features='sqrt'` or remove this parameter as it is also the default value for RandomForestClassifiers and ExtraTreesClassifiers.\n",
      "  warn(\n"
     ]
    },
    {
     "name": "stdout",
     "output_type": "stream",
     "text": [
      "At n_estimator=  250  train score:  0.8712689195994369  and test score:  0.4186219935671942\n"
     ]
    },
    {
     "name": "stderr",
     "output_type": "stream",
     "text": [
      "C:\\Users\\Shafiq\\AppData\\Roaming\\Python\\Python39\\site-packages\\sklearn\\ensemble\\_forest.py:427: FutureWarning: `max_features='auto'` has been deprecated in 1.1 and will be removed in 1.3. To keep the past behaviour, explicitly set `max_features='sqrt'` or remove this parameter as it is also the default value for RandomForestClassifiers and ExtraTreesClassifiers.\n",
      "  warn(\n"
     ]
    },
    {
     "name": "stdout",
     "output_type": "stream",
     "text": [
      "At n_estimator=  300  train score:  0.8711628100753347  and test score:  0.4193482811064765\n"
     ]
    },
    {
     "data": {
      "image/png": "[encoded data removed]",
      "text/plain": [
       "<Figure size 432x288 with 1 Axes>"
      ]
     },
     "metadata": {
      "needs_background": "light"
     },
     "output_type": "display_data"
    }
   ],
   "source": [
    "estimators=[50,100,150,200,250,300]\n",
    "train_sc=[]\n",
    "test_sc=[]\n",
    "\n",
    "for i in estimators:\n",
    "     \n",
    "    clf = RandomForestClassifier(bootstrap=True, class_weight=None, criterion='gini',\n",
    "            max_depth=7, max_features='auto', max_leaf_nodes=None,\n",
    "            min_impurity_decrease=0.0, \n",
    "            min_samples_leaf=52, min_samples_split=120,\n",
    "            min_weight_fraction_leaf=0.0, n_estimators=i, n_jobs=-1,random_state=25,verbose=0,warm_start=False)\n",
    "    clf.fit(x_train,y_train)\n",
    "    \n",
    "    tr_sc=f1_score(y_train,clf.predict(x_train))\n",
    "    te_sc=f1_score(y_test,clf.predict(x_test))\n",
    "    print(\"At n_estimator= \",i,\" train score: \",tr_sc,\" and test score: \",te_sc)\n",
    "    \n",
    "    train_sc.append(tr_sc)\n",
    "    test_sc.append(te_sc)\n",
    "    #print(train_sc)\n",
    "    #print(test_sc)\n",
    "    \n",
    "plt.plot(estimators,train_sc,label='Train Score')\n",
    "plt.plot(estimators,test_sc,label='Test Score')\n",
    "plt.xlabel('Estimators')\n",
    "plt.ylabel('Score')\n",
    "plt.title('Estimators vs score at depth of 7')\n",
    "plt.show()"
   ]
  },
  {
   "cell_type": "code",
   "execution_count": null,
   "id": "00e4ac38",
   "metadata": {},
   "outputs": [],
   "source": []
  },
  {
   "cell_type": "raw",
   "id": "64d95298",
   "metadata": {},
   "source": [
    "Performance improves at depth 7 with n_estimator = 300 but the model still overfits."
   ]
  },
  {
   "cell_type": "code",
   "execution_count": null,
   "id": "926466eb",
   "metadata": {},
   "outputs": [],
   "source": []
  },
  {
   "cell_type": "markdown",
   "id": "149bf1da",
   "metadata": {},
   "source": [
    "# Checking Performance w.r.t. different values of depth at n_estimators 300"
   ]
  },
  {
   "cell_type": "code",
   "execution_count": null,
   "id": "9575d720",
   "metadata": {},
   "outputs": [],
   "source": []
  },
  {
   "cell_type": "code",
   "execution_count": 13,
   "id": "6f21ea14",
   "metadata": {},
   "outputs": [
    {
     "name": "stderr",
     "output_type": "stream",
     "text": [
      "C:\\Users\\Shafiq\\AppData\\Roaming\\Python\\Python39\\site-packages\\sklearn\\ensemble\\_forest.py:427: FutureWarning: `max_features='auto'` has been deprecated in 1.1 and will be removed in 1.3. To keep the past behaviour, explicitly set `max_features='sqrt'` or remove this parameter as it is also the default value for RandomForestClassifiers and ExtraTreesClassifiers.\n",
      "  warn(\n"
     ]
    },
    {
     "name": "stdout",
     "output_type": "stream",
     "text": [
      "At depth=  5  train score:  0.8640515745956745  and test score:  0.4505768493110265\n"
     ]
    },
    {
     "name": "stderr",
     "output_type": "stream",
     "text": [
      "C:\\Users\\Shafiq\\AppData\\Roaming\\Python\\Python39\\site-packages\\sklearn\\ensemble\\_forest.py:427: FutureWarning: `max_features='auto'` has been deprecated in 1.1 and will be removed in 1.3. To keep the past behaviour, explicitly set `max_features='sqrt'` or remove this parameter as it is also the default value for RandomForestClassifiers and ExtraTreesClassifiers.\n",
      "  warn(\n"
     ]
    },
    {
     "name": "stdout",
     "output_type": "stream",
     "text": [
      "At depth=  7  train score:  0.8711628100753347  and test score:  0.4193482811064765\n"
     ]
    },
    {
     "name": "stderr",
     "output_type": "stream",
     "text": [
      "C:\\Users\\Shafiq\\AppData\\Roaming\\Python\\Python39\\site-packages\\sklearn\\ensemble\\_forest.py:427: FutureWarning: `max_features='auto'` has been deprecated in 1.1 and will be removed in 1.3. To keep the past behaviour, explicitly set `max_features='sqrt'` or remove this parameter as it is also the default value for RandomForestClassifiers and ExtraTreesClassifiers.\n",
      "  warn(\n"
     ]
    },
    {
     "name": "stdout",
     "output_type": "stream",
     "text": [
      "At depth=  9  train score:  0.8761019655019859  and test score:  0.39574942874829006\n"
     ]
    },
    {
     "name": "stderr",
     "output_type": "stream",
     "text": [
      "C:\\Users\\Shafiq\\AppData\\Roaming\\Python\\Python39\\site-packages\\sklearn\\ensemble\\_forest.py:427: FutureWarning: `max_features='auto'` has been deprecated in 1.1 and will be removed in 1.3. To keep the past behaviour, explicitly set `max_features='sqrt'` or remove this parameter as it is also the default value for RandomForestClassifiers and ExtraTreesClassifiers.\n",
      "  warn(\n"
     ]
    },
    {
     "name": "stdout",
     "output_type": "stream",
     "text": [
      "At depth=  11  train score:  0.8797500172986755  and test score:  0.35635452159949865\n"
     ]
    },
    {
     "name": "stderr",
     "output_type": "stream",
     "text": [
      "C:\\Users\\Shafiq\\AppData\\Roaming\\Python\\Python39\\site-packages\\sklearn\\ensemble\\_forest.py:427: FutureWarning: `max_features='auto'` has been deprecated in 1.1 and will be removed in 1.3. To keep the past behaviour, explicitly set `max_features='sqrt'` or remove this parameter as it is also the default value for RandomForestClassifiers and ExtraTreesClassifiers.\n",
      "  warn(\n"
     ]
    },
    {
     "name": "stdout",
     "output_type": "stream",
     "text": [
      "At depth=  13  train score:  0.8844879377588477  and test score:  0.3373644836112344\n"
     ]
    },
    {
     "name": "stderr",
     "output_type": "stream",
     "text": [
      "C:\\Users\\Shafiq\\AppData\\Roaming\\Python\\Python39\\site-packages\\sklearn\\ensemble\\_forest.py:427: FutureWarning: `max_features='auto'` has been deprecated in 1.1 and will be removed in 1.3. To keep the past behaviour, explicitly set `max_features='sqrt'` or remove this parameter as it is also the default value for RandomForestClassifiers and ExtraTreesClassifiers.\n",
      "  warn(\n"
     ]
    },
    {
     "name": "stdout",
     "output_type": "stream",
     "text": [
      "At depth=  15  train score:  0.8863041234379277  and test score:  0.327200239210605\n"
     ]
    },
    {
     "data": {
      "image/png": "[encoded data removed]",
      "text/plain": [
       "<Figure size 432x288 with 1 Axes>"
      ]
     },
     "metadata": {
      "needs_background": "light"
     },
     "output_type": "display_data"
    }
   ],
   "source": [
    "depth=[5,7,9,11,13,15]\n",
    "train_sc=[]\n",
    "test_sc=[]\n",
    "\n",
    "for i in depth:\n",
    "     \n",
    "    clf = RandomForestClassifier(bootstrap=True, class_weight=None, criterion='gini',\n",
    "            max_depth=i, max_features='auto', max_leaf_nodes=None,\n",
    "            min_impurity_decrease=0.0, \n",
    "            min_samples_leaf=52, min_samples_split=120,\n",
    "            min_weight_fraction_leaf=0.0, n_estimators=300, n_jobs=-1,random_state=25,verbose=0,warm_start=False)\n",
    "    clf.fit(x_train,y_train)\n",
    "    \n",
    "    tr_sc=f1_score(y_train,clf.predict(x_train))\n",
    "    te_sc=f1_score(y_test,clf.predict(x_test))\n",
    "    print(\"At depth= \",i,\" train score: \",tr_sc,\" and test score: \",te_sc)\n",
    "    \n",
    "    train_sc.append(tr_sc)\n",
    "    test_sc.append(te_sc)\n",
    "    #print(train_sc)\n",
    "    #print(test_sc)\n",
    "    \n",
    "plt.plot(depth,train_sc,label='Train Score')\n",
    "plt.plot(depth,test_sc,label='Test Score')\n",
    "plt.xlabel('Depth')\n",
    "plt.ylabel('Score')\n",
    "plt.title('Depth vs score at estimators of 300')\n",
    "plt.show()"
   ]
  },
  {
   "cell_type": "code",
   "execution_count": null,
   "id": "562df4fa",
   "metadata": {},
   "outputs": [],
   "source": []
  },
  {
   "cell_type": "raw",
   "id": "98a7169e",
   "metadata": {},
   "source": [
    "Model best performs at depth 5 with n_estimators=300, however it still overfits with a large margin"
   ]
  },
  {
   "cell_type": "code",
   "execution_count": null,
   "id": "8eae01c0",
   "metadata": {},
   "outputs": [],
   "source": []
  },
  {
   "cell_type": "code",
   "execution_count": 14,
   "id": "92aac4a7",
   "metadata": {},
   "outputs": [
    {
     "name": "stderr",
     "output_type": "stream",
     "text": [
      "C:\\Users\\Shafiq\\AppData\\Roaming\\Python\\Python39\\site-packages\\sklearn\\ensemble\\_forest.py:427: FutureWarning: `max_features='auto'` has been deprecated in 1.1 and will be removed in 1.3. To keep the past behaviour, explicitly set `max_features='sqrt'` or remove this parameter as it is also the default value for RandomForestClassifiers and ExtraTreesClassifiers.\n",
      "  warn(\n"
     ]
    },
    {
     "name": "stdout",
     "output_type": "stream",
     "text": [
      "F1_score from train:  0.8640206215333087\n",
      "F1_score from test:  0.43131453504878886\n"
     ]
    }
   ],
   "source": [
    "# Evaluating performance of Model with n_estimator=450 and depth=5\n",
    "\n",
    "clf = RandomForestClassifier(bootstrap=True, class_weight=None, criterion='gini',\n",
    "      max_depth=5, max_features='auto', n_estimators=450,random_state=20)\n",
    "\n",
    "clf.fit(x_train,y_train)\n",
    "    \n",
    "tr_sc=f1_score(y_train,clf.predict(x_train))\n",
    "te_sc=f1_score(y_test,clf.predict(x_test))\n",
    "\n",
    "\n",
    "print(\"F1_score from train: \",tr_sc)\n",
    "print(\"F1_score from test: \",te_sc)"
   ]
  },
  {
   "cell_type": "code",
   "execution_count": null,
   "id": "eb671c85",
   "metadata": {},
   "outputs": [],
   "source": []
  },
  {
   "cell_type": "raw",
   "id": "d4789d43",
   "metadata": {},
   "source": [
    "Performance degrades a bit with n_estimator=450 with depth 7"
   ]
  },
  {
   "cell_type": "code",
   "execution_count": null,
   "id": "33a62b3d",
   "metadata": {},
   "outputs": [],
   "source": []
  },
  {
   "cell_type": "markdown",
   "id": "5308b763",
   "metadata": {},
   "source": [
    "# Checking for correlation between the features of the train and test dataset"
   ]
  },
  {
   "cell_type": "code",
   "execution_count": null,
   "id": "b6dba6b2",
   "metadata": {},
   "outputs": [],
   "source": []
  },
  {
   "cell_type": "markdown",
   "id": "b585673e",
   "metadata": {},
   "source": [
    "# Train"
   ]
  },
  {
   "cell_type": "code",
   "execution_count": null,
   "id": "3950a563",
   "metadata": {},
   "outputs": [],
   "source": []
  },
  {
   "cell_type": "code",
   "execution_count": 15,
   "id": "4a5d8a2f",
   "metadata": {},
   "outputs": [
    {
     "data": {
      "image/png": "[encoded data removed]",
      "text/plain": [
       "<Figure size 1152x1800 with 2 Axes>"
      ]
     },
     "metadata": {
      "needs_background": "light"
     },
     "output_type": "display_data"
    }
   ],
   "source": [
    "plt.figure(figsize=(16,25))\n",
    "corr=train.corr()\n",
    "\n",
    "sns.heatmap(corr,xticklabels=corr.columns,yticklabels=corr.columns,annot=True)\n",
    "\n",
    "plt.show()"
   ]
  },
  {
   "cell_type": "code",
   "execution_count": null,
   "id": "2ef4f3bd",
   "metadata": {},
   "outputs": [],
   "source": []
  },
  {
   "cell_type": "markdown",
   "id": "381eab22",
   "metadata": {},
   "source": [
    "# Test"
   ]
  },
  {
   "cell_type": "code",
   "execution_count": null,
   "id": "33c3d334",
   "metadata": {},
   "outputs": [],
   "source": []
  },
  {
   "cell_type": "code",
   "execution_count": 3,
   "id": "1446a104",
   "metadata": {},
   "outputs": [
    {
     "data": {
      "image/png": "[encoded data removed]",
      "text/plain": [
       "<Figure size 1152x1800 with 2 Axes>"
      ]
     },
     "metadata": {
      "needs_background": "light"
     },
     "output_type": "display_data"
    }
   ],
   "source": [
    "plt.figure(figsize=(16,25))\n",
    "corr=test.corr()\n",
    "\n",
    "sns.heatmap(corr,xticklabels=corr.columns,yticklabels=corr.columns,annot=True)\n",
    "\n",
    "plt.show()"
   ]
  },
  {
   "cell_type": "code",
   "execution_count": null,
   "id": "285b07f2",
   "metadata": {},
   "outputs": [],
   "source": []
  },
  {
   "cell_type": "raw",
   "id": "19d36980",
   "metadata": {},
   "source": [
    "It is observed that  there is no corelation betwwn link_indicator(Independent Feature) and some features namely: \n",
    "\"same_comp\",\"hub_dest\", \"auth_dest\",\"hub_source\",\"auth_source\",\"cosine_followers\",\"cosine_followees\" "
   ]
  },
  {
   "cell_type": "code",
   "execution_count": null,
   "id": "8c162aaa",
   "metadata": {},
   "outputs": [],
   "source": []
  },
  {
   "cell_type": "raw",
   "id": "2c51a026",
   "metadata": {},
   "source": [
    "Therefore the above mentioned features are temporarily removed in order to reduce complexity of data which might lead to\n",
    "better performance of  model. The new dataset is segregated into x_train1,y_train1,x_test1 and y_test1"
   ]
  },
  {
   "cell_type": "code",
   "execution_count": null,
   "id": "24f20609",
   "metadata": {},
   "outputs": [],
   "source": []
  },
  {
   "cell_type": "code",
   "execution_count": 9,
   "id": "08dfa934",
   "metadata": {},
   "outputs": [
    {
     "name": "stdout",
     "output_type": "stream",
     "text": [
      "x_train1:  (1677720, 21)\n",
      "y_train1:  (1677720,)\n",
      "x_test1:  (419430, 21)\n",
      "y_test1:  (419430,)\n"
     ]
    }
   ],
   "source": [
    "x_train1=train.drop([\"source_node\",\"destination_node\",\"link_indicator\",\"same_comp\",\"hub_dest\",\n",
    "                    \"auth_dest\",\"hub_source\",\"auth_source\",\"cosine_followers\",\"cosine_followees\"],axis=1)\n",
    "\n",
    "y_train1=train[\"link_indicator\"]\n",
    "\n",
    "x_test1=test.drop([\"source_node\",\"destination_node\",\"link_indicator\",\"same_comp\",\"hub_dest\",\n",
    "                     \"auth_dest\",\"hub_source\",\"auth_source\",\"cosine_followers\",\"cosine_followees\"],axis=1)\n",
    "\n",
    "y_test1=test[\"link_indicator\"]\n",
    "\n",
    "print(\"x_train1: \",x_train1.shape)\n",
    "print(\"y_train1: \",y_train1.shape)\n",
    "print(\"x_test1: \",x_test1.shape)\n",
    "print(\"y_test1: \",y_test1.shape)"
   ]
  },
  {
   "cell_type": "code",
   "execution_count": null,
   "id": "b067fdb5",
   "metadata": {},
   "outputs": [],
   "source": []
  },
  {
   "cell_type": "code",
   "execution_count": 17,
   "id": "bec783ac",
   "metadata": {},
   "outputs": [
    {
     "name": "stderr",
     "output_type": "stream",
     "text": [
      "C:\\Users\\Shafiq\\AppData\\Roaming\\Python\\Python39\\site-packages\\sklearn\\ensemble\\_forest.py:427: FutureWarning: `max_features='auto'` has been deprecated in 1.1 and will be removed in 1.3. To keep the past behaviour, explicitly set `max_features='sqrt'` or remove this parameter as it is also the default value for RandomForestClassifiers and ExtraTreesClassifiers.\n",
      "  warn(\n"
     ]
    },
    {
     "name": "stdout",
     "output_type": "stream",
     "text": [
      "F1_score from train:  0.8637868001478576\n",
      "F1_score from test:  0.45302695536897924\n"
     ]
    }
   ],
   "source": [
    "clf = RandomForestClassifier(bootstrap=True, class_weight=None, criterion='gini',\n",
    "      max_depth=5, max_features='auto', n_estimators=450,random_state=20)\n",
    "\n",
    "clf.fit(x_train1,y_train1)\n",
    "    \n",
    "tr_sc=f1_score(y_train1,clf.predict(x_train1))\n",
    "te_sc=f1_score(y_test1,clf.predict(x_test1))\n",
    "\n",
    "\n",
    "print(\"F1_score from train: \",tr_sc)\n",
    "print(\"F1_score from test: \",te_sc)"
   ]
  },
  {
   "cell_type": "code",
   "execution_count": null,
   "id": "768022c4",
   "metadata": {},
   "outputs": [],
   "source": []
  },
  {
   "cell_type": "raw",
   "id": "877fd360",
   "metadata": {},
   "source": [
    "Performance of model has become much better on the new dataset"
   ]
  },
  {
   "cell_type": "code",
   "execution_count": null,
   "id": "e6f2a3aa",
   "metadata": {},
   "outputs": [],
   "source": []
  },
  {
   "cell_type": "markdown",
   "id": "de960e37",
   "metadata": {},
   "source": [
    "# Checking Performance w.r.t. different values of depth at n_estimators 450"
   ]
  },
  {
   "cell_type": "code",
   "execution_count": null,
   "id": "6d54d3f9",
   "metadata": {},
   "outputs": [],
   "source": []
  },
  {
   "cell_type": "code",
   "execution_count": 8,
   "id": "1a694065",
   "metadata": {},
   "outputs": [
    {
     "name": "stderr",
     "output_type": "stream",
     "text": [
      "C:\\Users\\Shafiq\\AppData\\Roaming\\Python\\Python39\\site-packages\\sklearn\\ensemble\\_forest.py:427: FutureWarning: `max_features='auto'` has been deprecated in 1.1 and will be removed in 1.3. To keep the past behaviour, explicitly set `max_features='sqrt'` or remove this parameter as it is also the default value for RandomForestClassifiers and ExtraTreesClassifiers.\n",
      "  warn(\n"
     ]
    },
    {
     "name": "stdout",
     "output_type": "stream",
     "text": [
      "At depth=  1  train score:  0.8350375783264629  and test score:  0.45513433853530855\n"
     ]
    },
    {
     "name": "stderr",
     "output_type": "stream",
     "text": [
      "C:\\Users\\Shafiq\\AppData\\Roaming\\Python\\Python39\\site-packages\\sklearn\\ensemble\\_forest.py:427: FutureWarning: `max_features='auto'` has been deprecated in 1.1 and will be removed in 1.3. To keep the past behaviour, explicitly set `max_features='sqrt'` or remove this parameter as it is also the default value for RandomForestClassifiers and ExtraTreesClassifiers.\n",
      "  warn(\n"
     ]
    },
    {
     "name": "stdout",
     "output_type": "stream",
     "text": [
      "At depth=  2  train score:  0.838774819557173  and test score:  0.45584231413317106\n"
     ]
    },
    {
     "name": "stderr",
     "output_type": "stream",
     "text": [
      "C:\\Users\\Shafiq\\AppData\\Roaming\\Python\\Python39\\site-packages\\sklearn\\ensemble\\_forest.py:427: FutureWarning: `max_features='auto'` has been deprecated in 1.1 and will be removed in 1.3. To keep the past behaviour, explicitly set `max_features='sqrt'` or remove this parameter as it is also the default value for RandomForestClassifiers and ExtraTreesClassifiers.\n",
      "  warn(\n"
     ]
    },
    {
     "name": "stdout",
     "output_type": "stream",
     "text": [
      "At depth=  3  train score:  0.8505230370145949  and test score:  0.44685258140384954\n"
     ]
    },
    {
     "name": "stderr",
     "output_type": "stream",
     "text": [
      "C:\\Users\\Shafiq\\AppData\\Roaming\\Python\\Python39\\site-packages\\sklearn\\ensemble\\_forest.py:427: FutureWarning: `max_features='auto'` has been deprecated in 1.1 and will be removed in 1.3. To keep the past behaviour, explicitly set `max_features='sqrt'` or remove this parameter as it is also the default value for RandomForestClassifiers and ExtraTreesClassifiers.\n",
      "  warn(\n"
     ]
    },
    {
     "name": "stdout",
     "output_type": "stream",
     "text": [
      "At depth=  4  train score:  0.8590363905601992  and test score:  0.4360016238421744\n"
     ]
    },
    {
     "name": "stderr",
     "output_type": "stream",
     "text": [
      "C:\\Users\\Shafiq\\AppData\\Roaming\\Python\\Python39\\site-packages\\sklearn\\ensemble\\_forest.py:427: FutureWarning: `max_features='auto'` has been deprecated in 1.1 and will be removed in 1.3. To keep the past behaviour, explicitly set `max_features='sqrt'` or remove this parameter as it is also the default value for RandomForestClassifiers and ExtraTreesClassifiers.\n",
      "  warn(\n"
     ]
    },
    {
     "name": "stdout",
     "output_type": "stream",
     "text": [
      "At depth=  5  train score:  0.8638787858718429  and test score:  0.4556080778080822\n"
     ]
    },
    {
     "data": {
      "image/png": "[encoded data removed]",
      "text/plain": [
       "<Figure size 432x288 with 1 Axes>"
      ]
     },
     "metadata": {
      "needs_background": "light"
     },
     "output_type": "display_data"
    }
   ],
   "source": [
    "depth=[1,2,3,4,5]\n",
    "train_sc=[]\n",
    "test_sc=[]\n",
    "\n",
    "for i in depth:\n",
    "     \n",
    "    clf = RandomForestClassifier(bootstrap=True, class_weight=None, criterion='gini',\n",
    "            max_depth=i, max_features='auto', max_leaf_nodes=None,\n",
    "            min_impurity_decrease=0.0, \n",
    "            min_samples_leaf=52, min_samples_split=120,\n",
    "            min_weight_fraction_leaf=0.0, n_estimators=450, n_jobs=-1,random_state=25,verbose=0,warm_start=False)\n",
    "    clf.fit(x_train1,y_train1)\n",
    "    \n",
    "    tr_sc=f1_score(y_train1,clf.predict(x_train1))\n",
    "    te_sc=f1_score(y_test1,clf.predict(x_test1))\n",
    "    print(\"At depth= \",i,\" train score: \",tr_sc,\" and test score: \",te_sc)\n",
    "    \n",
    "    train_sc.append(tr_sc)\n",
    "    test_sc.append(te_sc)\n",
    "    #print(train_sc)\n",
    "    #print(test_sc)\n",
    "    \n",
    "plt.plot(depth,train_sc,label='Train Score')\n",
    "plt.plot(depth,test_sc,label='Test Score')\n",
    "plt.xlabel('Depth')\n",
    "plt.ylabel('Score')\n",
    "plt.title('Depth vs score at estimators of 300')\n",
    "plt.show()"
   ]
  },
  {
   "cell_type": "code",
   "execution_count": null,
   "id": "81478253",
   "metadata": {},
   "outputs": [],
   "source": []
  },
  {
   "cell_type": "raw",
   "id": "3ca75ee1",
   "metadata": {},
   "source": [
    "Model performs best at depth=5"
   ]
  },
  {
   "cell_type": "code",
   "execution_count": null,
   "id": "12c65474",
   "metadata": {},
   "outputs": [],
   "source": []
  },
  {
   "cell_type": "markdown",
   "id": "f07f4b8c",
   "metadata": {},
   "source": [
    "# Trying with larger values of depth"
   ]
  },
  {
   "cell_type": "code",
   "execution_count": null,
   "id": "4fa889d7",
   "metadata": {},
   "outputs": [],
   "source": []
  },
  {
   "cell_type": "code",
   "execution_count": 9,
   "id": "314666bf",
   "metadata": {},
   "outputs": [
    {
     "name": "stderr",
     "output_type": "stream",
     "text": [
      "C:\\Users\\Shafiq\\AppData\\Roaming\\Python\\Python39\\site-packages\\sklearn\\ensemble\\_forest.py:427: FutureWarning: `max_features='auto'` has been deprecated in 1.1 and will be removed in 1.3. To keep the past behaviour, explicitly set `max_features='sqrt'` or remove this parameter as it is also the default value for RandomForestClassifiers and ExtraTreesClassifiers.\n",
      "  warn(\n"
     ]
    },
    {
     "name": "stdout",
     "output_type": "stream",
     "text": [
      "At depth=  6  train score:  0.8703567786726587  and test score:  0.4437084129877443\n"
     ]
    },
    {
     "name": "stderr",
     "output_type": "stream",
     "text": [
      "C:\\Users\\Shafiq\\AppData\\Roaming\\Python\\Python39\\site-packages\\sklearn\\ensemble\\_forest.py:427: FutureWarning: `max_features='auto'` has been deprecated in 1.1 and will be removed in 1.3. To keep the past behaviour, explicitly set `max_features='sqrt'` or remove this parameter as it is also the default value for RandomForestClassifiers and ExtraTreesClassifiers.\n",
      "  warn(\n"
     ]
    },
    {
     "name": "stdout",
     "output_type": "stream",
     "text": [
      "At depth=  7  train score:  0.8716226642467172  and test score:  0.4251377309736239\n"
     ]
    },
    {
     "name": "stderr",
     "output_type": "stream",
     "text": [
      "C:\\Users\\Shafiq\\AppData\\Roaming\\Python\\Python39\\site-packages\\sklearn\\ensemble\\_forest.py:427: FutureWarning: `max_features='auto'` has been deprecated in 1.1 and will be removed in 1.3. To keep the past behaviour, explicitly set `max_features='sqrt'` or remove this parameter as it is also the default value for RandomForestClassifiers and ExtraTreesClassifiers.\n",
      "  warn(\n"
     ]
    },
    {
     "name": "stdout",
     "output_type": "stream",
     "text": [
      "At depth=  8  train score:  0.8746976708347067  and test score:  0.3998445104174209\n"
     ]
    },
    {
     "name": "stderr",
     "output_type": "stream",
     "text": [
      "C:\\Users\\Shafiq\\AppData\\Roaming\\Python\\Python39\\site-packages\\sklearn\\ensemble\\_forest.py:427: FutureWarning: `max_features='auto'` has been deprecated in 1.1 and will be removed in 1.3. To keep the past behaviour, explicitly set `max_features='sqrt'` or remove this parameter as it is also the default value for RandomForestClassifiers and ExtraTreesClassifiers.\n",
      "  warn(\n"
     ]
    },
    {
     "name": "stdout",
     "output_type": "stream",
     "text": [
      "At depth=  9  train score:  0.8765205197513083  and test score:  0.3910600823171433\n"
     ]
    },
    {
     "name": "stderr",
     "output_type": "stream",
     "text": [
      "C:\\Users\\Shafiq\\AppData\\Roaming\\Python\\Python39\\site-packages\\sklearn\\ensemble\\_forest.py:427: FutureWarning: `max_features='auto'` has been deprecated in 1.1 and will be removed in 1.3. To keep the past behaviour, explicitly set `max_features='sqrt'` or remove this parameter as it is also the default value for RandomForestClassifiers and ExtraTreesClassifiers.\n",
      "  warn(\n"
     ]
    },
    {
     "name": "stdout",
     "output_type": "stream",
     "text": [
      "At depth=  10  train score:  0.8788567406704715  and test score:  0.3708217540482216\n"
     ]
    },
    {
     "data": {
      "image/png": "[encoded data removed]",
      "text/plain": [
       "<Figure size 432x288 with 1 Axes>"
      ]
     },
     "metadata": {
      "needs_background": "light"
     },
     "output_type": "display_data"
    }
   ],
   "source": [
    "depth=[6,7,8,9,10]\n",
    "train_sc=[]\n",
    "test_sc=[]\n",
    "\n",
    "for i in depth:\n",
    "     \n",
    "    clf = RandomForestClassifier(bootstrap=True, class_weight=None, criterion='gini',\n",
    "            max_depth=i, max_features='auto', max_leaf_nodes=None,\n",
    "            min_impurity_decrease=0.0, \n",
    "            min_samples_leaf=52, min_samples_split=120,\n",
    "            min_weight_fraction_leaf=0.0, n_estimators=450, n_jobs=-1,random_state=25,verbose=0,warm_start=False)\n",
    "    clf.fit(x_train1,y_train1)\n",
    "    \n",
    "    tr_sc=f1_score(y_train1,clf.predict(x_train1))\n",
    "    te_sc=f1_score(y_test1,clf.predict(x_test1))\n",
    "    print(\"At depth= \",i,\" train score: \",tr_sc,\" and test score: \",te_sc)\n",
    "    \n",
    "    train_sc.append(tr_sc)\n",
    "    test_sc.append(te_sc)\n",
    "    #print(train_sc)\n",
    "    #print(test_sc)\n",
    "    \n",
    "plt.plot(depth,train_sc,label='Train Score')\n",
    "plt.plot(depth,test_sc,label='Test Score')\n",
    "plt.xlabel('Depth')\n",
    "plt.ylabel('Score')\n",
    "plt.title('Depth vs score at estimators of 300')\n",
    "plt.show()"
   ]
  },
  {
   "cell_type": "code",
   "execution_count": null,
   "id": "fe989cd2",
   "metadata": {},
   "outputs": [],
   "source": []
  },
  {
   "cell_type": "raw",
   "id": "574aa26d",
   "metadata": {},
   "source": [
    "Model performance has decreased with further increase in depth"
   ]
  },
  {
   "cell_type": "code",
   "execution_count": null,
   "id": "3bc85aec",
   "metadata": {},
   "outputs": [],
   "source": []
  },
  {
   "cell_type": "markdown",
   "id": "d945428a",
   "metadata": {},
   "source": [
    "# Trying with greater value of n_estimators at depth 5"
   ]
  },
  {
   "cell_type": "code",
   "execution_count": null,
   "id": "5b9aa59b",
   "metadata": {},
   "outputs": [],
   "source": []
  },
  {
   "cell_type": "code",
   "execution_count": 10,
   "id": "cf54987e",
   "metadata": {},
   "outputs": [
    {
     "name": "stderr",
     "output_type": "stream",
     "text": [
      "C:\\Users\\Shafiq\\AppData\\Roaming\\Python\\Python39\\site-packages\\sklearn\\ensemble\\_forest.py:427: FutureWarning: `max_features='auto'` has been deprecated in 1.1 and will be removed in 1.3. To keep the past behaviour, explicitly set `max_features='sqrt'` or remove this parameter as it is also the default value for RandomForestClassifiers and ExtraTreesClassifiers.\n",
      "  warn(\n"
     ]
    },
    {
     "name": "stdout",
     "output_type": "stream",
     "text": [
      "At n_estimator=  460  train score:  0.8639002164674716  and test score:  0.4554474372029247\n"
     ]
    },
    {
     "name": "stderr",
     "output_type": "stream",
     "text": [
      "C:\\Users\\Shafiq\\AppData\\Roaming\\Python\\Python39\\site-packages\\sklearn\\ensemble\\_forest.py:427: FutureWarning: `max_features='auto'` has been deprecated in 1.1 and will be removed in 1.3. To keep the past behaviour, explicitly set `max_features='sqrt'` or remove this parameter as it is also the default value for RandomForestClassifiers and ExtraTreesClassifiers.\n",
      "  warn(\n"
     ]
    },
    {
     "name": "stdout",
     "output_type": "stream",
     "text": [
      "At n_estimator=  470  train score:  0.8638969895409121  and test score:  0.4608503904704693\n"
     ]
    },
    {
     "name": "stderr",
     "output_type": "stream",
     "text": [
      "C:\\Users\\Shafiq\\AppData\\Roaming\\Python\\Python39\\site-packages\\sklearn\\ensemble\\_forest.py:427: FutureWarning: `max_features='auto'` has been deprecated in 1.1 and will be removed in 1.3. To keep the past behaviour, explicitly set `max_features='sqrt'` or remove this parameter as it is also the default value for RandomForestClassifiers and ExtraTreesClassifiers.\n",
      "  warn(\n"
     ]
    },
    {
     "name": "stdout",
     "output_type": "stream",
     "text": [
      "At n_estimator=  480  train score:  0.8637138459671324  and test score:  0.4593757218651345\n"
     ]
    },
    {
     "name": "stderr",
     "output_type": "stream",
     "text": [
      "C:\\Users\\Shafiq\\AppData\\Roaming\\Python\\Python39\\site-packages\\sklearn\\ensemble\\_forest.py:427: FutureWarning: `max_features='auto'` has been deprecated in 1.1 and will be removed in 1.3. To keep the past behaviour, explicitly set `max_features='sqrt'` or remove this parameter as it is also the default value for RandomForestClassifiers and ExtraTreesClassifiers.\n",
      "  warn(\n"
     ]
    },
    {
     "name": "stdout",
     "output_type": "stream",
     "text": [
      "At n_estimator=  490  train score:  0.8638950915413515  and test score:  0.45947907958995116\n"
     ]
    },
    {
     "name": "stderr",
     "output_type": "stream",
     "text": [
      "C:\\Users\\Shafiq\\AppData\\Roaming\\Python\\Python39\\site-packages\\sklearn\\ensemble\\_forest.py:427: FutureWarning: `max_features='auto'` has been deprecated in 1.1 and will be removed in 1.3. To keep the past behaviour, explicitly set `max_features='sqrt'` or remove this parameter as it is also the default value for RandomForestClassifiers and ExtraTreesClassifiers.\n",
      "  warn(\n"
     ]
    },
    {
     "name": "stdout",
     "output_type": "stream",
     "text": [
      "At n_estimator=  500  train score:  0.8639011558331183  and test score:  0.4604026058727402\n"
     ]
    },
    {
     "data": {
      "image/png": "[encoded data removed]",
      "text/plain": [
       "<Figure size 432x288 with 1 Axes>"
      ]
     },
     "metadata": {
      "needs_background": "light"
     },
     "output_type": "display_data"
    }
   ],
   "source": [
    "estimators=[460,470,480,490,500]\n",
    "train_sc=[]\n",
    "test_sc=[]\n",
    "\n",
    "for i in estimators:\n",
    "     \n",
    "    clf = RandomForestClassifier(bootstrap=True, class_weight=None, criterion='gini',\n",
    "            max_depth=5, max_features='auto', max_leaf_nodes=None,\n",
    "            min_impurity_decrease=0.0, \n",
    "            min_samples_leaf=52, min_samples_split=120,\n",
    "            min_weight_fraction_leaf=0.0, n_estimators=i, n_jobs=-1,random_state=25,verbose=0,warm_start=False)\n",
    "    clf.fit(x_train1,y_train1)\n",
    "    \n",
    "    tr_sc=f1_score(y_train1,clf.predict(x_train1))\n",
    "    te_sc=f1_score(y_test1,clf.predict(x_test1))\n",
    "    print(\"At n_estimator= \",i,\" train score: \",tr_sc,\" and test score: \",te_sc)\n",
    "    \n",
    "    train_sc.append(tr_sc)\n",
    "    test_sc.append(te_sc)\n",
    "    #print(train_sc)\n",
    "    #print(test_sc)\n",
    "    \n",
    "plt.plot(estimators,train_sc,label='Train Score')\n",
    "plt.plot(estimators,test_sc,label='Test Score')\n",
    "plt.xlabel('Estimators')\n",
    "plt.ylabel('Score')\n",
    "plt.title('Estimators vs score at depth of 2')\n",
    "plt.show()"
   ]
  },
  {
   "cell_type": "code",
   "execution_count": null,
   "id": "b5a98cd1",
   "metadata": {},
   "outputs": [],
   "source": []
  },
  {
   "cell_type": "raw",
   "id": "d8638881",
   "metadata": {},
   "source": [
    "Performance is bettering trying for greater values of n_estimators"
   ]
  },
  {
   "cell_type": "code",
   "execution_count": null,
   "id": "c0fb3c6a",
   "metadata": {},
   "outputs": [],
   "source": []
  },
  {
   "cell_type": "code",
   "execution_count": 11,
   "id": "46c83cb7",
   "metadata": {},
   "outputs": [
    {
     "name": "stderr",
     "output_type": "stream",
     "text": [
      "C:\\Users\\Shafiq\\AppData\\Roaming\\Python\\Python39\\site-packages\\sklearn\\ensemble\\_forest.py:427: FutureWarning: `max_features='auto'` has been deprecated in 1.1 and will be removed in 1.3. To keep the past behaviour, explicitly set `max_features='sqrt'` or remove this parameter as it is also the default value for RandomForestClassifiers and ExtraTreesClassifiers.\n",
      "  warn(\n"
     ]
    },
    {
     "name": "stdout",
     "output_type": "stream",
     "text": [
      "At n_estimator=  525  train score:  0.839154237899089  and test score:  0.45532490478477144\n"
     ]
    },
    {
     "name": "stderr",
     "output_type": "stream",
     "text": [
      "C:\\Users\\Shafiq\\AppData\\Roaming\\Python\\Python39\\site-packages\\sklearn\\ensemble\\_forest.py:427: FutureWarning: `max_features='auto'` has been deprecated in 1.1 and will be removed in 1.3. To keep the past behaviour, explicitly set `max_features='sqrt'` or remove this parameter as it is also the default value for RandomForestClassifiers and ExtraTreesClassifiers.\n",
      "  warn(\n"
     ]
    },
    {
     "name": "stdout",
     "output_type": "stream",
     "text": [
      "At n_estimator=  550  train score:  0.8389771183913117  and test score:  0.45543051940911256\n"
     ]
    },
    {
     "name": "stderr",
     "output_type": "stream",
     "text": [
      "C:\\Users\\Shafiq\\AppData\\Roaming\\Python\\Python39\\site-packages\\sklearn\\ensemble\\_forest.py:427: FutureWarning: `max_features='auto'` has been deprecated in 1.1 and will be removed in 1.3. To keep the past behaviour, explicitly set `max_features='sqrt'` or remove this parameter as it is also the default value for RandomForestClassifiers and ExtraTreesClassifiers.\n",
      "  warn(\n"
     ]
    },
    {
     "name": "stdout",
     "output_type": "stream",
     "text": [
      "At n_estimator=  575  train score:  0.8394146815367506  and test score:  0.4546138074960847\n"
     ]
    },
    {
     "data": {
      "image/png": "[encoded data removed]",
      "text/plain": [
       "<Figure size 432x288 with 1 Axes>"
      ]
     },
     "metadata": {
      "needs_background": "light"
     },
     "output_type": "display_data"
    }
   ],
   "source": [
    "estimators=[525,550,575]\n",
    "train_sc=[]\n",
    "test_sc=[]\n",
    "\n",
    "for i in estimators:\n",
    "     \n",
    "    clf = RandomForestClassifier(bootstrap=True, class_weight=None, criterion='gini',\n",
    "            max_depth=2, max_features='auto', max_leaf_nodes=None,\n",
    "            min_impurity_decrease=0.0, \n",
    "            min_samples_leaf=52, min_samples_split=120,\n",
    "            min_weight_fraction_leaf=0.0, n_estimators=i, n_jobs=-1,random_state=25,verbose=0,warm_start=False)\n",
    "    clf.fit(x_train1,y_train1)\n",
    "    \n",
    "    tr_sc=f1_score(y_train1,clf.predict(x_train1))\n",
    "    te_sc=f1_score(y_test1,clf.predict(x_test1))\n",
    "    print(\"At n_estimator= \",i,\" train score: \",tr_sc,\" and test score: \",te_sc)\n",
    "    \n",
    "    train_sc.append(tr_sc)\n",
    "    test_sc.append(te_sc)\n",
    "    #print(train_sc)\n",
    "    #print(test_sc)\n",
    "    \n",
    "plt.plot(estimators,train_sc,label='Train Score')\n",
    "plt.plot(estimators,test_sc,label='Test Score')\n",
    "plt.xlabel('Estimators')\n",
    "plt.ylabel('Score')\n",
    "plt.title('Estimators vs score at depth of 2')\n",
    "plt.show()"
   ]
  },
  {
   "cell_type": "code",
   "execution_count": null,
   "id": "58a63080",
   "metadata": {},
   "outputs": [],
   "source": []
  },
  {
   "cell_type": "raw",
   "id": "ad392fd7",
   "metadata": {},
   "source": [
    "Performance has degraded with further increase in estimators"
   ]
  },
  {
   "cell_type": "code",
   "execution_count": null,
   "id": "0c48b7a5",
   "metadata": {},
   "outputs": [],
   "source": []
  },
  {
   "cell_type": "code",
   "execution_count": 28,
   "id": "1d90bb67",
   "metadata": {},
   "outputs": [
    {
     "name": "stderr",
     "output_type": "stream",
     "text": [
      "C:\\Users\\Shafiq\\AppData\\Roaming\\Python\\Python39\\site-packages\\sklearn\\ensemble\\_forest.py:427: FutureWarning: `max_features='auto'` has been deprecated in 1.1 and will be removed in 1.3. To keep the past behaviour, explicitly set `max_features='sqrt'` or remove this parameter as it is also the default value for RandomForestClassifiers and ExtraTreesClassifiers.\n",
      "  warn(\n"
     ]
    },
    {
     "name": "stdout",
     "output_type": "stream",
     "text": [
      "Tain Score:  0.8639011558331183\n",
      "Test Score:  0.4604026058727402\n"
     ]
    }
   ],
   "source": [
    "clf = RandomForestClassifier(bootstrap=True, class_weight=None, criterion='gini',\n",
    "            max_depth=5, max_features='sqrt', max_leaf_nodes=None,\n",
    "            min_impurity_decrease=0.0, \n",
    "            min_samples_leaf=52, min_samples_split=120,\n",
    "            min_weight_fraction_leaf=0.0, n_estimators=500, n_jobs=-1,random_state=25,verbose=0,warm_start=False)\n",
    "\n",
    "clf.fit(x_train1,y_train1)\n",
    "    \n",
    "tr_sc=f1_score(y_train1,clf.predict(x_train1))\n",
    "te_sc=f1_score(y_test1,clf.predict(x_test1))\n",
    "\n",
    "print(\"Tain Score: \",tr_sc)\n",
    "print(\"Test Score: \",te_sc)"
   ]
  },
  {
   "cell_type": "code",
   "execution_count": null,
   "id": "e6681690",
   "metadata": {},
   "outputs": [],
   "source": []
  },
  {
   "cell_type": "raw",
   "id": "a1bee9a8",
   "metadata": {},
   "source": [
    "Test accuracy has become better but still it is overfitting"
   ]
  },
  {
   "cell_type": "code",
   "execution_count": null,
   "id": "69f2d14b",
   "metadata": {},
   "outputs": [],
   "source": []
  },
  {
   "cell_type": "markdown",
   "id": "635578fd",
   "metadata": {},
   "source": [
    "#  Decision Tree"
   ]
  },
  {
   "cell_type": "code",
   "execution_count": null,
   "id": "8d9aa38d",
   "metadata": {},
   "outputs": [],
   "source": []
  },
  {
   "cell_type": "code",
   "execution_count": 14,
   "id": "2c799e0c",
   "metadata": {},
   "outputs": [],
   "source": [
    "from sklearn.tree import DecisionTreeClassifier"
   ]
  },
  {
   "cell_type": "code",
   "execution_count": null,
   "id": "a6d4006a",
   "metadata": {},
   "outputs": [],
   "source": []
  },
  {
   "cell_type": "markdown",
   "id": "59f1f942",
   "metadata": {},
   "source": [
    "# with default values of Parameters"
   ]
  },
  {
   "cell_type": "code",
   "execution_count": null,
   "id": "6ef1f2fc",
   "metadata": {},
   "outputs": [],
   "source": []
  },
  {
   "cell_type": "code",
   "execution_count": 30,
   "id": "74bfc3fe",
   "metadata": {},
   "outputs": [
    {
     "name": "stderr",
     "output_type": "stream",
     "text": [
      "C:\\Users\\Shafiq\\AppData\\Roaming\\Python\\Python39\\site-packages\\sklearn\\tree\\_classes.py:298: FutureWarning: `max_features='auto'` has been deprecated in 1.1 and will be removed in 1.3. To keep the past behaviour, explicitly set `max_features='sqrt'`.\n",
      "  warnings.warn(\n"
     ]
    },
    {
     "name": "stdout",
     "output_type": "stream",
     "text": [
      "F1_score from train:  0.9004620944511572\n",
      "F1_score from test:  0.34175152269612447\n"
     ]
    }
   ],
   "source": [
    "clf=DecisionTreeClassifier(random_state=100,max_features=\"auto\",criterion=\"gini\")\n",
    "\n",
    "clf.fit(x_train,y_train)\n",
    "\n",
    "tr_sc=f1_score(y_train,clf.predict(x_train))\n",
    "te_sc=f1_score(y_test,clf.predict(x_test))\n",
    "\n",
    "\n",
    "print(\"F1_score from train: \",tr_sc)\n",
    "print(\"F1_score from test: \",te_sc)\n"
   ]
  },
  {
   "cell_type": "code",
   "execution_count": null,
   "id": "7dce4255",
   "metadata": {},
   "outputs": [],
   "source": []
  },
  {
   "cell_type": "code",
   "execution_count": 31,
   "id": "ea47ed2f",
   "metadata": {},
   "outputs": [
    {
     "name": "stderr",
     "output_type": "stream",
     "text": [
      "C:\\Users\\Shafiq\\AppData\\Roaming\\Python\\Python39\\site-packages\\sklearn\\tree\\_classes.py:298: FutureWarning: `max_features='auto'` has been deprecated in 1.1 and will be removed in 1.3. To keep the past behaviour, explicitly set `max_features='sqrt'`.\n",
      "  warnings.warn(\n"
     ]
    },
    {
     "name": "stdout",
     "output_type": "stream",
     "text": [
      "F1_score from train:  0.9000669912618234\n",
      "F1_score from test:  0.28947039039378536\n"
     ]
    }
   ],
   "source": [
    "clf1=DecisionTreeClassifier(random_state=100,max_features=\"auto\",criterion=\"gini\")\n",
    "\n",
    "clf1.fit(x_train1,y_train1)\n",
    "\n",
    "tr_sc=f1_score(y_train1,clf1.predict(x_train1))\n",
    "te_sc=f1_score(y_test1,clf1.predict(x_test1))\n",
    "\n",
    "\n",
    "print(\"F1_score from train: \",tr_sc)\n",
    "print(\"F1_score from test: \",te_sc)\n"
   ]
  },
  {
   "cell_type": "code",
   "execution_count": null,
   "id": "86ee80c4",
   "metadata": {},
   "outputs": [],
   "source": []
  },
  {
   "cell_type": "raw",
   "id": "f2f17147",
   "metadata": {},
   "source": [
    "The model is overfitting on both the dataset to a large extent"
   ]
  },
  {
   "cell_type": "code",
   "execution_count": null,
   "id": "71e8f191",
   "metadata": {},
   "outputs": [],
   "source": []
  },
  {
   "cell_type": "markdown",
   "id": "7e9d1603",
   "metadata": {},
   "source": [
    "# Trying with different values of Depth"
   ]
  },
  {
   "cell_type": "code",
   "execution_count": null,
   "id": "e6dbf77f",
   "metadata": {},
   "outputs": [],
   "source": []
  },
  {
   "cell_type": "code",
   "execution_count": 32,
   "id": "e6989dc0",
   "metadata": {},
   "outputs": [
    {
     "name": "stderr",
     "output_type": "stream",
     "text": [
      "C:\\Users\\Shafiq\\AppData\\Roaming\\Python\\Python39\\site-packages\\sklearn\\tree\\_classes.py:298: FutureWarning: `max_features='auto'` has been deprecated in 1.1 and will be removed in 1.3. To keep the past behaviour, explicitly set `max_features='sqrt'`.\n",
      "  warnings.warn(\n"
     ]
    },
    {
     "name": "stdout",
     "output_type": "stream",
     "text": [
      "At depth=  2  train score:  0.8395670058504962  and test score:  0.553201085090772\n"
     ]
    },
    {
     "name": "stderr",
     "output_type": "stream",
     "text": [
      "C:\\Users\\Shafiq\\AppData\\Roaming\\Python\\Python39\\site-packages\\sklearn\\tree\\_classes.py:298: FutureWarning: `max_features='auto'` has been deprecated in 1.1 and will be removed in 1.3. To keep the past behaviour, explicitly set `max_features='sqrt'`.\n",
      "  warnings.warn(\n"
     ]
    },
    {
     "name": "stdout",
     "output_type": "stream",
     "text": [
      "At depth=  3  train score:  0.828493912815401  and test score:  0.4312286670446838\n"
     ]
    },
    {
     "name": "stderr",
     "output_type": "stream",
     "text": [
      "C:\\Users\\Shafiq\\AppData\\Roaming\\Python\\Python39\\site-packages\\sklearn\\tree\\_classes.py:298: FutureWarning: `max_features='auto'` has been deprecated in 1.1 and will be removed in 1.3. To keep the past behaviour, explicitly set `max_features='sqrt'`.\n",
      "  warnings.warn(\n"
     ]
    },
    {
     "name": "stdout",
     "output_type": "stream",
     "text": [
      "At depth=  5  train score:  0.863415461529023  and test score:  0.5626871814777759\n"
     ]
    },
    {
     "name": "stderr",
     "output_type": "stream",
     "text": [
      "C:\\Users\\Shafiq\\AppData\\Roaming\\Python\\Python39\\site-packages\\sklearn\\tree\\_classes.py:298: FutureWarning: `max_features='auto'` has been deprecated in 1.1 and will be removed in 1.3. To keep the past behaviour, explicitly set `max_features='sqrt'`.\n",
      "  warnings.warn(\n"
     ]
    },
    {
     "name": "stdout",
     "output_type": "stream",
     "text": [
      "At depth=  7  train score:  0.8679463356735959  and test score:  0.47470566329599817\n"
     ]
    },
    {
     "name": "stderr",
     "output_type": "stream",
     "text": [
      "C:\\Users\\Shafiq\\AppData\\Roaming\\Python\\Python39\\site-packages\\sklearn\\tree\\_classes.py:298: FutureWarning: `max_features='auto'` has been deprecated in 1.1 and will be removed in 1.3. To keep the past behaviour, explicitly set `max_features='sqrt'`.\n",
      "  warnings.warn(\n"
     ]
    },
    {
     "name": "stdout",
     "output_type": "stream",
     "text": [
      "At depth=  9  train score:  0.8680727763785228  and test score:  0.4630675646317619\n"
     ]
    },
    {
     "name": "stderr",
     "output_type": "stream",
     "text": [
      "C:\\Users\\Shafiq\\AppData\\Roaming\\Python\\Python39\\site-packages\\sklearn\\tree\\_classes.py:298: FutureWarning: `max_features='auto'` has been deprecated in 1.1 and will be removed in 1.3. To keep the past behaviour, explicitly set `max_features='sqrt'`.\n",
      "  warnings.warn(\n"
     ]
    },
    {
     "name": "stdout",
     "output_type": "stream",
     "text": [
      "At depth=  11  train score:  0.873018705278831  and test score:  0.3579601087588308\n"
     ]
    },
    {
     "name": "stderr",
     "output_type": "stream",
     "text": [
      "C:\\Users\\Shafiq\\AppData\\Roaming\\Python\\Python39\\site-packages\\sklearn\\tree\\_classes.py:298: FutureWarning: `max_features='auto'` has been deprecated in 1.1 and will be removed in 1.3. To keep the past behaviour, explicitly set `max_features='sqrt'`.\n",
      "  warnings.warn(\n"
     ]
    },
    {
     "name": "stdout",
     "output_type": "stream",
     "text": [
      "At depth=  13  train score:  0.8820668578716808  and test score:  0.22870017360162423\n"
     ]
    },
    {
     "name": "stderr",
     "output_type": "stream",
     "text": [
      "C:\\Users\\Shafiq\\AppData\\Roaming\\Python\\Python39\\site-packages\\sklearn\\tree\\_classes.py:298: FutureWarning: `max_features='auto'` has been deprecated in 1.1 and will be removed in 1.3. To keep the past behaviour, explicitly set `max_features='sqrt'`.\n",
      "  warnings.warn(\n"
     ]
    },
    {
     "name": "stdout",
     "output_type": "stream",
     "text": [
      "At depth=  15  train score:  0.8864002486212326  and test score:  0.19881216629671844\n"
     ]
    }
   ],
   "source": [
    "depth=[2,3,5,7,9,11,13,15]\n",
    "\n",
    "train_sc=[]\n",
    "\n",
    "test_sc=[]\n",
    "\n",
    "for i in depth:\n",
    "    \n",
    "    clf1=DecisionTreeClassifier(random_state=100,max_features=\"auto\",criterion=\"gini\",max_depth=i)\n",
    "\n",
    "    clf1.fit(x_train1,y_train1)\n",
    "\n",
    "    tr_sc=f1_score(y_train1,clf1.predict(x_train1))\n",
    "    te_sc=f1_score(y_test1,clf1.predict(x_test1))    \n",
    "    \n",
    "    train_sc.append(tr_sc)\n",
    "    test_sc.append(te_sc)\n",
    "    \n",
    "    print(\"At depth= \",i,\" train score: \",tr_sc,\" and test score: \",te_sc)\n",
    "    \n",
    "\n",
    "\n",
    "\n",
    "    \n",
    "    "
   ]
  },
  {
   "cell_type": "code",
   "execution_count": null,
   "id": "bf27da1d",
   "metadata": {},
   "outputs": [],
   "source": []
  },
  {
   "cell_type": "raw",
   "id": "4c98c744",
   "metadata": {},
   "source": [
    "Performance improved at depth 5 , accuracy decreased with further increase in depth. "
   ]
  },
  {
   "cell_type": "code",
   "execution_count": null,
   "id": "8147e914",
   "metadata": {},
   "outputs": [],
   "source": []
  },
  {
   "cell_type": "markdown",
   "id": "e31ead59",
   "metadata": {},
   "source": [
    "# Pruning"
   ]
  },
  {
   "cell_type": "code",
   "execution_count": null,
   "id": "cfd343ca",
   "metadata": {},
   "outputs": [],
   "source": []
  },
  {
   "cell_type": "code",
   "execution_count": 14,
   "id": "9a1c1642",
   "metadata": {},
   "outputs": [
    {
     "name": "stderr",
     "output_type": "stream",
     "text": [
      "C:\\Users\\Shafiq\\AppData\\Roaming\\Python\\Python39\\site-packages\\sklearn\\tree\\_classes.py:298: FutureWarning: `max_features='auto'` has been deprecated in 1.1 and will be removed in 1.3. To keep the past behaviour, explicitly set `max_features='sqrt'`.\n",
      "  warnings.warn(\n"
     ]
    }
   ],
   "source": [
    "clf=DecisionTreeClassifier(random_state=100,max_features=\"auto\",criterion=\"gini\",max_depth=5)\n",
    "\n",
    "path=clf.cost_complexity_pruning_path(x_train1,y_train1)\n",
    "\n",
    "ccp_alphas,impurities=path.ccp_alphas,path.impurities"
   ]
  },
  {
   "cell_type": "code",
   "execution_count": null,
   "id": "2532ad89",
   "metadata": {},
   "outputs": [],
   "source": []
  },
  {
   "cell_type": "code",
   "execution_count": 15,
   "id": "c6d8085b",
   "metadata": {},
   "outputs": [
    {
     "data": {
      "text/plain": [
       "24"
      ]
     },
     "execution_count": 15,
     "metadata": {},
     "output_type": "execute_result"
    }
   ],
   "source": [
    "len(ccp_alphas)"
   ]
  },
  {
   "cell_type": "code",
   "execution_count": null,
   "id": "353d8256",
   "metadata": {},
   "outputs": [],
   "source": []
  },
  {
   "cell_type": "code",
   "execution_count": 16,
   "id": "cc691f20",
   "metadata": {},
   "outputs": [
    {
     "data": {
      "text/plain": [
       "array([0.00000000e+00, 2.14715930e-09, 1.98417429e-07, 8.37221130e-05,\n",
       "       8.46714023e-05, 1.20950805e-04, 1.43288626e-04, 1.61956293e-04,\n",
       "       2.29142191e-04, 3.90146737e-04, 7.31112921e-04, 7.80692720e-04,\n",
       "       9.05452339e-04, 1.22476100e-03, 1.41034538e-03, 1.73176268e-03,\n",
       "       1.97220072e-03, 3.53219408e-03, 3.64923284e-03, 3.67127338e-03,\n",
       "       4.42357151e-03, 8.95005370e-03, 1.11876148e-02, 2.23190921e-01])"
      ]
     },
     "execution_count": 16,
     "metadata": {},
     "output_type": "execute_result"
    }
   ],
   "source": [
    "ccp_alphas"
   ]
  },
  {
   "cell_type": "code",
   "execution_count": null,
   "id": "771357e4",
   "metadata": {},
   "outputs": [],
   "source": []
  },
  {
   "cell_type": "code",
   "execution_count": null,
   "id": "b7e6241a",
   "metadata": {},
   "outputs": [],
   "source": [
    "Applying each ccp_alpha values to Decision Tree"
   ]
  },
  {
   "cell_type": "code",
   "execution_count": null,
   "id": "6fb73cfc",
   "metadata": {},
   "outputs": [],
   "source": []
  },
  {
   "cell_type": "code",
   "execution_count": 24,
   "id": "c5413b89",
   "metadata": {},
   "outputs": [
    {
     "name": "stdout",
     "output_type": "stream",
     "text": [
      "At ccp_alpha=  0.0  train score:  0.863415461529023  and test score:  0.5626871814777759\n",
      "At ccp_alpha=  2.147159303561382e-09  train score:  0.863415461529023  and test score:  0.5626871814777759\n",
      "At ccp_alpha=  1.9841742894457502e-07  train score:  0.863415461529023  and test score:  0.5626871814777759\n",
      "At ccp_alpha=  8.372211303530729e-05  train score:  0.863415461529023  and test score:  0.5626871814777759\n",
      "At ccp_alpha=  8.467140232849531e-05  train score:  0.863415461529023  and test score:  0.5626871814777759\n",
      "At ccp_alpha=  0.00012095080484588122  train score:  0.863415461529023  and test score:  0.5626871814777759\n",
      "At ccp_alpha=  0.0001432886260051289  train score:  0.863415461529023  and test score:  0.5626871814777759\n",
      "At ccp_alpha=  0.0001619562932314864  train score:  0.863415461529023  and test score:  0.5626871814777759\n",
      "At ccp_alpha=  0.00022914219103326895  train score:  0.863415461529023  and test score:  0.5626871814777759\n",
      "At ccp_alpha=  0.00039014673710300717  train score:  0.8613938711065762  and test score:  0.5360226604085989\n",
      "At ccp_alpha=  0.0007311129208113464  train score:  0.8606397283383529  and test score:  0.5356168836723869\n",
      "At ccp_alpha=  0.0007806927195862338  train score:  0.8587822802696652  and test score:  0.5356168836723869\n",
      "At ccp_alpha=  0.0009054523390577794  train score:  0.8579383331394499  and test score:  0.5420148742705101\n",
      "At ccp_alpha=  0.0012247610025222667  train score:  0.8579383331394499  and test score:  0.5420148742705101\n",
      "At ccp_alpha=  0.0014103453756941636  train score:  0.857145074497134  and test score:  0.5407620833688518\n",
      "At ccp_alpha=  0.0017317626797646295  train score:  0.8527043656252739  and test score:  0.46275844798739924\n",
      "At ccp_alpha=  0.001972200718722346  train score:  0.8477226980545637  and test score:  0.4620663362561952\n",
      "At ccp_alpha=  0.003532194083157473  train score:  0.8349845868512145  and test score:  0.3716091793943333\n",
      "At ccp_alpha=  0.0036492328365479096  train score:  0.8366329490371399  and test score:  0.4324834749763928\n",
      "At ccp_alpha=  0.0036712733790494334  train score:  0.8366329490371399  and test score:  0.4324834749763928\n",
      "At ccp_alpha=  0.004423571514520629  train score:  0.8395670058504962  and test score:  0.553201085090772\n",
      "At ccp_alpha=  0.008950053696525212  train score:  0.8318634705500337  and test score:  0.5521485203871985\n",
      "At ccp_alpha=  0.011187614756139025  train score:  0.8318634705500337  and test score:  0.5521485203871985\n",
      "At ccp_alpha=  0.22319092087629766  train score:  0.0  and test score:  0.0\n"
     ]
    }
   ],
   "source": [
    "train_sc=[]\n",
    "\n",
    "test_sc=[]\n",
    "\n",
    "for ccp_alpha in ccp_alphas:\n",
    "    \n",
    "    try:\n",
    "        clf=DecisionTreeClassifier(random_state=100,max_features=\"sqrt\",criterion=\"gini\",max_depth=5,ccp_alpha=ccp_alpha)\n",
    "        clf.fit(x_train1,y_train1)\n",
    "    \n",
    "        tr_sc=f1_score(y_train1,clf.predict(x_train1))\n",
    "        te_sc=f1_score(y_test1,clf.predict(x_test1))\n",
    "        print(\"At ccp_alpha= \",ccp_alpha,\" train score: \",tr_sc,\" and test score: \",te_sc)\n",
    "    \n",
    "    except:\n",
    "        \n",
    "        continue\n",
    "    \n",
    "    train_sc.append(tr_sc)\n",
    "    test_sc.append(te_sc)\n",
    "    #print(train_sc)\n",
    "    #print(test_sc)\n",
    "    \n"
   ]
  },
  {
   "cell_type": "code",
   "execution_count": null,
   "id": "171cf821",
   "metadata": {},
   "outputs": [],
   "source": []
  },
  {
   "cell_type": "code",
   "execution_count": 22,
   "id": "57da9fc5",
   "metadata": {},
   "outputs": [
    {
     "data": {
      "image/png": "[encoded data removed]",
      "text/plain": [
       "<Figure size 432x288 with 1 Axes>"
      ]
     },
     "metadata": {
      "needs_background": "light"
     },
     "output_type": "display_data"
    }
   ],
   "source": [
    "plt.plot(ccp_alphas,train_sc,label='Train Score')\n",
    "plt.plot(ccp_alphas,test_sc,label='Test Score')\n",
    "plt.xlabel('CCP_alphas')\n",
    "plt.ylabel('Score')\n",
    "plt.title('CCP_alphas vs score at depth of 5')\n",
    "plt.show()"
   ]
  },
  {
   "cell_type": "code",
   "execution_count": null,
   "id": "b0f37316",
   "metadata": {},
   "outputs": [],
   "source": []
  },
  {
   "cell_type": "code",
   "execution_count": null,
   "id": "78152d4d",
   "metadata": {},
   "outputs": [],
   "source": [
    "Choosing ccp_alpha giving the best accuracy "
   ]
  },
  {
   "cell_type": "code",
   "execution_count": null,
   "id": "9b3dbce9",
   "metadata": {},
   "outputs": [],
   "source": []
  },
  {
   "cell_type": "code",
   "execution_count": 27,
   "id": "77bb8749",
   "metadata": {},
   "outputs": [
    {
     "name": "stdout",
     "output_type": "stream",
     "text": [
      "Tain Score:  0.863415461529023\n",
      "Test Score:  0.5626871814777759\n"
     ]
    }
   ],
   "source": [
    "clf=DecisionTreeClassifier(random_state=100,max_features=\"sqrt\",criterion=\"gini\",max_depth=5,ccp_alpha=2.147159303561382e-09)\n",
    "clf.fit(x_train1,y_train1)\n",
    "    \n",
    "tr_sc=f1_score(y_train1,clf.predict(x_train1))\n",
    "te_sc=f1_score(y_test1,clf.predict(x_test1))\n",
    "\n",
    "print(\"Tain Score: \",tr_sc)\n",
    "print(\"Test Score: \",te_sc)"
   ]
  },
  {
   "cell_type": "code",
   "execution_count": null,
   "id": "5157bf23",
   "metadata": {},
   "outputs": [],
   "source": []
  },
  {
   "cell_type": "raw",
   "id": "f4291581",
   "metadata": {},
   "source": [
    "Test accuracy is better than Random Forest but still the Decsion Tree is overfitting"
   ]
  },
  {
   "cell_type": "code",
   "execution_count": null,
   "id": "14d4f1fa",
   "metadata": {},
   "outputs": [],
   "source": []
  },
  {
   "cell_type": "markdown",
   "id": "7f3487e5",
   "metadata": {},
   "source": [
    "# Trying Standerdizing features"
   ]
  },
  {
   "cell_type": "code",
   "execution_count": null,
   "id": "57c04896",
   "metadata": {},
   "outputs": [],
   "source": []
  },
  {
   "cell_type": "code",
   "execution_count": 7,
   "id": "e6c62721",
   "metadata": {},
   "outputs": [],
   "source": [
    "from sklearn.preprocessing import StandardScaler"
   ]
  },
  {
   "cell_type": "code",
   "execution_count": null,
   "id": "b24354c9",
   "metadata": {},
   "outputs": [],
   "source": []
  },
  {
   "cell_type": "markdown",
   "id": "813d7d3e",
   "metadata": {},
   "source": [
    "# Standerdizing x_train1"
   ]
  },
  {
   "cell_type": "code",
   "execution_count": null,
   "id": "fc02568f",
   "metadata": {},
   "outputs": [],
   "source": []
  },
  {
   "cell_type": "code",
   "execution_count": 10,
   "id": "f0e30322",
   "metadata": {},
   "outputs": [
    {
     "data": {
      "text/plain": [
       "array([[-0.12007437, -0.2472306 , -0.12022211, ..., -1.61674299,\n",
       "        -1.7822063 , -1.8438131 ],\n",
       "       [-0.12007437,  4.0157219 , -0.12022211, ..., -0.89305916,\n",
       "        -0.40630642, -0.89370828],\n",
       "       [-0.12007437, -0.2472306 , -0.12022211, ..., -0.38649592,\n",
       "        -0.09949193, -0.39004586],\n",
       "       ...,\n",
       "       [-0.12007437, -0.2472306 , -0.12022211, ..., -0.47524893,\n",
       "        -0.68199747, -0.33924879],\n",
       "       [-0.12007437, -0.2472306 , -0.12022211, ...,  1.06131107,\n",
       "         0.58896454,  1.33867044],\n",
       "       [-0.12007437, -0.2472306 , -0.12022211, ..., -0.41766091,\n",
       "        -0.44539499, -0.35931982]])"
      ]
     },
     "execution_count": 10,
     "metadata": {},
     "output_type": "execute_result"
    }
   ],
   "source": [
    "scaler=StandardScaler().fit(x_train1)\n",
    "\n",
    "x_train1_scale=scaler.transform(x_train1)\n",
    "\n",
    "x_train1_scale"
   ]
  },
  {
   "cell_type": "code",
   "execution_count": null,
   "id": "61b2f759",
   "metadata": {},
   "outputs": [],
   "source": []
  },
  {
   "cell_type": "markdown",
   "id": "ecedaf70",
   "metadata": {},
   "source": [
    "# Standerdizing x_test1"
   ]
  },
  {
   "cell_type": "code",
   "execution_count": null,
   "id": "17e3e78b",
   "metadata": {},
   "outputs": [],
   "source": []
  },
  {
   "cell_type": "code",
   "execution_count": 11,
   "id": "2423df40",
   "metadata": {},
   "outputs": [
    {
     "data": {
      "text/plain": [
       "array([[-0.05360297, -0.07556842, -0.05366044, ...,  1.85574109,\n",
       "         2.92310332,  1.15403037],\n",
       "       [-0.05360297, -0.07556842, -0.05366044, ...,  1.16924365,\n",
       "         1.04924826,  1.05279659],\n",
       "       [-0.05360297, -0.07556842, -0.05366044, ..., -0.46176772,\n",
       "        -0.01866885, -0.52358541],\n",
       "       ...,\n",
       "       [-0.05360297, -0.07556842, -0.05366044, ...,  0.35493086,\n",
       "        -0.01710675,  0.65927756],\n",
       "       [-0.05360297, -0.07556842, -0.05366044, ...,  0.35493086,\n",
       "        -0.01710675,  0.65927756],\n",
       "       [-0.05360297, -0.07556842, -0.05366044, ...,  1.16924365,\n",
       "         1.04924826,  1.05279659]])"
      ]
     },
     "execution_count": 11,
     "metadata": {},
     "output_type": "execute_result"
    }
   ],
   "source": [
    "scaler=StandardScaler().fit(x_test1)\n",
    "\n",
    "x_test1_scale=scaler.transform(x_test1)\n",
    "\n",
    "x_test1_scale"
   ]
  },
  {
   "cell_type": "code",
   "execution_count": null,
   "id": "e3a00d20",
   "metadata": {},
   "outputs": [],
   "source": []
  },
  {
   "cell_type": "markdown",
   "id": "f0e62e97",
   "metadata": {},
   "source": [
    "# Evaluating Random Forest on Scaled Data "
   ]
  },
  {
   "cell_type": "code",
   "execution_count": null,
   "id": "9ce6bd86",
   "metadata": {},
   "outputs": [],
   "source": []
  },
  {
   "cell_type": "code",
   "execution_count": 12,
   "id": "25e6af16",
   "metadata": {},
   "outputs": [
    {
     "name": "stderr",
     "output_type": "stream",
     "text": [
      "C:\\Users\\Shafiq\\AppData\\Roaming\\Python\\Python39\\site-packages\\sklearn\\ensemble\\_forest.py:427: FutureWarning: `max_features='auto'` has been deprecated in 1.1 and will be removed in 1.3. To keep the past behaviour, explicitly set `max_features='sqrt'` or remove this parameter as it is also the default value for RandomForestClassifiers and ExtraTreesClassifiers.\n",
      "  warn(\n"
     ]
    },
    {
     "name": "stdout",
     "output_type": "stream",
     "text": [
      "F1_score from train:  0.8640826353018608\n",
      "F1_score from test:  0.7754800661894866\n"
     ]
    }
   ],
   "source": [
    "clf = RandomForestClassifier(bootstrap=True, class_weight=None, criterion='gini',\n",
    "      max_depth=5, max_features='auto', n_estimators=450,random_state=20)\n",
    "\n",
    "clf.fit(x_train1_scale,y_train1)\n",
    "    \n",
    "tr_sc=f1_score(y_train1,clf.predict(x_train1_scale))\n",
    "te_sc=f1_score(y_test1,clf.predict(x_test1_scale))\n",
    "\n",
    "\n",
    "print(\"F1_score from train: \",tr_sc)\n",
    "print(\"F1_score from test: \",te_sc)"
   ]
  },
  {
   "cell_type": "code",
   "execution_count": null,
   "id": "1a4dd2c5",
   "metadata": {},
   "outputs": [],
   "source": []
  },
  {
   "cell_type": "code",
   "execution_count": null,
   "id": "b6500922",
   "metadata": {},
   "outputs": [],
   "source": [
    "Accuracy has increased to a great extent trying greater values of depth"
   ]
  },
  {
   "cell_type": "code",
   "execution_count": null,
   "id": "9f6f782a",
   "metadata": {},
   "outputs": [],
   "source": []
  },
  {
   "cell_type": "code",
   "execution_count": 28,
   "id": "f40d0306",
   "metadata": {},
   "outputs": [
    {
     "name": "stdout",
     "output_type": "stream",
     "text": [
      "At depth=  6  train score:  0.870506398840365  and test score:  0.775902819765844\n",
      "At depth=  7  train score:  0.8719294333297393  and test score:  0.7778829784973402\n",
      "At depth=  8  train score:  0.8750850152905199  and test score:  0.7726843728249289\n",
      "At depth=  9  train score:  0.8768568313508348  and test score:  0.7205777304799112\n",
      "At depth=  10  train score:  0.8813640369736726  and test score:  0.719832494048127\n"
     ]
    },
    {
     "data": {
      "image/png": "[encoded data removed]",
      "text/plain": [
       "<Figure size 432x288 with 1 Axes>"
      ]
     },
     "metadata": {
      "needs_background": "light"
     },
     "output_type": "display_data"
    }
   ],
   "source": [
    "depth=[6,7,8,9,10]\n",
    "train_sc=[]\n",
    "test_sc=[]\n",
    "\n",
    "for i in depth:\n",
    "     \n",
    "    clf = RandomForestClassifier(bootstrap=True, class_weight=None, criterion='gini',\n",
    "            max_depth=i, max_features='sqrt', max_leaf_nodes=None,\n",
    "            min_impurity_decrease=0.0, \n",
    "            min_samples_leaf=52, min_samples_split=120,\n",
    "            min_weight_fraction_leaf=0.0, n_estimators=500, n_jobs=-1,random_state=25,verbose=0,warm_start=False)\n",
    "    clf.fit(x_train1_scale,y_train1)\n",
    "    \n",
    "    tr_sc=f1_score(y_train1,clf.predict(x_train1_scale))\n",
    "    te_sc=f1_score(y_test1,clf.predict(x_test1_scale))\n",
    "    print(\"At depth= \",i,\" train score: \",tr_sc,\" and test score: \",te_sc)\n",
    "    \n",
    "    train_sc.append(tr_sc)\n",
    "    test_sc.append(te_sc)\n",
    "    #print(train_sc)\n",
    "    #print(test_sc)\n",
    "    \n",
    "plt.plot(depth,train_sc,label='Train Score')\n",
    "plt.plot(depth,test_sc,label='Test Score')\n",
    "plt.xlabel('Depth')\n",
    "plt.ylabel('Score')\n",
    "plt.title('Depth vs score at estimators of 500')\n",
    "plt.show()"
   ]
  },
  {
   "cell_type": "code",
   "execution_count": null,
   "id": "754fc235",
   "metadata": {},
   "outputs": [],
   "source": []
  },
  {
   "cell_type": "raw",
   "id": "7c4cd5bc",
   "metadata": {},
   "source": [
    "Accuracy  is best at depth 7 , performance degrades for greater values. Trying for greater values of n_estimators"
   ]
  },
  {
   "cell_type": "code",
   "execution_count": null,
   "id": "04c8901d",
   "metadata": {},
   "outputs": [],
   "source": []
  },
  {
   "cell_type": "code",
   "execution_count": 30,
   "id": "a5fa1dec",
   "metadata": {},
   "outputs": [
    {
     "name": "stdout",
     "output_type": "stream",
     "text": [
      "At estimator=  525  train score:  0.8719343344736662  and test score:  0.7778756318870076\n",
      "At estimator=  550  train score:  0.8719409860534882  and test score:  0.7778756318870076\n",
      "At estimator=  575  train score:  0.8719314562723712  and test score:  0.774883264870937\n",
      "At estimator=  600  train score:  0.871883998266325  and test score:  0.774883264870937\n"
     ]
    },
    {
     "data": {
      "image/png": "[encoded data removed]",
      "text/plain": [
       "<Figure size 432x288 with 1 Axes>"
      ]
     },
     "metadata": {
      "needs_background": "light"
     },
     "output_type": "display_data"
    }
   ],
   "source": [
    "estimators=[525,550,575,600]\n",
    "train_sc=[]\n",
    "test_sc=[]\n",
    "\n",
    "for i in estimators:\n",
    "     \n",
    "    clf = RandomForestClassifier(bootstrap=True, class_weight=None, criterion='gini',\n",
    "            max_depth=7, max_features='sqrt', max_leaf_nodes=None,\n",
    "            min_impurity_decrease=0.0, \n",
    "            min_samples_leaf=52, min_samples_split=120,\n",
    "            min_weight_fraction_leaf=0.0, n_estimators=i, n_jobs=-1,random_state=25,verbose=0,warm_start=False)\n",
    "    clf.fit(x_train1_scale,y_train1)\n",
    "    \n",
    "    tr_sc=f1_score(y_train1,clf.predict(x_train1_scale))\n",
    "    te_sc=f1_score(y_test1,clf.predict(x_test1_scale))\n",
    "    print(\"At estimator= \",i,\" train score: \",tr_sc,\" and test score: \",te_sc)\n",
    "    \n",
    "    train_sc.append(tr_sc)\n",
    "    test_sc.append(te_sc)\n",
    "    #print(train_sc)\n",
    "    #print(test_sc)\n",
    "    \n",
    "plt.plot(estimators,train_sc,label='Train Score')\n",
    "plt.plot(estimators,test_sc,label='Test Score')\n",
    "plt.xlabel('estimators')\n",
    "plt.ylabel('Score')\n",
    "plt.title('estimators vs score at depth 7')\n",
    "plt.show()    "
   ]
  },
  {
   "cell_type": "code",
   "execution_count": null,
   "id": "7d01c284",
   "metadata": {},
   "outputs": [],
   "source": []
  },
  {
   "cell_type": "raw",
   "id": "e7613226",
   "metadata": {},
   "source": [
    "Performance almost remains same till estimators=550, afterwhich it degrades. Therefore we will go in for estimaters=500"
   ]
  },
  {
   "cell_type": "code",
   "execution_count": null,
   "id": "513db4ac",
   "metadata": {},
   "outputs": [],
   "source": []
  },
  {
   "cell_type": "markdown",
   "id": "cd0bb9d6",
   "metadata": {},
   "source": [
    "# Evaluating Decision Tree on Scaled Data "
   ]
  },
  {
   "cell_type": "code",
   "execution_count": null,
   "id": "70b9a4c6",
   "metadata": {},
   "outputs": [],
   "source": []
  },
  {
   "cell_type": "code",
   "execution_count": 15,
   "id": "f31b4589",
   "metadata": {},
   "outputs": [
    {
     "name": "stdout",
     "output_type": "stream",
     "text": [
      "Tain Score:  0.863415461529023\n",
      "Test Score:  0.6393191137858808\n"
     ]
    }
   ],
   "source": [
    "clf=DecisionTreeClassifier(random_state=100,max_features=\"sqrt\",criterion=\"gini\",max_depth=5,ccp_alpha=2.147159303561382e-09)\n",
    "clf.fit(x_train1_scale,y_train1)\n",
    "    \n",
    "tr_sc=f1_score(y_train1,clf.predict(x_train1_scale))\n",
    "te_sc=f1_score(y_test1,clf.predict(x_test1_scale))\n",
    "\n",
    "print(\"Tain Score: \",tr_sc)\n",
    "print(\"Test Score: \",te_sc)"
   ]
  },
  {
   "cell_type": "code",
   "execution_count": null,
   "id": "e13e8a88",
   "metadata": {},
   "outputs": [],
   "source": []
  },
  {
   "cell_type": "code",
   "execution_count": null,
   "id": "ecc55495",
   "metadata": {},
   "outputs": [],
   "source": [
    "Performance slightly gets better."
   ]
  },
  {
   "cell_type": "code",
   "execution_count": null,
   "id": "f6c8231c",
   "metadata": {},
   "outputs": [],
   "source": []
  },
  {
   "cell_type": "markdown",
   "id": "98bf4583",
   "metadata": {},
   "source": [
    "# Pruning"
   ]
  },
  {
   "cell_type": "code",
   "execution_count": null,
   "id": "fc7f9edf",
   "metadata": {},
   "outputs": [],
   "source": []
  },
  {
   "cell_type": "code",
   "execution_count": 22,
   "id": "d34c8ff9",
   "metadata": {},
   "outputs": [],
   "source": [
    "clf=DecisionTreeClassifier(random_state=100,max_features=\"sqrt\",criterion=\"gini\",max_depth=5)\n",
    "\n",
    "path=clf.cost_complexity_pruning_path(x_train1_scale,y_train1)\n",
    "\n",
    "ccp_alphas,impurities=path.ccp_alphas,path.impurities"
   ]
  },
  {
   "cell_type": "code",
   "execution_count": null,
   "id": "6a0a7152",
   "metadata": {},
   "outputs": [],
   "source": []
  },
  {
   "cell_type": "code",
   "execution_count": 23,
   "id": "04cd12ad",
   "metadata": {},
   "outputs": [
    {
     "data": {
      "text/plain": [
       "24"
      ]
     },
     "execution_count": 23,
     "metadata": {},
     "output_type": "execute_result"
    }
   ],
   "source": [
    "len(ccp_alphas)"
   ]
  },
  {
   "cell_type": "code",
   "execution_count": null,
   "id": "e4bec43f",
   "metadata": {},
   "outputs": [],
   "source": []
  },
  {
   "cell_type": "code",
   "execution_count": 24,
   "id": "b9b7089e",
   "metadata": {},
   "outputs": [
    {
     "data": {
      "text/plain": [
       "array([0.00000000e+00, 2.14715930e-09, 1.98417429e-07, 8.37221130e-05,\n",
       "       8.46714023e-05, 1.20950805e-04, 1.43288626e-04, 1.61956293e-04,\n",
       "       2.29142191e-04, 3.90146737e-04, 7.31112921e-04, 7.80692720e-04,\n",
       "       9.05452339e-04, 1.22476100e-03, 1.41034538e-03, 1.73176268e-03,\n",
       "       1.97220072e-03, 3.53219408e-03, 3.64923284e-03, 3.67127338e-03,\n",
       "       4.42357151e-03, 8.95005370e-03, 1.11876148e-02, 2.23190921e-01])"
      ]
     },
     "execution_count": 24,
     "metadata": {},
     "output_type": "execute_result"
    }
   ],
   "source": [
    "ccp_alphas"
   ]
  },
  {
   "cell_type": "code",
   "execution_count": null,
   "id": "9f69d0fc",
   "metadata": {},
   "outputs": [],
   "source": []
  },
  {
   "cell_type": "code",
   "execution_count": 25,
   "id": "a6e3433e",
   "metadata": {},
   "outputs": [
    {
     "name": "stdout",
     "output_type": "stream",
     "text": [
      "At ccp_alpha=  0.0  train score:  0.863415461529023  and test score:  0.6393191137858808\n",
      "At ccp_alpha=  2.147159303561382e-09  train score:  0.863415461529023  and test score:  0.6393191137858808\n",
      "At ccp_alpha=  1.9841742894457502e-07  train score:  0.863415461529023  and test score:  0.6393191137858808\n",
      "At ccp_alpha=  8.372211303530729e-05  train score:  0.863415461529023  and test score:  0.6393191137858808\n",
      "At ccp_alpha=  8.467140232849531e-05  train score:  0.863415461529023  and test score:  0.6393191137858808\n",
      "At ccp_alpha=  0.00012095080484588122  train score:  0.863415461529023  and test score:  0.6393191137858808\n",
      "At ccp_alpha=  0.0001432886260051289  train score:  0.863415461529023  and test score:  0.6393191137858808\n",
      "At ccp_alpha=  0.0001619562932314864  train score:  0.863415461529023  and test score:  0.6393191137858808\n",
      "At ccp_alpha=  0.00022914219103326895  train score:  0.863415461529023  and test score:  0.6393191137858808\n",
      "At ccp_alpha=  0.00039014673710300717  train score:  0.8613938711065762  and test score:  0.6393191137858808\n",
      "At ccp_alpha=  0.0007311129208113464  train score:  0.8606397283383529  and test score:  0.6393191137858808\n",
      "At ccp_alpha=  0.0007806927195862338  train score:  0.8587822802696652  and test score:  0.6393971624812965\n",
      "At ccp_alpha=  0.0009054523390577794  train score:  0.8579383331394499  and test score:  0.6666666666666666\n",
      "At ccp_alpha=  0.0012247610025222667  train score:  0.8579383331394499  and test score:  0.6666666666666666\n",
      "At ccp_alpha=  0.0014103453756941636  train score:  0.857145074497134  and test score:  0.6666666666666666\n",
      "At ccp_alpha=  0.0017317626797646295  train score:  0.8527043656252739  and test score:  0.6666666666666666\n",
      "At ccp_alpha=  0.001972200718722346  train score:  0.8477226980545637  and test score:  0.6666666666666666\n",
      "At ccp_alpha=  0.003532194083157473  train score:  0.8349845868512145  and test score:  0.6666666666666666\n",
      "At ccp_alpha=  0.0036492328365479096  train score:  0.8366329490371399  and test score:  0.6666666666666666\n",
      "At ccp_alpha=  0.0036712733790494334  train score:  0.8366329490371399  and test score:  0.6666666666666666\n",
      "At ccp_alpha=  0.004423571514520629  train score:  0.8395670058504962  and test score:  0.6666666666666666\n",
      "At ccp_alpha=  0.008950053696525212  train score:  0.8318634705500337  and test score:  0.7359904268483392\n",
      "At ccp_alpha=  0.011187614756139025  train score:  0.8318634705500337  and test score:  0.7359904268483392\n",
      "At ccp_alpha=  0.22319092087629766  train score:  0.0  and test score:  0.0\n"
     ]
    }
   ],
   "source": [
    "train_sc=[]\n",
    "\n",
    "test_sc=[]\n",
    "\n",
    "for ccp_alpha in ccp_alphas:\n",
    "    \n",
    "    try:\n",
    "        clf=DecisionTreeClassifier(random_state=100,max_features=\"sqrt\",criterion=\"gini\",max_depth=5,ccp_alpha=ccp_alpha)\n",
    "        clf.fit(x_train1_scale,y_train1)\n",
    "    \n",
    "        tr_sc=f1_score(y_train1,clf.predict(x_train1_scale))\n",
    "        te_sc=f1_score(y_test1,clf.predict(x_test1_scale))\n",
    "        print(\"At ccp_alpha= \",ccp_alpha,\" train score: \",tr_sc,\" and test score: \",te_sc)\n",
    "    \n",
    "    except:\n",
    "        \n",
    "        continue\n",
    "    \n",
    "    train_sc.append(tr_sc)\n",
    "    test_sc.append(te_sc)\n",
    "    #print(train_sc)\n",
    "    #print(test_sc)\n",
    "    \n"
   ]
  },
  {
   "cell_type": "code",
   "execution_count": null,
   "id": "10ed6e40",
   "metadata": {},
   "outputs": [],
   "source": []
  },
  {
   "cell_type": "code",
   "execution_count": 26,
   "id": "96a932dc",
   "metadata": {},
   "outputs": [
    {
     "data": {
      "image/png": "[encoded data removed]",
      "text/plain": [
       "<Figure size 432x288 with 1 Axes>"
      ]
     },
     "metadata": {
      "needs_background": "light"
     },
     "output_type": "display_data"
    }
   ],
   "source": [
    "plt.plot(ccp_alphas,train_sc,label='Train Score')\n",
    "plt.plot(ccp_alphas,test_sc,label='Test Score')\n",
    "plt.xlabel('CCP_alphas')\n",
    "plt.ylabel('Score')\n",
    "plt.title('CCP_alphas vs score at depth of 5')\n",
    "plt.show()"
   ]
  },
  {
   "cell_type": "code",
   "execution_count": null,
   "id": "e1b09f95",
   "metadata": {},
   "outputs": [],
   "source": []
  },
  {
   "cell_type": "code",
   "execution_count": null,
   "id": "6bee24c6",
   "metadata": {},
   "outputs": [],
   "source": [
    "Performance gets better on pruning trying for greater depth"
   ]
  },
  {
   "cell_type": "code",
   "execution_count": null,
   "id": "cc025ed7",
   "metadata": {},
   "outputs": [],
   "source": []
  },
  {
   "cell_type": "code",
   "execution_count": 32,
   "id": "86b2c642",
   "metadata": {},
   "outputs": [
    {
     "name": "stdout",
     "output_type": "stream",
     "text": [
      "At depth=  6  train score:  0.8318634705500337  and test score:  0.7359904268483392\n",
      "At depth=  7  train score:  0.8318634705500337  and test score:  0.7359904268483392\n",
      "At depth=  8  train score:  0.8318634705500337  and test score:  0.7359904268483392\n",
      "At depth=  9  train score:  0.8318634705500337  and test score:  0.7359904268483392\n"
     ]
    }
   ],
   "source": [
    "train_sc=[]\n",
    "\n",
    "test_sc=[]\n",
    "\n",
    "depth=[6,7,8,9]\n",
    "\n",
    "for i in depth:\n",
    "    \n",
    "    try:\n",
    "        clf=DecisionTreeClassifier(random_state=100,max_features=\"sqrt\",criterion=\"gini\",max_depth=i,ccp_alpha=0.011187614756139025)\n",
    "        clf.fit(x_train1_scale,y_train1)\n",
    "    \n",
    "        tr_sc=f1_score(y_train1,clf.predict(x_train1_scale))\n",
    "        te_sc=f1_score(y_test1,clf.predict(x_test1_scale))\n",
    "        print(\"At depth= \",i,\" train score: \",tr_sc,\" and test score: \",te_sc)\n",
    "    \n",
    "    except:\n",
    "        \n",
    "        continue\n",
    "    \n",
    "    train_sc.append(tr_sc)\n",
    "    test_sc.append(te_sc)"
   ]
  },
  {
   "cell_type": "code",
   "execution_count": null,
   "id": "1af6376a",
   "metadata": {},
   "outputs": [],
   "source": []
  },
  {
   "cell_type": "raw",
   "id": "1f787b15",
   "metadata": {},
   "source": [
    "Accuracy of model has increased "
   ]
  },
  {
   "cell_type": "code",
   "execution_count": null,
   "id": "cdb8d066",
   "metadata": {},
   "outputs": [],
   "source": []
  },
  {
   "cell_type": "markdown",
   "id": "332aef8b",
   "metadata": {},
   "source": [
    "# Final Model "
   ]
  },
  {
   "cell_type": "code",
   "execution_count": null,
   "id": "7dab28ad",
   "metadata": {},
   "outputs": [],
   "source": []
  },
  {
   "cell_type": "code",
   "execution_count": 31,
   "id": "39fc0464",
   "metadata": {},
   "outputs": [
    {
     "name": "stdout",
     "output_type": "stream",
     "text": [
      "Tain Score:  0.8719294333297393\n",
      "Test Score:  0.7778829784973402\n"
     ]
    }
   ],
   "source": [
    "clf = RandomForestClassifier(bootstrap=True, class_weight=None, criterion='gini',\n",
    "            max_depth=7, max_features='sqrt', max_leaf_nodes=None,\n",
    "            min_impurity_decrease=0.0, \n",
    "            min_samples_leaf=52, min_samples_split=120,\n",
    "            min_weight_fraction_leaf=0.0, n_estimators=500, n_jobs=-1,random_state=25,verbose=0,warm_start=False)\n",
    "clf.fit(x_train1_scale,y_train1)\n",
    "    \n",
    "tr_sc=f1_score(y_train1,clf.predict(x_train1_scale))\n",
    "te_sc=f1_score(y_test1,clf.predict(x_test1_scale))\n",
    "\n",
    "print(\"Tain Score: \",tr_sc)\n",
    "print(\"Test Score: \",te_sc)"
   ]
  }
 ],
 "metadata": {
  "kernelspec": {
   "display_name": "Python 3 (ipykernel)",
   "language": "python",
   "name": "python3"
  },
  "language_info": {
   "codemirror_mode": {
    "name": "ipython",
    "version": 3
   },
   "file_extension": ".py",
   "mimetype": "text/x-python",
   "name": "python",
   "nbconvert_exporter": "python",
   "pygments_lexer": "ipython3",
   "version": "3.9.12"
  }
 },
 "nbformat": 4,
 "nbformat_minor": 5
}
