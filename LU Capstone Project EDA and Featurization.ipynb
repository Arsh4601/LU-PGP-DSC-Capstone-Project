{
 "cells": [
  {
   "cell_type": "code",
   "execution_count": 1,
   "id": "0058ca9c",
   "metadata": {},
   "outputs": [],
   "source": [
    "import pandas as pd\n",
    "import networkx as nx\n",
    "import numpy as np\n",
    "import matplotlib.pyplot as plt\n",
    "import seaborn as sns"
   ]
  },
  {
   "cell_type": "code",
   "execution_count": null,
   "id": "1fe7f4d9",
   "metadata": {},
   "outputs": [],
   "source": []
  },
  {
   "cell_type": "code",
   "execution_count": 2,
   "id": "76e308cc",
   "metadata": {},
   "outputs": [
    {
     "data": {
      "text/html": [
       "<div>\n",
       "<style scoped>\n",
       "    .dataframe tbody tr th:only-of-type {\n",
       "        vertical-align: middle;\n",
       "    }\n",
       "\n",
       "    .dataframe tbody tr th {\n",
       "        vertical-align: top;\n",
       "    }\n",
       "\n",
       "    .dataframe thead th {\n",
       "        text-align: right;\n",
       "    }\n",
       "</style>\n",
       "<table border=\"1\" class=\"dataframe\">\n",
       "  <thead>\n",
       "    <tr style=\"text-align: right;\">\n",
       "      <th></th>\n",
       "      <th>source_node</th>\n",
       "      <th>destination_node</th>\n",
       "    </tr>\n",
       "  </thead>\n",
       "  <tbody>\n",
       "    <tr>\n",
       "      <th>0</th>\n",
       "      <td>1</td>\n",
       "      <td>690569</td>\n",
       "    </tr>\n",
       "    <tr>\n",
       "      <th>1</th>\n",
       "      <td>1</td>\n",
       "      <td>315892</td>\n",
       "    </tr>\n",
       "    <tr>\n",
       "      <th>2</th>\n",
       "      <td>1</td>\n",
       "      <td>189226</td>\n",
       "    </tr>\n",
       "    <tr>\n",
       "      <th>3</th>\n",
       "      <td>2</td>\n",
       "      <td>834328</td>\n",
       "    </tr>\n",
       "    <tr>\n",
       "      <th>4</th>\n",
       "      <td>2</td>\n",
       "      <td>1615927</td>\n",
       "    </tr>\n",
       "    <tr>\n",
       "      <th>...</th>\n",
       "      <td>...</td>\n",
       "      <td>...</td>\n",
       "    </tr>\n",
       "    <tr>\n",
       "      <th>1048570</th>\n",
       "      <td>205019</td>\n",
       "      <td>506440</td>\n",
       "    </tr>\n",
       "    <tr>\n",
       "      <th>1048571</th>\n",
       "      <td>205019</td>\n",
       "      <td>1382215</td>\n",
       "    </tr>\n",
       "    <tr>\n",
       "      <th>1048572</th>\n",
       "      <td>205019</td>\n",
       "      <td>43733</td>\n",
       "    </tr>\n",
       "    <tr>\n",
       "      <th>1048573</th>\n",
       "      <td>205019</td>\n",
       "      <td>762655</td>\n",
       "    </tr>\n",
       "    <tr>\n",
       "      <th>1048574</th>\n",
       "      <td>205019</td>\n",
       "      <td>811177</td>\n",
       "    </tr>\n",
       "  </tbody>\n",
       "</table>\n",
       "<p>1048575 rows × 2 columns</p>\n",
       "</div>"
      ],
      "text/plain": [
       "         source_node  destination_node\n",
       "0                  1            690569\n",
       "1                  1            315892\n",
       "2                  1            189226\n",
       "3                  2            834328\n",
       "4                  2           1615927\n",
       "...              ...               ...\n",
       "1048570       205019            506440\n",
       "1048571       205019           1382215\n",
       "1048572       205019             43733\n",
       "1048573       205019            762655\n",
       "1048574       205019            811177\n",
       "\n",
       "[1048575 rows x 2 columns]"
      ]
     },
     "execution_count": 2,
     "metadata": {},
     "output_type": "execute_result"
    }
   ],
   "source": [
    "data=pd.read_csv(\"C:/Users/Shafiq/Desktop/arsh LU/train.csv\")\n",
    "\n",
    "data"
   ]
  },
  {
   "cell_type": "code",
   "execution_count": null,
   "id": "991db3ee",
   "metadata": {},
   "outputs": [],
   "source": []
  },
  {
   "cell_type": "markdown",
   "id": "f785fbe4",
   "metadata": {},
   "source": [
    "# EDA"
   ]
  },
  {
   "cell_type": "code",
   "execution_count": null,
   "id": "0c54cfeb",
   "metadata": {},
   "outputs": [],
   "source": []
  },
  {
   "cell_type": "code",
   "execution_count": 3,
   "id": "d3d3dcaf",
   "metadata": {},
   "outputs": [
    {
     "data": {
      "text/plain": [
       "source_node         0\n",
       "destination_node    0\n",
       "dtype: int64"
      ]
     },
     "execution_count": 3,
     "metadata": {},
     "output_type": "execute_result"
    }
   ],
   "source": [
    "data.isna().sum()"
   ]
  },
  {
   "cell_type": "code",
   "execution_count": null,
   "id": "6216d43f",
   "metadata": {},
   "outputs": [],
   "source": []
  },
  {
   "cell_type": "code",
   "execution_count": 4,
   "id": "7b96099b",
   "metadata": {},
   "outputs": [
    {
     "data": {
      "text/plain": [
       "source_node         int64\n",
       "destination_node    int64\n",
       "dtype: object"
      ]
     },
     "execution_count": 4,
     "metadata": {},
     "output_type": "execute_result"
    }
   ],
   "source": [
    "data.dtypes"
   ]
  },
  {
   "cell_type": "code",
   "execution_count": null,
   "id": "6dd119ea",
   "metadata": {},
   "outputs": [],
   "source": []
  },
  {
   "cell_type": "code",
   "execution_count": 5,
   "id": "f8b6df2f",
   "metadata": {},
   "outputs": [
    {
     "data": {
      "text/plain": [
       "0"
      ]
     },
     "execution_count": 5,
     "metadata": {},
     "output_type": "execute_result"
    }
   ],
   "source": [
    "data.duplicated().sum()"
   ]
  },
  {
   "cell_type": "code",
   "execution_count": null,
   "id": "2df070bd",
   "metadata": {},
   "outputs": [],
   "source": []
  },
  {
   "cell_type": "code",
   "execution_count": 6,
   "id": "0c6c214b",
   "metadata": {},
   "outputs": [
    {
     "data": {
      "text/plain": [
       "(1048575, 2)"
      ]
     },
     "execution_count": 6,
     "metadata": {},
     "output_type": "execute_result"
    }
   ],
   "source": [
    "data.shape"
   ]
  },
  {
   "cell_type": "code",
   "execution_count": null,
   "id": "978a3629",
   "metadata": {},
   "outputs": [],
   "source": []
  },
  {
   "cell_type": "code",
   "execution_count": 7,
   "id": "a127871c",
   "metadata": {},
   "outputs": [
    {
     "name": "stderr",
     "output_type": "stream",
     "text": [
      "C:\\Users\\Shafiq\\AppData\\Local\\Temp\\ipykernel_12316\\469392371.py:4: DeprecationWarning: info is deprecated and will be removed in version 3.0.\n",
      "\n",
      "  print(nx.info(G))\n"
     ]
    },
    {
     "name": "stdout",
     "output_type": "stream",
     "text": [
      "DiGraph with 706881 nodes and 1048575 edges\n"
     ]
    }
   ],
   "source": [
    "G=nx.from_pandas_edgelist(data,source=\"source_node\",target=\"destination_node\",create_using=nx.DiGraph)\n",
    "\n",
    "\n",
    "print(nx.info(G))"
   ]
  },
  {
   "cell_type": "code",
   "execution_count": null,
   "id": "f0a5ec23",
   "metadata": {},
   "outputs": [],
   "source": []
  },
  {
   "cell_type": "code",
   "execution_count": 8,
   "id": "97e38f1f",
   "metadata": {},
   "outputs": [
    {
     "data": {
      "text/plain": [
       "706881"
      ]
     },
     "execution_count": 8,
     "metadata": {},
     "output_type": "execute_result"
    }
   ],
   "source": [
    "G.order()"
   ]
  },
  {
   "cell_type": "code",
   "execution_count": null,
   "id": "260504a1",
   "metadata": {},
   "outputs": [],
   "source": []
  },
  {
   "cell_type": "code",
   "execution_count": 9,
   "id": "60d40085",
   "metadata": {},
   "outputs": [
    {
     "name": "stdout",
     "output_type": "stream",
     "text": [
      "Total No of Users:  706881\n"
     ]
    }
   ],
   "source": [
    "print(\"Total No of Users: \",len(G.nodes))"
   ]
  },
  {
   "cell_type": "code",
   "execution_count": null,
   "id": "afda6ae7",
   "metadata": {},
   "outputs": [],
   "source": []
  },
  {
   "cell_type": "code",
   "execution_count": 10,
   "id": "baa2ba5d",
   "metadata": {},
   "outputs": [],
   "source": [
    "indegree_dist = list(dict(G.in_degree()).values())\n",
    "indegree_dist.sort()"
   ]
  },
  {
   "cell_type": "code",
   "execution_count": null,
   "id": "2a2d308d",
   "metadata": {},
   "outputs": [],
   "source": []
  },
  {
   "cell_type": "code",
   "execution_count": 11,
   "id": "3b9eb1a0",
   "metadata": {},
   "outputs": [
    {
     "name": "stdout",
     "output_type": "stream",
     "text": [
      "90 percentile value is 3.0\n",
      "91 percentile value is 3.0\n",
      "92 percentile value is 3.0\n",
      "93 percentile value is 4.0\n",
      "94 percentile value is 4.0\n",
      "95 percentile value is 4.0\n",
      "96 percentile value is 5.0\n",
      "97 percentile value is 5.0\n",
      "98 percentile value is 6.0\n",
      "99 percentile value is 8.0\n",
      "100 percentile value is 59.0\n"
     ]
    }
   ],
   "source": [
    "for i in range(0,11):\n",
    "    print(90+i,'percentile value is',np.percentile(indegree_dist,90+i))"
   ]
  },
  {
   "cell_type": "code",
   "execution_count": null,
   "id": "11d0802e",
   "metadata": {},
   "outputs": [],
   "source": []
  },
  {
   "cell_type": "code",
   "execution_count": 12,
   "id": "dc6c64fe",
   "metadata": {},
   "outputs": [
    {
     "name": "stdout",
     "output_type": "stream",
     "text": [
      "50 percentile value is 1.0\n",
      "51 percentile value is 1.0\n",
      "52 percentile value is 1.0\n",
      "53 percentile value is 1.0\n",
      "54 percentile value is 1.0\n",
      "55 percentile value is 1.0\n",
      "56 percentile value is 1.0\n",
      "57 percentile value is 1.0\n",
      "58 percentile value is 1.0\n",
      "59 percentile value is 1.0\n",
      "60 percentile value is 1.0\n"
     ]
    }
   ],
   "source": [
    "for i in range(0,11):\n",
    "    print(50+i,'percentile value is',np.percentile(indegree_dist,50+i))"
   ]
  },
  {
   "cell_type": "code",
   "execution_count": null,
   "id": "0c59be05",
   "metadata": {},
   "outputs": [],
   "source": []
  },
  {
   "cell_type": "code",
   "execution_count": 13,
   "id": "815c3bad",
   "metadata": {},
   "outputs": [
    {
     "name": "stdout",
     "output_type": "stream",
     "text": [
      "20 percentile value is 1.0\n",
      "21 percentile value is 1.0\n",
      "22 percentile value is 1.0\n",
      "23 percentile value is 1.0\n",
      "24 percentile value is 1.0\n",
      "25 percentile value is 1.0\n",
      "26 percentile value is 1.0\n",
      "27 percentile value is 1.0\n",
      "28 percentile value is 1.0\n",
      "29 percentile value is 1.0\n",
      "30 percentile value is 1.0\n"
     ]
    }
   ],
   "source": [
    "for i in range(0,11):\n",
    "    print(20+i,'percentile value is',np.percentile(indegree_dist,20+i))"
   ]
  },
  {
   "cell_type": "code",
   "execution_count": null,
   "id": "460b775a",
   "metadata": {},
   "outputs": [],
   "source": []
  },
  {
   "cell_type": "code",
   "execution_count": 14,
   "id": "0ca5997d",
   "metadata": {},
   "outputs": [
    {
     "name": "stdout",
     "output_type": "stream",
     "text": [
      "70 percentile value is 2.0\n",
      "71 percentile value is 2.0\n",
      "72 percentile value is 2.0\n",
      "73 percentile value is 2.0\n",
      "74 percentile value is 2.0\n",
      "75 percentile value is 2.0\n",
      "76 percentile value is 2.0\n",
      "77 percentile value is 2.0\n",
      "78 percentile value is 2.0\n",
      "79 percentile value is 2.0\n",
      "80 percentile value is 2.0\n"
     ]
    }
   ],
   "source": [
    "for i in range(0,11):\n",
    "    print(70+i,'percentile value is',np.percentile(indegree_dist,70+i))"
   ]
  },
  {
   "cell_type": "code",
   "execution_count": null,
   "id": "dce01101",
   "metadata": {},
   "outputs": [],
   "source": []
  },
  {
   "cell_type": "raw",
   "id": "d96f3449",
   "metadata": {},
   "source": [
    "90-99% of users have on average 20 followers\n",
    "70-74% of users have 5 followers\n",
    "75-80% of users have 6-7 followers\n",
    "50-54% of users have 2 followers\n",
    "55-60% of users have 3 followers\n",
    "20-30% of users have only 1 follower\n"
   ]
  },
  {
   "cell_type": "code",
   "execution_count": null,
   "id": "a2f0c6de",
   "metadata": {},
   "outputs": [],
   "source": []
  },
  {
   "cell_type": "code",
   "execution_count": 15,
   "id": "90c68f68",
   "metadata": {},
   "outputs": [],
   "source": [
    "outdegree_dist = list(dict(G.out_degree()).values())\n",
    "outdegree_dist.sort()"
   ]
  },
  {
   "cell_type": "code",
   "execution_count": null,
   "id": "fbf75c3d",
   "metadata": {},
   "outputs": [],
   "source": []
  },
  {
   "cell_type": "code",
   "execution_count": 16,
   "id": "f3e6c444",
   "metadata": {},
   "outputs": [
    {
     "name": "stdout",
     "output_type": "stream",
     "text": [
      "90 percentile value is 4.0\n",
      "91 percentile value is 4.0\n",
      "92 percentile value is 5.0\n",
      "93 percentile value is 6.0\n",
      "94 percentile value is 7.0\n",
      "95 percentile value is 8.0\n",
      "96 percentile value is 10.0\n",
      "97 percentile value is 12.0\n",
      "98 percentile value is 16.0\n",
      "99 percentile value is 23.0\n",
      "100 percentile value is 895.0\n"
     ]
    }
   ],
   "source": [
    "for i in range(0,11):\n",
    "    print(90+i,'percentile value is',np.percentile(outdegree_dist,90+i))"
   ]
  },
  {
   "cell_type": "code",
   "execution_count": null,
   "id": "d961b00d",
   "metadata": {},
   "outputs": [],
   "source": []
  },
  {
   "cell_type": "code",
   "execution_count": 17,
   "id": "1b5c0fd1",
   "metadata": {},
   "outputs": [
    {
     "name": "stdout",
     "output_type": "stream",
     "text": [
      "70 percentile value is 0.0\n",
      "71 percentile value is 0.0\n",
      "72 percentile value is 0.0\n",
      "73 percentile value is 0.0\n",
      "74 percentile value is 0.0\n",
      "75 percentile value is 0.0\n",
      "76 percentile value is 1.0\n",
      "77 percentile value is 1.0\n",
      "78 percentile value is 1.0\n",
      "79 percentile value is 1.0\n",
      "80 percentile value is 1.0\n"
     ]
    }
   ],
   "source": [
    "for i in range(0,11):\n",
    "    print(70+i,'percentile value is',np.percentile(outdegree_dist,70+i))"
   ]
  },
  {
   "cell_type": "code",
   "execution_count": null,
   "id": "6f3ae7b9",
   "metadata": {},
   "outputs": [],
   "source": []
  },
  {
   "cell_type": "code",
   "execution_count": 18,
   "id": "cecffa50",
   "metadata": {},
   "outputs": [
    {
     "name": "stdout",
     "output_type": "stream",
     "text": [
      "50 percentile value is 0.0\n",
      "51 percentile value is 0.0\n",
      "52 percentile value is 0.0\n",
      "53 percentile value is 0.0\n",
      "54 percentile value is 0.0\n",
      "55 percentile value is 0.0\n",
      "56 percentile value is 0.0\n",
      "57 percentile value is 0.0\n",
      "58 percentile value is 0.0\n",
      "59 percentile value is 0.0\n",
      "60 percentile value is 0.0\n"
     ]
    }
   ],
   "source": [
    "for i in range(0,11):\n",
    "    print(50+i,'percentile value is',np.percentile(outdegree_dist,50+i))"
   ]
  },
  {
   "cell_type": "code",
   "execution_count": null,
   "id": "ae122069",
   "metadata": {},
   "outputs": [],
   "source": []
  },
  {
   "cell_type": "code",
   "execution_count": 19,
   "id": "21b6ad69",
   "metadata": {},
   "outputs": [
    {
     "name": "stdout",
     "output_type": "stream",
     "text": [
      "20 percentile value is 0.0\n",
      "21 percentile value is 0.0\n",
      "22 percentile value is 0.0\n",
      "23 percentile value is 0.0\n",
      "24 percentile value is 0.0\n",
      "25 percentile value is 0.0\n",
      "26 percentile value is 0.0\n",
      "27 percentile value is 0.0\n",
      "28 percentile value is 0.0\n",
      "29 percentile value is 0.0\n",
      "30 percentile value is 0.0\n"
     ]
    }
   ],
   "source": [
    "for i in range(0,11):\n",
    "    print(20+i,'percentile value is',np.percentile(outdegree_dist,20+i))"
   ]
  },
  {
   "cell_type": "code",
   "execution_count": null,
   "id": "e5f65629",
   "metadata": {},
   "outputs": [],
   "source": []
  },
  {
   "cell_type": "raw",
   "id": "8d90ace6",
   "metadata": {},
   "source": [
    "90-99% of users are following 23 users\n",
    "70-74% of users are following 5 users\n",
    "75-80% of users are following 6-7 users\n",
    "50-54% of users are following 2 users\n",
    "55-60% of users are following 3 users\n",
    "20-30% of users are following just 1 user"
   ]
  },
  {
   "cell_type": "code",
   "execution_count": null,
   "id": "ca1b89c4",
   "metadata": {},
   "outputs": [],
   "source": []
  },
  {
   "cell_type": "code",
   "execution_count": 20,
   "id": "72600f3f",
   "metadata": {},
   "outputs": [
    {
     "name": "stdout",
     "output_type": "stream",
     "text": [
      "No of people not following anyone:  531926  and the % is:  75.25 %\n"
     ]
    }
   ],
   "source": [
    "print(\"No of people not following anyone: \",sum(np.array(outdegree_dist)==0),\" and the % is: \",\n",
    "      round(sum(np.array(outdegree_dist)==0)*100/len(outdegree_dist),2),\"%\")"
   ]
  },
  {
   "cell_type": "code",
   "execution_count": null,
   "id": "e008bb92",
   "metadata": {},
   "outputs": [],
   "source": []
  },
  {
   "cell_type": "code",
   "execution_count": 21,
   "id": "17826a0a",
   "metadata": {},
   "outputs": [
    {
     "name": "stdout",
     "output_type": "stream",
     "text": [
      "No of people having 0 followers:  115467  and the % is:  16.33 %\n"
     ]
    }
   ],
   "source": [
    "print(\"No of people having 0 followers: \",sum(np.array(indegree_dist)==0),\" and the % is: \",\n",
    "      round(sum(np.array(indegree_dist)==0)*100/len(indegree_dist),2),\"%\")"
   ]
  },
  {
   "cell_type": "code",
   "execution_count": null,
   "id": "d1914850",
   "metadata": {},
   "outputs": [],
   "source": []
  },
  {
   "cell_type": "raw",
   "id": "60601455",
   "metadata": {},
   "source": [
    "Total No of Users:18,62,220\n",
    "    \n",
    "90-99% of users have on average 20 followers\n",
    "70-74% of users have 5 followers\n",
    "75-80% of users have 6-7 followers\n",
    "50-54% of users have 2 followers\n",
    "55-60% of users have 3 followers\n",
    "20-30% of users have only 1 follower\n",
    "\n",
    "90-99% of users are following 23 users\n",
    "70-74% of users are following 5 users\n",
    "75-80% of users are following 6-7 users\n",
    "50-54% of users are following 2 users\n",
    "55-60% of users are following 3 users\n",
    "20-30% of users are following just 1 user\n",
    "\n",
    "A total of 2,74,512(14.74%) users are not following anyone\n",
    "A total of 1,88,043(10.1%) users have 0 followers"
   ]
  },
  {
   "cell_type": "code",
   "execution_count": null,
   "id": "3ce0d38f",
   "metadata": {},
   "outputs": [],
   "source": []
  },
  {
   "cell_type": "code",
   "execution_count": 22,
   "id": "51da3472",
   "metadata": {},
   "outputs": [
    {
     "data": {
      "text/plain": [
       "1"
      ]
     },
     "execution_count": 22,
     "metadata": {},
     "output_type": "execute_result"
    }
   ],
   "source": [
    "data[\"source_node\"].min()"
   ]
  },
  {
   "cell_type": "code",
   "execution_count": null,
   "id": "16363bfe",
   "metadata": {},
   "outputs": [],
   "source": []
  },
  {
   "cell_type": "code",
   "execution_count": 23,
   "id": "0cf7be5b",
   "metadata": {},
   "outputs": [
    {
     "data": {
      "text/plain": [
       "205019"
      ]
     },
     "execution_count": 23,
     "metadata": {},
     "output_type": "execute_result"
    }
   ],
   "source": [
    "data[\"source_node\"].max()"
   ]
  },
  {
   "cell_type": "code",
   "execution_count": null,
   "id": "7d95ee2e",
   "metadata": {},
   "outputs": [],
   "source": []
  },
  {
   "cell_type": "code",
   "execution_count": 24,
   "id": "547f429f",
   "metadata": {},
   "outputs": [
    {
     "data": {
      "text/plain": [
       "1"
      ]
     },
     "execution_count": 24,
     "metadata": {},
     "output_type": "execute_result"
    }
   ],
   "source": [
    "data[\"destination_node\"].min()"
   ]
  },
  {
   "cell_type": "code",
   "execution_count": null,
   "id": "13f20d9d",
   "metadata": {},
   "outputs": [],
   "source": []
  },
  {
   "cell_type": "code",
   "execution_count": 25,
   "id": "f78f2a78",
   "metadata": {},
   "outputs": [
    {
     "data": {
      "text/plain": [
       "1862218"
      ]
     },
     "execution_count": 25,
     "metadata": {},
     "output_type": "execute_result"
    }
   ],
   "source": [
    "data[\"destination_node\"].max()"
   ]
  },
  {
   "cell_type": "code",
   "execution_count": null,
   "id": "ec5adef8",
   "metadata": {},
   "outputs": [],
   "source": []
  },
  {
   "cell_type": "markdown",
   "id": "98812400",
   "metadata": {},
   "source": [
    "# Retrieve Unconnected Nodes(Negative Samples)"
   ]
  },
  {
   "cell_type": "code",
   "execution_count": null,
   "id": "04a2fe71",
   "metadata": {},
   "outputs": [],
   "source": []
  },
  {
   "cell_type": "code",
   "execution_count": 26,
   "id": "cf196a28",
   "metadata": {},
   "outputs": [
    {
     "data": {
      "text/plain": [
       "Index(['source_node', 'destination_node'], dtype='object')"
      ]
     },
     "execution_count": 26,
     "metadata": {},
     "output_type": "execute_result"
    }
   ],
   "source": [
    "data.columns "
   ]
  },
  {
   "cell_type": "code",
   "execution_count": null,
   "id": "d283bd38",
   "metadata": {},
   "outputs": [],
   "source": []
  },
  {
   "cell_type": "code",
   "execution_count": 27,
   "id": "582d6d99",
   "metadata": {},
   "outputs": [],
   "source": [
    "import random\n",
    "\n",
    "edges=dict()\n",
    "\n",
    "for edge in data:\n",
    "    \n",
    "    edges[(edge[0],edge[1])]=1\n",
    "\n",
    "    \n",
    "missing_edges=set([])\n",
    "\n",
    "while(len(missing_edges)<1048575):\n",
    "    \n",
    "    a=random.randint(1,706881)\n",
    "    b=random.randint(1,706881)\n",
    "    \n",
    "    tmp=edges.get((a,b),-1)\n",
    "    \n",
    "    if tmp==-1 and a!=b:\n",
    "        \n",
    "        try:\n",
    "            \n",
    "            if nx.shortest_path_length(G,source=a,target=b)>2:\n",
    "                \n",
    "                missing_edges.add((a,b))\n",
    "                \n",
    "            else:\n",
    "                \n",
    "                continue\n",
    "        \n",
    "        except:\n",
    "            \n",
    "            missing_edges.add((a,b))\n",
    "    \n",
    "    else:\n",
    "        \n",
    "        continue"
   ]
  },
  {
   "cell_type": "code",
   "execution_count": 28,
   "id": "b4af7ee7",
   "metadata": {},
   "outputs": [
    {
     "data": {
      "text/plain": [
       "1048575"
      ]
     },
     "execution_count": 28,
     "metadata": {},
     "output_type": "execute_result"
    }
   ],
   "source": [
    "len(missing_edges)"
   ]
  },
  {
   "cell_type": "code",
   "execution_count": null,
   "id": "2f592c26",
   "metadata": {},
   "outputs": [],
   "source": []
  },
  {
   "cell_type": "code",
   "execution_count": 29,
   "id": "2b449aac",
   "metadata": {},
   "outputs": [
    {
     "data": {
      "text/plain": [
       "set"
      ]
     },
     "execution_count": 29,
     "metadata": {},
     "output_type": "execute_result"
    }
   ],
   "source": [
    "type(missing_edges)"
   ]
  },
  {
   "cell_type": "code",
   "execution_count": null,
   "id": "5f0fa5b0",
   "metadata": {},
   "outputs": [],
   "source": []
  },
  {
   "cell_type": "code",
   "execution_count": 30,
   "id": "e070b8f3",
   "metadata": {},
   "outputs": [],
   "source": [
    "df_pos=pd.read_csv(\"C:/Users/Shafiq/Desktop/arsh LU/train.csv\")\n",
    "df_neg=pd.DataFrame(list(missing_edges),columns=['source_node', 'destination_node'])"
   ]
  },
  {
   "cell_type": "code",
   "execution_count": null,
   "id": "ccc2bea4",
   "metadata": {},
   "outputs": [],
   "source": []
  },
  {
   "cell_type": "code",
   "execution_count": 31,
   "id": "4b1d4364",
   "metadata": {},
   "outputs": [
    {
     "data": {
      "text/plain": [
       "1048575"
      ]
     },
     "execution_count": 31,
     "metadata": {},
     "output_type": "execute_result"
    }
   ],
   "source": [
    "len(df_pos)"
   ]
  },
  {
   "cell_type": "code",
   "execution_count": null,
   "id": "d44bf816",
   "metadata": {},
   "outputs": [],
   "source": []
  },
  {
   "cell_type": "code",
   "execution_count": 32,
   "id": "de8ffdb2",
   "metadata": {},
   "outputs": [
    {
     "data": {
      "text/html": [
       "<div>\n",
       "<style scoped>\n",
       "    .dataframe tbody tr th:only-of-type {\n",
       "        vertical-align: middle;\n",
       "    }\n",
       "\n",
       "    .dataframe tbody tr th {\n",
       "        vertical-align: top;\n",
       "    }\n",
       "\n",
       "    .dataframe thead th {\n",
       "        text-align: right;\n",
       "    }\n",
       "</style>\n",
       "<table border=\"1\" class=\"dataframe\">\n",
       "  <thead>\n",
       "    <tr style=\"text-align: right;\">\n",
       "      <th></th>\n",
       "      <th>source_node</th>\n",
       "      <th>destination_node</th>\n",
       "    </tr>\n",
       "  </thead>\n",
       "  <tbody>\n",
       "    <tr>\n",
       "      <th>0</th>\n",
       "      <td>1</td>\n",
       "      <td>690569</td>\n",
       "    </tr>\n",
       "    <tr>\n",
       "      <th>1</th>\n",
       "      <td>1</td>\n",
       "      <td>315892</td>\n",
       "    </tr>\n",
       "    <tr>\n",
       "      <th>2</th>\n",
       "      <td>1</td>\n",
       "      <td>189226</td>\n",
       "    </tr>\n",
       "    <tr>\n",
       "      <th>3</th>\n",
       "      <td>2</td>\n",
       "      <td>834328</td>\n",
       "    </tr>\n",
       "    <tr>\n",
       "      <th>4</th>\n",
       "      <td>2</td>\n",
       "      <td>1615927</td>\n",
       "    </tr>\n",
       "  </tbody>\n",
       "</table>\n",
       "</div>"
      ],
      "text/plain": [
       "   source_node  destination_node\n",
       "0            1            690569\n",
       "1            1            315892\n",
       "2            1            189226\n",
       "3            2            834328\n",
       "4            2           1615927"
      ]
     },
     "execution_count": 32,
     "metadata": {},
     "output_type": "execute_result"
    }
   ],
   "source": [
    "df_pos.head()"
   ]
  },
  {
   "cell_type": "code",
   "execution_count": null,
   "id": "c2fb0e05",
   "metadata": {},
   "outputs": [],
   "source": []
  },
  {
   "cell_type": "code",
   "execution_count": 33,
   "id": "df2f84c8",
   "metadata": {},
   "outputs": [
    {
     "data": {
      "text/plain": [
       "1048575"
      ]
     },
     "execution_count": 33,
     "metadata": {},
     "output_type": "execute_result"
    }
   ],
   "source": [
    "len(df_neg)"
   ]
  },
  {
   "cell_type": "code",
   "execution_count": null,
   "id": "86002c11",
   "metadata": {},
   "outputs": [],
   "source": []
  },
  {
   "cell_type": "code",
   "execution_count": 34,
   "id": "9bf80d0e",
   "metadata": {},
   "outputs": [
    {
     "data": {
      "text/html": [
       "<div>\n",
       "<style scoped>\n",
       "    .dataframe tbody tr th:only-of-type {\n",
       "        vertical-align: middle;\n",
       "    }\n",
       "\n",
       "    .dataframe tbody tr th {\n",
       "        vertical-align: top;\n",
       "    }\n",
       "\n",
       "    .dataframe thead th {\n",
       "        text-align: right;\n",
       "    }\n",
       "</style>\n",
       "<table border=\"1\" class=\"dataframe\">\n",
       "  <thead>\n",
       "    <tr style=\"text-align: right;\">\n",
       "      <th></th>\n",
       "      <th>source_node</th>\n",
       "      <th>destination_node</th>\n",
       "    </tr>\n",
       "  </thead>\n",
       "  <tbody>\n",
       "    <tr>\n",
       "      <th>0</th>\n",
       "      <td>110322</td>\n",
       "      <td>138620</td>\n",
       "    </tr>\n",
       "    <tr>\n",
       "      <th>1</th>\n",
       "      <td>89020</td>\n",
       "      <td>200631</td>\n",
       "    </tr>\n",
       "    <tr>\n",
       "      <th>2</th>\n",
       "      <td>26829</td>\n",
       "      <td>453317</td>\n",
       "    </tr>\n",
       "    <tr>\n",
       "      <th>3</th>\n",
       "      <td>481145</td>\n",
       "      <td>405777</td>\n",
       "    </tr>\n",
       "    <tr>\n",
       "      <th>4</th>\n",
       "      <td>545955</td>\n",
       "      <td>337631</td>\n",
       "    </tr>\n",
       "  </tbody>\n",
       "</table>\n",
       "</div>"
      ],
      "text/plain": [
       "   source_node  destination_node\n",
       "0       110322            138620\n",
       "1        89020            200631\n",
       "2        26829            453317\n",
       "3       481145            405777\n",
       "4       545955            337631"
      ]
     },
     "execution_count": 34,
     "metadata": {},
     "output_type": "execute_result"
    }
   ],
   "source": [
    "df_neg.head()"
   ]
  },
  {
   "cell_type": "code",
   "execution_count": null,
   "id": "7a1804ce",
   "metadata": {},
   "outputs": [],
   "source": []
  },
  {
   "cell_type": "code",
   "execution_count": 35,
   "id": "aeb89dc0",
   "metadata": {},
   "outputs": [],
   "source": [
    "link_indicator_pos=[]\n",
    "\n",
    "for i in range(len(df_pos)):\n",
    "    \n",
    "    link_indicator_pos.append(1)\n"
   ]
  },
  {
   "cell_type": "code",
   "execution_count": null,
   "id": "ca4fc7e2",
   "metadata": {},
   "outputs": [],
   "source": []
  },
  {
   "cell_type": "code",
   "execution_count": 36,
   "id": "81191f50",
   "metadata": {},
   "outputs": [],
   "source": [
    "link_indicator_neg=[]\n",
    "\n",
    "for i in range(len(df_neg)):\n",
    "    \n",
    "    link_indicator_neg.append(0)\n"
   ]
  },
  {
   "cell_type": "code",
   "execution_count": null,
   "id": "4a79fc5f",
   "metadata": {},
   "outputs": [],
   "source": []
  },
  {
   "cell_type": "code",
   "execution_count": 37,
   "id": "1531c7dd",
   "metadata": {},
   "outputs": [],
   "source": [
    "df_pos[\"indicator_link\"]=link_indicator_pos\n",
    "\n",
    "df_neg[\"indicator_link\"]=link_indicator_neg\n"
   ]
  },
  {
   "cell_type": "code",
   "execution_count": null,
   "id": "bbeb13b9",
   "metadata": {},
   "outputs": [],
   "source": []
  },
  {
   "cell_type": "code",
   "execution_count": 38,
   "id": "9decc241",
   "metadata": {},
   "outputs": [
    {
     "data": {
      "text/html": [
       "<div>\n",
       "<style scoped>\n",
       "    .dataframe tbody tr th:only-of-type {\n",
       "        vertical-align: middle;\n",
       "    }\n",
       "\n",
       "    .dataframe tbody tr th {\n",
       "        vertical-align: top;\n",
       "    }\n",
       "\n",
       "    .dataframe thead th {\n",
       "        text-align: right;\n",
       "    }\n",
       "</style>\n",
       "<table border=\"1\" class=\"dataframe\">\n",
       "  <thead>\n",
       "    <tr style=\"text-align: right;\">\n",
       "      <th></th>\n",
       "      <th>source_node</th>\n",
       "      <th>destination_node</th>\n",
       "      <th>indicator_link</th>\n",
       "    </tr>\n",
       "  </thead>\n",
       "  <tbody>\n",
       "    <tr>\n",
       "      <th>0</th>\n",
       "      <td>1</td>\n",
       "      <td>690569</td>\n",
       "      <td>1</td>\n",
       "    </tr>\n",
       "    <tr>\n",
       "      <th>1</th>\n",
       "      <td>1</td>\n",
       "      <td>315892</td>\n",
       "      <td>1</td>\n",
       "    </tr>\n",
       "    <tr>\n",
       "      <th>2</th>\n",
       "      <td>1</td>\n",
       "      <td>189226</td>\n",
       "      <td>1</td>\n",
       "    </tr>\n",
       "    <tr>\n",
       "      <th>3</th>\n",
       "      <td>2</td>\n",
       "      <td>834328</td>\n",
       "      <td>1</td>\n",
       "    </tr>\n",
       "    <tr>\n",
       "      <th>4</th>\n",
       "      <td>2</td>\n",
       "      <td>1615927</td>\n",
       "      <td>1</td>\n",
       "    </tr>\n",
       "  </tbody>\n",
       "</table>\n",
       "</div>"
      ],
      "text/plain": [
       "   source_node  destination_node  indicator_link\n",
       "0            1            690569               1\n",
       "1            1            315892               1\n",
       "2            1            189226               1\n",
       "3            2            834328               1\n",
       "4            2           1615927               1"
      ]
     },
     "execution_count": 38,
     "metadata": {},
     "output_type": "execute_result"
    }
   ],
   "source": [
    "df_pos.head()"
   ]
  },
  {
   "cell_type": "code",
   "execution_count": null,
   "id": "8c7396ea",
   "metadata": {},
   "outputs": [],
   "source": []
  },
  {
   "cell_type": "code",
   "execution_count": 39,
   "id": "6266e9cb",
   "metadata": {},
   "outputs": [
    {
     "data": {
      "text/html": [
       "<div>\n",
       "<style scoped>\n",
       "    .dataframe tbody tr th:only-of-type {\n",
       "        vertical-align: middle;\n",
       "    }\n",
       "\n",
       "    .dataframe tbody tr th {\n",
       "        vertical-align: top;\n",
       "    }\n",
       "\n",
       "    .dataframe thead th {\n",
       "        text-align: right;\n",
       "    }\n",
       "</style>\n",
       "<table border=\"1\" class=\"dataframe\">\n",
       "  <thead>\n",
       "    <tr style=\"text-align: right;\">\n",
       "      <th></th>\n",
       "      <th>source_node</th>\n",
       "      <th>destination_node</th>\n",
       "      <th>indicator_link</th>\n",
       "    </tr>\n",
       "  </thead>\n",
       "  <tbody>\n",
       "    <tr>\n",
       "      <th>0</th>\n",
       "      <td>110322</td>\n",
       "      <td>138620</td>\n",
       "      <td>0</td>\n",
       "    </tr>\n",
       "    <tr>\n",
       "      <th>1</th>\n",
       "      <td>89020</td>\n",
       "      <td>200631</td>\n",
       "      <td>0</td>\n",
       "    </tr>\n",
       "    <tr>\n",
       "      <th>2</th>\n",
       "      <td>26829</td>\n",
       "      <td>453317</td>\n",
       "      <td>0</td>\n",
       "    </tr>\n",
       "    <tr>\n",
       "      <th>3</th>\n",
       "      <td>481145</td>\n",
       "      <td>405777</td>\n",
       "      <td>0</td>\n",
       "    </tr>\n",
       "    <tr>\n",
       "      <th>4</th>\n",
       "      <td>545955</td>\n",
       "      <td>337631</td>\n",
       "      <td>0</td>\n",
       "    </tr>\n",
       "  </tbody>\n",
       "</table>\n",
       "</div>"
      ],
      "text/plain": [
       "   source_node  destination_node  indicator_link\n",
       "0       110322            138620               0\n",
       "1        89020            200631               0\n",
       "2        26829            453317               0\n",
       "3       481145            405777               0\n",
       "4       545955            337631               0"
      ]
     },
     "execution_count": 39,
     "metadata": {},
     "output_type": "execute_result"
    }
   ],
   "source": [
    "df_neg.head()"
   ]
  },
  {
   "cell_type": "code",
   "execution_count": null,
   "id": "4cd1b5ae",
   "metadata": {},
   "outputs": [],
   "source": []
  },
  {
   "cell_type": "code",
   "execution_count": 40,
   "id": "a2b9d2fa",
   "metadata": {},
   "outputs": [
    {
     "name": "stdout",
     "output_type": "stream",
     "text": [
      "(1048575, 2)\n",
      "(1048575,)\n"
     ]
    }
   ],
   "source": [
    "x_pos=df_pos.drop(\"indicator_link\",axis=1)\n",
    "y_pos=np.array(df_pos[\"indicator_link\"])\n",
    "\n",
    "print(x_pos.shape)\n",
    "\n",
    "print(y_pos.shape)"
   ]
  },
  {
   "cell_type": "code",
   "execution_count": null,
   "id": "2735d207",
   "metadata": {},
   "outputs": [],
   "source": []
  },
  {
   "cell_type": "code",
   "execution_count": 41,
   "id": "609780aa",
   "metadata": {},
   "outputs": [
    {
     "name": "stdout",
     "output_type": "stream",
     "text": [
      "(1048575, 2)\n",
      "(1048575,)\n"
     ]
    }
   ],
   "source": [
    "x_neg=df_neg.drop(\"indicator_link\",axis=1)\n",
    "y_neg=np.array(df_neg[\"indicator_link\"])\n",
    "\n",
    "print(x_neg.shape)\n",
    "\n",
    "print(y_neg.shape)"
   ]
  },
  {
   "cell_type": "code",
   "execution_count": null,
   "id": "95761bb4",
   "metadata": {},
   "outputs": [],
   "source": []
  },
  {
   "cell_type": "markdown",
   "id": "33e06018",
   "metadata": {},
   "source": [
    "# Creating Train and Test datasets"
   ]
  },
  {
   "cell_type": "code",
   "execution_count": null,
   "id": "54e17b96",
   "metadata": {},
   "outputs": [],
   "source": []
  },
  {
   "cell_type": "code",
   "execution_count": 43,
   "id": "764cf77d",
   "metadata": {},
   "outputs": [],
   "source": [
    "from sklearn.model_selection import train_test_split"
   ]
  },
  {
   "cell_type": "code",
   "execution_count": null,
   "id": "c9807692",
   "metadata": {},
   "outputs": [],
   "source": []
  },
  {
   "cell_type": "code",
   "execution_count": 44,
   "id": "59cf06a2",
   "metadata": {},
   "outputs": [],
   "source": [
    "x_pos_train,x_pos_test,y_pos_train,y_pos_test=train_test_split(x_pos,y_pos,test_size=0.2,random_state=1)\n",
    "x_neg_train,x_neg_test,y_neg_train,y_neg_test=train_test_split(x_neg,y_neg,test_size=0.2,random_state=1)"
   ]
  },
  {
   "cell_type": "code",
   "execution_count": null,
   "id": "de07d4c8",
   "metadata": {},
   "outputs": [],
   "source": []
  },
  {
   "cell_type": "code",
   "execution_count": 45,
   "id": "50ffa86c",
   "metadata": {},
   "outputs": [
    {
     "name": "stdout",
     "output_type": "stream",
     "text": [
      "x_pos_train shape:  (838860, 2)\n",
      "y_pos_train shape:  (838860,)\n",
      "x_pos_test shape:  (209715, 2)\n",
      "y_pos_test shape:  (209715,)\n"
     ]
    }
   ],
   "source": [
    "print(\"x_pos_train shape: \",x_pos_train.shape)\n",
    "print(\"y_pos_train shape: \",y_pos_train.shape)\n",
    "print(\"x_pos_test shape: \",x_pos_test.shape)\n",
    "print(\"y_pos_test shape: \",y_pos_test.shape)"
   ]
  },
  {
   "cell_type": "code",
   "execution_count": null,
   "id": "f5c9ddb8",
   "metadata": {},
   "outputs": [],
   "source": []
  },
  {
   "cell_type": "code",
   "execution_count": 46,
   "id": "e44de09a",
   "metadata": {},
   "outputs": [
    {
     "name": "stdout",
     "output_type": "stream",
     "text": [
      "x_neg_train shape:  (838860, 2)\n",
      "y_neg_train shape:  (838860,)\n",
      "x_neg_test shape:  (209715, 2)\n",
      "y_neg_test shape:  (209715,)\n"
     ]
    }
   ],
   "source": [
    "print(\"x_neg_train shape: \",x_neg_train.shape)\n",
    "print(\"y_neg_train shape: \",y_neg_train.shape)\n",
    "print(\"x_neg_test shape: \",x_neg_test.shape)\n",
    "print(\"y_neg_test shape: \",y_neg_test.shape)"
   ]
  },
  {
   "cell_type": "code",
   "execution_count": null,
   "id": "634d427a",
   "metadata": {},
   "outputs": [],
   "source": []
  },
  {
   "cell_type": "code",
   "execution_count": 47,
   "id": "ec940994",
   "metadata": {},
   "outputs": [
    {
     "name": "stdout",
     "output_type": "stream",
     "text": [
      "x_train shape:  (1677720, 2)\n",
      "y_train shape:  (1677720,)\n",
      "x_test shape:  (419430, 2)\n",
      "y_test shape:  (419430,)\n"
     ]
    },
    {
     "name": "stderr",
     "output_type": "stream",
     "text": [
      "C:\\Users\\Shafiq\\AppData\\Local\\Temp\\ipykernel_12316\\475541058.py:1: FutureWarning: The frame.append method is deprecated and will be removed from pandas in a future version. Use pandas.concat instead.\n",
      "  x_train=x_pos_train.append(x_neg_train,ignore_index=True)\n",
      "C:\\Users\\Shafiq\\AppData\\Local\\Temp\\ipykernel_12316\\475541058.py:4: FutureWarning: The frame.append method is deprecated and will be removed from pandas in a future version. Use pandas.concat instead.\n",
      "  x_test=x_pos_test.append(x_neg_test,ignore_index=True)\n"
     ]
    }
   ],
   "source": [
    "x_train=x_pos_train.append(x_neg_train,ignore_index=True)\n",
    "y_train=np.concatenate((y_pos_train,y_neg_train))\n",
    "\n",
    "x_test=x_pos_test.append(x_neg_test,ignore_index=True)\n",
    "y_test=np.concatenate((y_pos_test,y_neg_test))\n",
    "\n",
    "print(\"x_train shape: \",x_train.shape)\n",
    "print(\"y_train shape: \",y_train.shape)\n",
    "print(\"x_test shape: \",x_test.shape)\n",
    "print(\"y_test shape: \",y_test.shape)"
   ]
  },
  {
   "cell_type": "code",
   "execution_count": null,
   "id": "7f0925d4",
   "metadata": {},
   "outputs": [],
   "source": []
  },
  {
   "cell_type": "code",
   "execution_count": 48,
   "id": "ca9732cd",
   "metadata": {},
   "outputs": [
    {
     "data": {
      "text/plain": [
       "pandas.core.frame.DataFrame"
      ]
     },
     "execution_count": 48,
     "metadata": {},
     "output_type": "execute_result"
    }
   ],
   "source": [
    "type(x_train)"
   ]
  },
  {
   "cell_type": "code",
   "execution_count": 49,
   "id": "27525080",
   "metadata": {},
   "outputs": [
    {
     "data": {
      "text/plain": [
       "numpy.ndarray"
      ]
     },
     "execution_count": 49,
     "metadata": {},
     "output_type": "execute_result"
    }
   ],
   "source": [
    "type(y_train)"
   ]
  },
  {
   "cell_type": "code",
   "execution_count": null,
   "id": "87cc1569",
   "metadata": {},
   "outputs": [],
   "source": []
  },
  {
   "cell_type": "code",
   "execution_count": 50,
   "id": "74a2efa8",
   "metadata": {},
   "outputs": [
    {
     "data": {
      "text/html": [
       "<div>\n",
       "<style scoped>\n",
       "    .dataframe tbody tr th:only-of-type {\n",
       "        vertical-align: middle;\n",
       "    }\n",
       "\n",
       "    .dataframe tbody tr th {\n",
       "        vertical-align: top;\n",
       "    }\n",
       "\n",
       "    .dataframe thead th {\n",
       "        text-align: right;\n",
       "    }\n",
       "</style>\n",
       "<table border=\"1\" class=\"dataframe\">\n",
       "  <thead>\n",
       "    <tr style=\"text-align: right;\">\n",
       "      <th></th>\n",
       "      <th>source_node</th>\n",
       "      <th>destination_node</th>\n",
       "      <th>link_indicator</th>\n",
       "    </tr>\n",
       "  </thead>\n",
       "  <tbody>\n",
       "    <tr>\n",
       "      <th>0</th>\n",
       "      <td>128335</td>\n",
       "      <td>990238</td>\n",
       "      <td>1</td>\n",
       "    </tr>\n",
       "    <tr>\n",
       "      <th>1</th>\n",
       "      <td>64311</td>\n",
       "      <td>874986</td>\n",
       "      <td>1</td>\n",
       "    </tr>\n",
       "    <tr>\n",
       "      <th>2</th>\n",
       "      <td>108983</td>\n",
       "      <td>1416606</td>\n",
       "      <td>1</td>\n",
       "    </tr>\n",
       "    <tr>\n",
       "      <th>3</th>\n",
       "      <td>17882</td>\n",
       "      <td>1789054</td>\n",
       "      <td>1</td>\n",
       "    </tr>\n",
       "    <tr>\n",
       "      <th>4</th>\n",
       "      <td>109045</td>\n",
       "      <td>85458</td>\n",
       "      <td>1</td>\n",
       "    </tr>\n",
       "    <tr>\n",
       "      <th>...</th>\n",
       "      <td>...</td>\n",
       "      <td>...</td>\n",
       "      <td>...</td>\n",
       "    </tr>\n",
       "    <tr>\n",
       "      <th>1677715</th>\n",
       "      <td>631382</td>\n",
       "      <td>196479</td>\n",
       "      <td>0</td>\n",
       "    </tr>\n",
       "    <tr>\n",
       "      <th>1677716</th>\n",
       "      <td>50664</td>\n",
       "      <td>47983</td>\n",
       "      <td>0</td>\n",
       "    </tr>\n",
       "    <tr>\n",
       "      <th>1677717</th>\n",
       "      <td>277610</td>\n",
       "      <td>317522</td>\n",
       "      <td>0</td>\n",
       "    </tr>\n",
       "    <tr>\n",
       "      <th>1677718</th>\n",
       "      <td>443136</td>\n",
       "      <td>132821</td>\n",
       "      <td>0</td>\n",
       "    </tr>\n",
       "    <tr>\n",
       "      <th>1677719</th>\n",
       "      <td>104387</td>\n",
       "      <td>704051</td>\n",
       "      <td>0</td>\n",
       "    </tr>\n",
       "  </tbody>\n",
       "</table>\n",
       "<p>1677720 rows × 3 columns</p>\n",
       "</div>"
      ],
      "text/plain": [
       "         source_node  destination_node  link_indicator\n",
       "0             128335            990238               1\n",
       "1              64311            874986               1\n",
       "2             108983           1416606               1\n",
       "3              17882           1789054               1\n",
       "4             109045             85458               1\n",
       "...              ...               ...             ...\n",
       "1677715       631382            196479               0\n",
       "1677716        50664             47983               0\n",
       "1677717       277610            317522               0\n",
       "1677718       443136            132821               0\n",
       "1677719       104387            704051               0\n",
       "\n",
       "[1677720 rows x 3 columns]"
      ]
     },
     "execution_count": 50,
     "metadata": {},
     "output_type": "execute_result"
    }
   ],
   "source": [
    "final_train=pd.concat([x_train,pd.DataFrame(y_train)],axis=1,ignore_index=True)\n",
    "\n",
    "final_train.columns=[\"source_node\",\"destination_node\",\"link_indicator\"]\n",
    "\n",
    "final_train"
   ]
  },
  {
   "cell_type": "code",
   "execution_count": null,
   "id": "53aba673",
   "metadata": {},
   "outputs": [],
   "source": []
  },
  {
   "cell_type": "code",
   "execution_count": 51,
   "id": "e0525500",
   "metadata": {},
   "outputs": [
    {
     "data": {
      "text/html": [
       "<div>\n",
       "<style scoped>\n",
       "    .dataframe tbody tr th:only-of-type {\n",
       "        vertical-align: middle;\n",
       "    }\n",
       "\n",
       "    .dataframe tbody tr th {\n",
       "        vertical-align: top;\n",
       "    }\n",
       "\n",
       "    .dataframe thead th {\n",
       "        text-align: right;\n",
       "    }\n",
       "</style>\n",
       "<table border=\"1\" class=\"dataframe\">\n",
       "  <thead>\n",
       "    <tr style=\"text-align: right;\">\n",
       "      <th></th>\n",
       "      <th>source_node</th>\n",
       "      <th>destination_node</th>\n",
       "      <th>link_indicator</th>\n",
       "    </tr>\n",
       "  </thead>\n",
       "  <tbody>\n",
       "    <tr>\n",
       "      <th>0</th>\n",
       "      <td>204446</td>\n",
       "      <td>139592</td>\n",
       "      <td>1</td>\n",
       "    </tr>\n",
       "    <tr>\n",
       "      <th>1</th>\n",
       "      <td>70119</td>\n",
       "      <td>256428</td>\n",
       "      <td>1</td>\n",
       "    </tr>\n",
       "    <tr>\n",
       "      <th>2</th>\n",
       "      <td>171448</td>\n",
       "      <td>1548414</td>\n",
       "      <td>1</td>\n",
       "    </tr>\n",
       "    <tr>\n",
       "      <th>3</th>\n",
       "      <td>108453</td>\n",
       "      <td>163467</td>\n",
       "      <td>1</td>\n",
       "    </tr>\n",
       "    <tr>\n",
       "      <th>4</th>\n",
       "      <td>53271</td>\n",
       "      <td>1548358</td>\n",
       "      <td>1</td>\n",
       "    </tr>\n",
       "    <tr>\n",
       "      <th>...</th>\n",
       "      <td>...</td>\n",
       "      <td>...</td>\n",
       "      <td>...</td>\n",
       "    </tr>\n",
       "    <tr>\n",
       "      <th>419425</th>\n",
       "      <td>559059</td>\n",
       "      <td>137244</td>\n",
       "      <td>0</td>\n",
       "    </tr>\n",
       "    <tr>\n",
       "      <th>419426</th>\n",
       "      <td>270923</td>\n",
       "      <td>688340</td>\n",
       "      <td>0</td>\n",
       "    </tr>\n",
       "    <tr>\n",
       "      <th>419427</th>\n",
       "      <td>399586</td>\n",
       "      <td>700444</td>\n",
       "      <td>0</td>\n",
       "    </tr>\n",
       "    <tr>\n",
       "      <th>419428</th>\n",
       "      <td>285081</td>\n",
       "      <td>335390</td>\n",
       "      <td>0</td>\n",
       "    </tr>\n",
       "    <tr>\n",
       "      <th>419429</th>\n",
       "      <td>10864</td>\n",
       "      <td>630525</td>\n",
       "      <td>0</td>\n",
       "    </tr>\n",
       "  </tbody>\n",
       "</table>\n",
       "<p>419430 rows × 3 columns</p>\n",
       "</div>"
      ],
      "text/plain": [
       "        source_node  destination_node  link_indicator\n",
       "0            204446            139592               1\n",
       "1             70119            256428               1\n",
       "2            171448           1548414               1\n",
       "3            108453            163467               1\n",
       "4             53271           1548358               1\n",
       "...             ...               ...             ...\n",
       "419425       559059            137244               0\n",
       "419426       270923            688340               0\n",
       "419427       399586            700444               0\n",
       "419428       285081            335390               0\n",
       "419429        10864            630525               0\n",
       "\n",
       "[419430 rows x 3 columns]"
      ]
     },
     "execution_count": 51,
     "metadata": {},
     "output_type": "execute_result"
    }
   ],
   "source": [
    "final_test=pd.concat([x_test,pd.DataFrame(y_test)],axis=1,ignore_index=True)\n",
    "\n",
    "final_test.columns=[\"source_node\",\"destination_node\",\"link_indicator\"]\n",
    "\n",
    "final_test"
   ]
  },
  {
   "cell_type": "code",
   "execution_count": null,
   "id": "b0c53ed3",
   "metadata": {},
   "outputs": [],
   "source": []
  },
  {
   "cell_type": "markdown",
   "id": "efc38bcd",
   "metadata": {},
   "source": [
    "# Featurization"
   ]
  },
  {
   "cell_type": "code",
   "execution_count": null,
   "id": "f4ed056d",
   "metadata": {},
   "outputs": [],
   "source": []
  },
  {
   "cell_type": "code",
   "execution_count": 52,
   "id": "c34e8ff0",
   "metadata": {},
   "outputs": [
    {
     "name": "stderr",
     "output_type": "stream",
     "text": [
      "C:\\Users\\Shafiq\\AppData\\Local\\Temp\\ipykernel_12316\\3356232990.py:3: DeprecationWarning: info is deprecated and will be removed in version 3.0.\n",
      "\n",
      "  print(nx.info(train_graph))\n"
     ]
    },
    {
     "name": "stdout",
     "output_type": "stream",
     "text": [
      "DiGraph with 986294 nodes and 1677720 edges\n"
     ]
    }
   ],
   "source": [
    "train_graph=nx.from_pandas_edgelist(final_train,source=\"source_node\",target=\"destination_node\",create_using=nx.DiGraph)\n",
    "\n",
    "print(nx.info(train_graph))"
   ]
  },
  {
   "cell_type": "code",
   "execution_count": null,
   "id": "b3b92774",
   "metadata": {},
   "outputs": [],
   "source": []
  },
  {
   "cell_type": "code",
   "execution_count": 53,
   "id": "b34b73f7",
   "metadata": {},
   "outputs": [
    {
     "name": "stderr",
     "output_type": "stream",
     "text": [
      "C:\\Users\\Shafiq\\AppData\\Local\\Temp\\ipykernel_12316\\3533697667.py:3: DeprecationWarning: info is deprecated and will be removed in version 3.0.\n",
      "\n",
      "  print(nx.info(test_graph))\n"
     ]
    },
    {
     "name": "stdout",
     "output_type": "stream",
     "text": [
      "DiGraph with 504097 nodes and 419430 edges\n"
     ]
    }
   ],
   "source": [
    "test_graph=nx.from_pandas_edgelist(final_test,source=\"source_node\",target=\"destination_node\",create_using=nx.DiGraph)\n",
    "\n",
    "print(nx.info(test_graph))"
   ]
  },
  {
   "cell_type": "code",
   "execution_count": null,
   "id": "721487d9",
   "metadata": {},
   "outputs": [],
   "source": []
  },
  {
   "cell_type": "markdown",
   "id": "a1f7a119",
   "metadata": {},
   "source": [
    "# For train dataset"
   ]
  },
  {
   "cell_type": "code",
   "execution_count": null,
   "id": "12fe9850",
   "metadata": {},
   "outputs": [],
   "source": []
  },
  {
   "cell_type": "markdown",
   "id": "095b90ec",
   "metadata": {},
   "source": [
    "# Jaccard Similarity"
   ]
  },
  {
   "cell_type": "code",
   "execution_count": null,
   "id": "4da45c10",
   "metadata": {},
   "outputs": [],
   "source": []
  },
  {
   "cell_type": "code",
   "execution_count": 54,
   "id": "3f28bb1f",
   "metadata": {},
   "outputs": [],
   "source": [
    "def jaccard_followees(n1,n2):\n",
    "    \n",
    "        \n",
    "    try:\n",
    "        \n",
    "               \n",
    "        if(len(set(train_graph.successors(n1)))==0 or len(set(train_graph.successors(n2)))==0):\n",
    "            \n",
    "                       \n",
    "            return 0\n",
    "        \n",
    "        else:\n",
    "            \n",
    "            sim = (len(set(train_graph.successors(n1)).intersection(set(train_graph.successors(n2)))))/\\\n",
    "                                    (len(set(train_graph.successors(n1)).union(set(train_graph.successors(n2)))))\n",
    "            \n",
    "            return sim\n",
    "    \n",
    "    except:\n",
    "        \n",
    "        \n",
    "        return 0"
   ]
  },
  {
   "cell_type": "code",
   "execution_count": null,
   "id": "2a33cc6a",
   "metadata": {},
   "outputs": [],
   "source": []
  },
  {
   "cell_type": "code",
   "execution_count": 55,
   "id": "6df2f2b8",
   "metadata": {},
   "outputs": [
    {
     "data": {
      "text/plain": [
       "0.0"
      ]
     },
     "execution_count": 55,
     "metadata": {},
     "output_type": "execute_result"
    }
   ],
   "source": [
    "jaccard_followees(100102,540347)"
   ]
  },
  {
   "cell_type": "code",
   "execution_count": null,
   "id": "685c0384",
   "metadata": {},
   "outputs": [],
   "source": []
  },
  {
   "cell_type": "code",
   "execution_count": 56,
   "id": "dcd03ec6",
   "metadata": {},
   "outputs": [
    {
     "data": {
      "text/plain": [
       "{162646, 569291}"
      ]
     },
     "execution_count": 56,
     "metadata": {},
     "output_type": "execute_result"
    }
   ],
   "source": [
    "set(train_graph.successors(100102))"
   ]
  },
  {
   "cell_type": "code",
   "execution_count": null,
   "id": "3a346504",
   "metadata": {},
   "outputs": [],
   "source": []
  },
  {
   "cell_type": "code",
   "execution_count": 57,
   "id": "20893e69",
   "metadata": {},
   "outputs": [
    {
     "data": {
      "text/plain": [
       "{44997}"
      ]
     },
     "execution_count": 57,
     "metadata": {},
     "output_type": "execute_result"
    }
   ],
   "source": [
    "set(train_graph.successors(540347))"
   ]
  },
  {
   "cell_type": "code",
   "execution_count": null,
   "id": "9c43b5c1",
   "metadata": {},
   "outputs": [],
   "source": []
  },
  {
   "cell_type": "code",
   "execution_count": 58,
   "id": "2260cb3d",
   "metadata": {},
   "outputs": [],
   "source": [
    "def jaccard_followers(n1,n2):\n",
    "    \n",
    "        \n",
    "    try:\n",
    "        \n",
    "               \n",
    "        if(len(set(train_graph.predecessors(n1)))==0 or len(set(train_graph.predecessors(n2)))==0):\n",
    "            \n",
    "                       \n",
    "            return 0\n",
    "        \n",
    "        else:\n",
    "            \n",
    "            sim = (len(set(train_graph.predecessors(n1)).intersection(set(train_graph.predecessors(n2)))))/\\\n",
    "                                    (len(set(train_graph.predecessors(n1)).union(set(train_graph.predecessors(n2)))))\n",
    "            \n",
    "            return sim\n",
    "    \n",
    "    except:\n",
    "        \n",
    "        \n",
    "        return 0"
   ]
  },
  {
   "cell_type": "code",
   "execution_count": null,
   "id": "d5325b92",
   "metadata": {},
   "outputs": [],
   "source": []
  },
  {
   "cell_type": "code",
   "execution_count": 59,
   "id": "c7a1b221",
   "metadata": {},
   "outputs": [
    {
     "data": {
      "text/plain": [
       "0"
      ]
     },
     "execution_count": 59,
     "metadata": {},
     "output_type": "execute_result"
    }
   ],
   "source": [
    "jaccard_followers(100102,540347)"
   ]
  },
  {
   "cell_type": "code",
   "execution_count": null,
   "id": "5b091fa3",
   "metadata": {},
   "outputs": [],
   "source": []
  },
  {
   "cell_type": "code",
   "execution_count": 60,
   "id": "c2441a1f",
   "metadata": {},
   "outputs": [
    {
     "data": {
      "text/plain": [
       "{131512, 162646, 226467}"
      ]
     },
     "execution_count": 60,
     "metadata": {},
     "output_type": "execute_result"
    }
   ],
   "source": [
    "set(train_graph.predecessors(100102))"
   ]
  },
  {
   "cell_type": "code",
   "execution_count": null,
   "id": "edc31012",
   "metadata": {},
   "outputs": [],
   "source": []
  },
  {
   "cell_type": "code",
   "execution_count": 61,
   "id": "f63da9ff",
   "metadata": {},
   "outputs": [
    {
     "data": {
      "text/plain": [
       "set()"
      ]
     },
     "execution_count": 61,
     "metadata": {},
     "output_type": "execute_result"
    }
   ],
   "source": [
    "set(train_graph.predecessors(540347))"
   ]
  },
  {
   "cell_type": "code",
   "execution_count": null,
   "id": "7dbac3b1",
   "metadata": {},
   "outputs": [],
   "source": []
  },
  {
   "cell_type": "markdown",
   "id": "81162734",
   "metadata": {},
   "source": [
    "# Cosine Similarity"
   ]
  },
  {
   "cell_type": "code",
   "execution_count": null,
   "id": "7318dfac",
   "metadata": {},
   "outputs": [],
   "source": []
  },
  {
   "cell_type": "code",
   "execution_count": 62,
   "id": "49b40f31",
   "metadata": {},
   "outputs": [],
   "source": [
    "def cosine_followees(n1,n2):\n",
    "    try:\n",
    "        if len(set(train_graph.successors(n1))) == 0  | len(set(train_graph.successors(n2))) == 0:\n",
    "            return 0\n",
    "        sim = (len(set(train_graph.successors(n1)).intersection(set(train_graph.successors(n2)))))/\\\n",
    "                                    (math.sqrt(len(set(train_graph.successors(n1)))*len((set(train_graph.successors(n2))))))\n",
    "       \n",
    "        return sim\n",
    "    \n",
    "    except:\n",
    "        return 0"
   ]
  },
  {
   "cell_type": "code",
   "execution_count": null,
   "id": "244b5fd1",
   "metadata": {},
   "outputs": [],
   "source": []
  },
  {
   "cell_type": "code",
   "execution_count": 63,
   "id": "e1ec05e3",
   "metadata": {},
   "outputs": [
    {
     "data": {
      "text/plain": [
       "0"
      ]
     },
     "execution_count": 63,
     "metadata": {},
     "output_type": "execute_result"
    }
   ],
   "source": [
    "cosine_followees(100102,540347)"
   ]
  },
  {
   "cell_type": "code",
   "execution_count": null,
   "id": "42994fc8",
   "metadata": {},
   "outputs": [],
   "source": []
  },
  {
   "cell_type": "code",
   "execution_count": 64,
   "id": "50f00ac6",
   "metadata": {},
   "outputs": [],
   "source": [
    "def cosine_followers(n1,n2):\n",
    "    try:\n",
    "        if len(set(train_graph.predecessors(n1))) == 0  | len(set(train_graph.predecessors(n2))) == 0:\n",
    "            return 0\n",
    "        sim = (len(set(train_graph.predecessors(n1)).intersection(set(train_graph.predecessors(n2)))))/\\\n",
    "                                    (math.sqrt(len(set(train_graph.predecessors(n1)))*len((set(train_graph.predecessors(n2))))))\n",
    "       \n",
    "        return sim\n",
    "    \n",
    "    except:\n",
    "        return 0"
   ]
  },
  {
   "cell_type": "code",
   "execution_count": null,
   "id": "dc6cad09",
   "metadata": {},
   "outputs": [],
   "source": []
  },
  {
   "cell_type": "code",
   "execution_count": 65,
   "id": "6b6095ee",
   "metadata": {},
   "outputs": [
    {
     "data": {
      "text/plain": [
       "0"
      ]
     },
     "execution_count": 65,
     "metadata": {},
     "output_type": "execute_result"
    }
   ],
   "source": [
    "cosine_followers(100102,540347)"
   ]
  },
  {
   "cell_type": "code",
   "execution_count": null,
   "id": "8d3afef2",
   "metadata": {},
   "outputs": [],
   "source": []
  },
  {
   "cell_type": "markdown",
   "id": "5d9464c1",
   "metadata": {},
   "source": [
    "# Avg_Similarity"
   ]
  },
  {
   "cell_type": "code",
   "execution_count": null,
   "id": "bcc692b3",
   "metadata": {},
   "outputs": [],
   "source": []
  },
  {
   "cell_type": "code",
   "execution_count": 66,
   "id": "01cc827e",
   "metadata": {},
   "outputs": [],
   "source": [
    "def avgsim_followees(n1,n2):\n",
    "    \n",
    "    jaccard=jaccard_followees(n1,n2)\n",
    "    cosine=cosine_followees(n1,n2)\n",
    "    \n",
    "    sim=round(((jaccard+cosine)/2),2)\n",
    "    \n",
    "    return sim"
   ]
  },
  {
   "cell_type": "code",
   "execution_count": null,
   "id": "faff6f73",
   "metadata": {},
   "outputs": [],
   "source": []
  },
  {
   "cell_type": "code",
   "execution_count": 67,
   "id": "64728060",
   "metadata": {},
   "outputs": [
    {
     "data": {
      "text/plain": [
       "0.0"
      ]
     },
     "execution_count": 67,
     "metadata": {},
     "output_type": "execute_result"
    }
   ],
   "source": [
    "avgsim_followees(100102,540347)"
   ]
  },
  {
   "cell_type": "code",
   "execution_count": null,
   "id": "707b1634",
   "metadata": {},
   "outputs": [],
   "source": []
  },
  {
   "cell_type": "code",
   "execution_count": 68,
   "id": "ec94f635",
   "metadata": {},
   "outputs": [],
   "source": [
    "def avgsim_followers(n1,n2):\n",
    "    \n",
    "    jaccard=jaccard_followers(n1,n2)\n",
    "    cosine=cosine_followers(n1,n2)\n",
    "    \n",
    "    sim=round(((jaccard+cosine)/2),2)\n",
    "    \n",
    "    return sim"
   ]
  },
  {
   "cell_type": "code",
   "execution_count": null,
   "id": "b00ed40c",
   "metadata": {},
   "outputs": [],
   "source": []
  },
  {
   "cell_type": "code",
   "execution_count": 69,
   "id": "83b3901f",
   "metadata": {},
   "outputs": [
    {
     "data": {
      "text/plain": [
       "0.0"
      ]
     },
     "execution_count": 69,
     "metadata": {},
     "output_type": "execute_result"
    }
   ],
   "source": [
    "avgsim_followers(100102,540347)"
   ]
  },
  {
   "cell_type": "code",
   "execution_count": null,
   "id": "9cb3b58a",
   "metadata": {},
   "outputs": [],
   "source": []
  },
  {
   "cell_type": "markdown",
   "id": "8e94bd8f",
   "metadata": {},
   "source": [
    "# Adamic/Adar Index "
   ]
  },
  {
   "cell_type": "code",
   "execution_count": null,
   "id": "e815390e",
   "metadata": {},
   "outputs": [],
   "source": []
  },
  {
   "cell_type": "code",
   "execution_count": 70,
   "id": "36260f97",
   "metadata": {},
   "outputs": [],
   "source": [
    "def adar_in(n1,n2):\n",
    "    \n",
    "    sum=0\n",
    "    \n",
    "    try:\n",
    "        \n",
    "        n=list(set(train_graph.successors(n1)).intersection(set(train_graph.successors(n2))))\n",
    "        \n",
    "        if len(n)!=0:\n",
    "            \n",
    "            for i in n:\n",
    "                \n",
    "                sum=sum+(1/np.log10(len(list(train_graph.predecessors(i)))))\n",
    "                \n",
    "            return sum\n",
    "        \n",
    "        else:\n",
    "            \n",
    "            return 0\n",
    "    except:\n",
    "        \n",
    "        return 0"
   ]
  },
  {
   "cell_type": "code",
   "execution_count": null,
   "id": "353b4bed",
   "metadata": {},
   "outputs": [],
   "source": []
  },
  {
   "cell_type": "code",
   "execution_count": 71,
   "id": "521a9298",
   "metadata": {},
   "outputs": [
    {
     "data": {
      "text/plain": [
       "0"
      ]
     },
     "execution_count": 71,
     "metadata": {},
     "output_type": "execute_result"
    }
   ],
   "source": [
    "adar_in(100102,540347)"
   ]
  },
  {
   "cell_type": "code",
   "execution_count": null,
   "id": "89ed6268",
   "metadata": {},
   "outputs": [],
   "source": []
  },
  {
   "cell_type": "code",
   "execution_count": 72,
   "id": "05732b70",
   "metadata": {},
   "outputs": [
    {
     "data": {
      "text/plain": [
       "0"
      ]
     },
     "execution_count": 72,
     "metadata": {},
     "output_type": "execute_result"
    }
   ],
   "source": [
    "adar_in(128335,990238)"
   ]
  },
  {
   "cell_type": "code",
   "execution_count": null,
   "id": "75d0a23d",
   "metadata": {},
   "outputs": [],
   "source": []
  },
  {
   "cell_type": "markdown",
   "id": "24711727",
   "metadata": {},
   "source": [
    "# Is Followback"
   ]
  },
  {
   "cell_type": "code",
   "execution_count": null,
   "id": "c6bb6ab6",
   "metadata": {},
   "outputs": [],
   "source": []
  },
  {
   "cell_type": "code",
   "execution_count": 73,
   "id": "e5c157ec",
   "metadata": {},
   "outputs": [],
   "source": [
    "def is_followback(n1,n2):\n",
    "    \n",
    "    if train_graph.has_edge(n1,n2):\n",
    "        \n",
    "        return 1\n",
    "    \n",
    "    else:\n",
    "        \n",
    "        return 0\n",
    "    \n",
    "    "
   ]
  },
  {
   "cell_type": "code",
   "execution_count": null,
   "id": "c320bf15",
   "metadata": {},
   "outputs": [],
   "source": []
  },
  {
   "cell_type": "code",
   "execution_count": 74,
   "id": "63fff54b",
   "metadata": {},
   "outputs": [
    {
     "data": {
      "text/plain": [
       "1"
      ]
     },
     "execution_count": 74,
     "metadata": {},
     "output_type": "execute_result"
    }
   ],
   "source": [
    "is_followback(128335,990238)"
   ]
  },
  {
   "cell_type": "code",
   "execution_count": null,
   "id": "6000e4c1",
   "metadata": {},
   "outputs": [],
   "source": []
  },
  {
   "cell_type": "markdown",
   "id": "eeec79cc",
   "metadata": {},
   "source": [
    "# Shortest Path"
   ]
  },
  {
   "cell_type": "code",
   "execution_count": null,
   "id": "f235e6e5",
   "metadata": {},
   "outputs": [],
   "source": []
  },
  {
   "cell_type": "code",
   "execution_count": 75,
   "id": "ce10dbc7",
   "metadata": {},
   "outputs": [],
   "source": [
    "def shortest_path_length(n1,n2):\n",
    "    path=-1\n",
    "    try:\n",
    "        if train_graph.has_edge(n1,n2):\n",
    "            train_graph.remove_edge(n1,n2)\n",
    "            path= nx.shortest_path_length(train_graph,source=n1,target=n2)\n",
    "            train_graph.add_edge(n1,n2)\n",
    "        else:\n",
    "            path= nx.shortest_path_length(train_graph,source=n1,target=n2)\n",
    "        return path\n",
    "    except:\n",
    "        return -1"
   ]
  },
  {
   "cell_type": "code",
   "execution_count": null,
   "id": "b9819e38",
   "metadata": {},
   "outputs": [],
   "source": []
  },
  {
   "cell_type": "code",
   "execution_count": 76,
   "id": "f3597bdc",
   "metadata": {},
   "outputs": [
    {
     "data": {
      "text/plain": [
       "3"
      ]
     },
     "execution_count": 76,
     "metadata": {},
     "output_type": "execute_result"
    }
   ],
   "source": [
    "shortest_path_length(128335,990238)"
   ]
  },
  {
   "cell_type": "code",
   "execution_count": null,
   "id": "de93ca65",
   "metadata": {},
   "outputs": [],
   "source": []
  },
  {
   "cell_type": "code",
   "execution_count": 77,
   "id": "90809a04",
   "metadata": {},
   "outputs": [
    {
     "data": {
      "text/html": [
       "<div>\n",
       "<style scoped>\n",
       "    .dataframe tbody tr th:only-of-type {\n",
       "        vertical-align: middle;\n",
       "    }\n",
       "\n",
       "    .dataframe tbody tr th {\n",
       "        vertical-align: top;\n",
       "    }\n",
       "\n",
       "    .dataframe thead th {\n",
       "        text-align: right;\n",
       "    }\n",
       "</style>\n",
       "<table border=\"1\" class=\"dataframe\">\n",
       "  <thead>\n",
       "    <tr style=\"text-align: right;\">\n",
       "      <th></th>\n",
       "      <th>source_node</th>\n",
       "      <th>destination_node</th>\n",
       "      <th>link_indicator</th>\n",
       "    </tr>\n",
       "  </thead>\n",
       "  <tbody>\n",
       "    <tr>\n",
       "      <th>0</th>\n",
       "      <td>128335</td>\n",
       "      <td>990238</td>\n",
       "      <td>1</td>\n",
       "    </tr>\n",
       "    <tr>\n",
       "      <th>1</th>\n",
       "      <td>64311</td>\n",
       "      <td>874986</td>\n",
       "      <td>1</td>\n",
       "    </tr>\n",
       "    <tr>\n",
       "      <th>2</th>\n",
       "      <td>108983</td>\n",
       "      <td>1416606</td>\n",
       "      <td>1</td>\n",
       "    </tr>\n",
       "    <tr>\n",
       "      <th>3</th>\n",
       "      <td>17882</td>\n",
       "      <td>1789054</td>\n",
       "      <td>1</td>\n",
       "    </tr>\n",
       "    <tr>\n",
       "      <th>4</th>\n",
       "      <td>109045</td>\n",
       "      <td>85458</td>\n",
       "      <td>1</td>\n",
       "    </tr>\n",
       "  </tbody>\n",
       "</table>\n",
       "</div>"
      ],
      "text/plain": [
       "   source_node  destination_node  link_indicator\n",
       "0       128335            990238               1\n",
       "1        64311            874986               1\n",
       "2       108983           1416606               1\n",
       "3        17882           1789054               1\n",
       "4       109045             85458               1"
      ]
     },
     "execution_count": 77,
     "metadata": {},
     "output_type": "execute_result"
    }
   ],
   "source": [
    "df=final_train.head()\n",
    "\n",
    "df"
   ]
  },
  {
   "cell_type": "code",
   "execution_count": null,
   "id": "2e3a9ad5",
   "metadata": {},
   "outputs": [],
   "source": []
  },
  {
   "cell_type": "code",
   "execution_count": 78,
   "id": "c51660db",
   "metadata": {},
   "outputs": [
    {
     "name": "stdout",
     "output_type": "stream",
     "text": [
      "DiGraph with 10 nodes and 5 edges\n"
     ]
    },
    {
     "name": "stderr",
     "output_type": "stream",
     "text": [
      "C:\\Users\\Shafiq\\AppData\\Local\\Temp\\ipykernel_12316\\1025518738.py:3: DeprecationWarning: info is deprecated and will be removed in version 3.0.\n",
      "\n",
      "  print(nx.info(g))\n"
     ]
    }
   ],
   "source": [
    "g=nx.from_pandas_edgelist(df,source=\"source_node\",target=\"destination_node\",create_using=nx.DiGraph)\n",
    "\n",
    "print(nx.info(g))"
   ]
  },
  {
   "cell_type": "code",
   "execution_count": 79,
   "id": "eb715050",
   "metadata": {},
   "outputs": [],
   "source": [
    "from tqdm import tqdm"
   ]
  },
  {
   "cell_type": "code",
   "execution_count": 80,
   "id": "6333d197",
   "metadata": {},
   "outputs": [
    {
     "name": "stderr",
     "output_type": "stream",
     "text": [
      "100%|██████████████████████████████████████████████████████████████████████████████████████████| 10/10 [00:00<?, ?it/s]"
     ]
    },
    {
     "name": "stdout",
     "output_type": "stream",
     "text": [
      "128335\n",
      "990238\n",
      "64311\n",
      "874986\n",
      "108983\n",
      "1416606\n",
      "17882\n",
      "1789054\n",
      "109045\n",
      "85458\n"
     ]
    },
    {
     "name": "stderr",
     "output_type": "stream",
     "text": [
      "\n"
     ]
    }
   ],
   "source": [
    "for i in  tqdm(g.nodes()):\n",
    "    \n",
    "    print(i)"
   ]
  },
  {
   "cell_type": "code",
   "execution_count": null,
   "id": "732ddbb2",
   "metadata": {},
   "outputs": [],
   "source": []
  },
  {
   "cell_type": "markdown",
   "id": "e3b7135a",
   "metadata": {},
   "source": [
    "# Weight Indexes"
   ]
  },
  {
   "cell_type": "code",
   "execution_count": null,
   "id": "45c57f30",
   "metadata": {},
   "outputs": [],
   "source": []
  },
  {
   "cell_type": "code",
   "execution_count": 81,
   "id": "114abcc9",
   "metadata": {},
   "outputs": [
    {
     "name": "stderr",
     "output_type": "stream",
     "text": [
      "100%|██████████████████████████████████████████████████████████████████████| 986294/986294 [00:08<00:00, 122922.27it/s]\n"
     ]
    }
   ],
   "source": [
    "Weight_in = {}\n",
    "Weight_out = {}\n",
    "\n",
    "for i in  tqdm(train_graph.nodes()):\n",
    "    \n",
    "    win=set(train_graph.predecessors(i))\n",
    "    \n",
    "    w_in = 1.0/(np.sqrt(1+len(win)))\n",
    "    \n",
    "    Weight_in[i]=w_in\n",
    "    \n",
    "    wout=set(train_graph.successors(i))\n",
    "    \n",
    "    w_out = 1.0/(np.sqrt(1+len(wout)))\n",
    "    \n",
    "    Weight_out[i]=w_out"
   ]
  },
  {
   "cell_type": "code",
   "execution_count": null,
   "id": "00cd22c7",
   "metadata": {},
   "outputs": [],
   "source": []
  },
  {
   "cell_type": "code",
   "execution_count": 82,
   "id": "8dfd2a20",
   "metadata": {},
   "outputs": [
    {
     "data": {
      "text/plain": [
       "986294"
      ]
     },
     "execution_count": 82,
     "metadata": {},
     "output_type": "execute_result"
    }
   ],
   "source": [
    "len(Weight_in)"
   ]
  },
  {
   "cell_type": "code",
   "execution_count": null,
   "id": "c69d535c",
   "metadata": {},
   "outputs": [],
   "source": []
  },
  {
   "cell_type": "code",
   "execution_count": 83,
   "id": "dffb87ef",
   "metadata": {},
   "outputs": [],
   "source": [
    "mean_weight_in = np.mean(list(Weight_in.values()))\n",
    "mean_weight_out = np.mean(list(Weight_out.values()))\n"
   ]
  },
  {
   "cell_type": "code",
   "execution_count": null,
   "id": "a0182140",
   "metadata": {},
   "outputs": [],
   "source": []
  },
  {
   "cell_type": "code",
   "execution_count": 84,
   "id": "9b6c0295",
   "metadata": {},
   "outputs": [
    {
     "data": {
      "text/plain": [
       "0.6631364251212946"
      ]
     },
     "execution_count": 84,
     "metadata": {},
     "output_type": "execute_result"
    }
   ],
   "source": [
    "mean_weight_in"
   ]
  },
  {
   "cell_type": "code",
   "execution_count": null,
   "id": "6eee7669",
   "metadata": {},
   "outputs": [],
   "source": []
  },
  {
   "cell_type": "code",
   "execution_count": 85,
   "id": "03e73d14",
   "metadata": {},
   "outputs": [],
   "source": [
    "ftrain=final_train.copy()"
   ]
  },
  {
   "cell_type": "code",
   "execution_count": null,
   "id": "8bd16bd2",
   "metadata": {},
   "outputs": [],
   "source": []
  },
  {
   "cell_type": "code",
   "execution_count": 86,
   "id": "548ce531",
   "metadata": {},
   "outputs": [],
   "source": [
    "ftrain['weight_in'] = ftrain.destination_node.apply(lambda x: Weight_in.get(x,mean_weight_in))\n",
    "ftrain['weight_out'] = ftrain.source_node.apply(lambda x: Weight_out.get(x,mean_weight_out))"
   ]
  },
  {
   "cell_type": "code",
   "execution_count": null,
   "id": "797d8a99",
   "metadata": {},
   "outputs": [],
   "source": []
  },
  {
   "cell_type": "code",
   "execution_count": 87,
   "id": "56550402",
   "metadata": {},
   "outputs": [
    {
     "data": {
      "text/html": [
       "<div>\n",
       "<style scoped>\n",
       "    .dataframe tbody tr th:only-of-type {\n",
       "        vertical-align: middle;\n",
       "    }\n",
       "\n",
       "    .dataframe tbody tr th {\n",
       "        vertical-align: top;\n",
       "    }\n",
       "\n",
       "    .dataframe thead th {\n",
       "        text-align: right;\n",
       "    }\n",
       "</style>\n",
       "<table border=\"1\" class=\"dataframe\">\n",
       "  <thead>\n",
       "    <tr style=\"text-align: right;\">\n",
       "      <th></th>\n",
       "      <th>source_node</th>\n",
       "      <th>destination_node</th>\n",
       "      <th>link_indicator</th>\n",
       "      <th>weight_in</th>\n",
       "      <th>weight_out</th>\n",
       "    </tr>\n",
       "  </thead>\n",
       "  <tbody>\n",
       "    <tr>\n",
       "      <th>0</th>\n",
       "      <td>128335</td>\n",
       "      <td>990238</td>\n",
       "      <td>1</td>\n",
       "      <td>0.408248</td>\n",
       "      <td>0.134840</td>\n",
       "    </tr>\n",
       "    <tr>\n",
       "      <th>1</th>\n",
       "      <td>64311</td>\n",
       "      <td>874986</td>\n",
       "      <td>1</td>\n",
       "      <td>0.577350</td>\n",
       "      <td>0.242536</td>\n",
       "    </tr>\n",
       "    <tr>\n",
       "      <th>2</th>\n",
       "      <td>108983</td>\n",
       "      <td>1416606</td>\n",
       "      <td>1</td>\n",
       "      <td>0.577350</td>\n",
       "      <td>0.333333</td>\n",
       "    </tr>\n",
       "    <tr>\n",
       "      <th>3</th>\n",
       "      <td>17882</td>\n",
       "      <td>1789054</td>\n",
       "      <td>1</td>\n",
       "      <td>0.707107</td>\n",
       "      <td>0.408248</td>\n",
       "    </tr>\n",
       "    <tr>\n",
       "      <th>4</th>\n",
       "      <td>109045</td>\n",
       "      <td>85458</td>\n",
       "      <td>1</td>\n",
       "      <td>0.447214</td>\n",
       "      <td>0.185695</td>\n",
       "    </tr>\n",
       "    <tr>\n",
       "      <th>...</th>\n",
       "      <td>...</td>\n",
       "      <td>...</td>\n",
       "      <td>...</td>\n",
       "      <td>...</td>\n",
       "      <td>...</td>\n",
       "    </tr>\n",
       "    <tr>\n",
       "      <th>1677715</th>\n",
       "      <td>631382</td>\n",
       "      <td>196479</td>\n",
       "      <td>0</td>\n",
       "      <td>0.707107</td>\n",
       "      <td>0.577350</td>\n",
       "    </tr>\n",
       "    <tr>\n",
       "      <th>1677716</th>\n",
       "      <td>50664</td>\n",
       "      <td>47983</td>\n",
       "      <td>0</td>\n",
       "      <td>0.447214</td>\n",
       "      <td>0.353553</td>\n",
       "    </tr>\n",
       "    <tr>\n",
       "      <th>1677717</th>\n",
       "      <td>277610</td>\n",
       "      <td>317522</td>\n",
       "      <td>0</td>\n",
       "      <td>0.707107</td>\n",
       "      <td>0.500000</td>\n",
       "    </tr>\n",
       "    <tr>\n",
       "      <th>1677718</th>\n",
       "      <td>443136</td>\n",
       "      <td>132821</td>\n",
       "      <td>0</td>\n",
       "      <td>0.577350</td>\n",
       "      <td>0.707107</td>\n",
       "    </tr>\n",
       "    <tr>\n",
       "      <th>1677719</th>\n",
       "      <td>104387</td>\n",
       "      <td>704051</td>\n",
       "      <td>0</td>\n",
       "      <td>0.707107</td>\n",
       "      <td>0.500000</td>\n",
       "    </tr>\n",
       "  </tbody>\n",
       "</table>\n",
       "<p>1677720 rows × 5 columns</p>\n",
       "</div>"
      ],
      "text/plain": [
       "         source_node  destination_node  link_indicator  weight_in  weight_out\n",
       "0             128335            990238               1   0.408248    0.134840\n",
       "1              64311            874986               1   0.577350    0.242536\n",
       "2             108983           1416606               1   0.577350    0.333333\n",
       "3              17882           1789054               1   0.707107    0.408248\n",
       "4             109045             85458               1   0.447214    0.185695\n",
       "...              ...               ...             ...        ...         ...\n",
       "1677715       631382            196479               0   0.707107    0.577350\n",
       "1677716        50664             47983               0   0.447214    0.353553\n",
       "1677717       277610            317522               0   0.707107    0.500000\n",
       "1677718       443136            132821               0   0.577350    0.707107\n",
       "1677719       104387            704051               0   0.707107    0.500000\n",
       "\n",
       "[1677720 rows x 5 columns]"
      ]
     },
     "execution_count": 87,
     "metadata": {},
     "output_type": "execute_result"
    }
   ],
   "source": [
    "ftrain"
   ]
  },
  {
   "cell_type": "code",
   "execution_count": null,
   "id": "75ea65b9",
   "metadata": {},
   "outputs": [],
   "source": []
  },
  {
   "cell_type": "code",
   "execution_count": 88,
   "id": "b056c61c",
   "metadata": {},
   "outputs": [
    {
     "data": {
      "text/html": [
       "<div>\n",
       "<style scoped>\n",
       "    .dataframe tbody tr th:only-of-type {\n",
       "        vertical-align: middle;\n",
       "    }\n",
       "\n",
       "    .dataframe tbody tr th {\n",
       "        vertical-align: top;\n",
       "    }\n",
       "\n",
       "    .dataframe thead th {\n",
       "        text-align: right;\n",
       "    }\n",
       "</style>\n",
       "<table border=\"1\" class=\"dataframe\">\n",
       "  <thead>\n",
       "    <tr style=\"text-align: right;\">\n",
       "      <th></th>\n",
       "      <th>source_node</th>\n",
       "      <th>destination_node</th>\n",
       "      <th>link_indicator</th>\n",
       "      <th>weight_in</th>\n",
       "      <th>weight_out</th>\n",
       "    </tr>\n",
       "  </thead>\n",
       "  <tbody>\n",
       "    <tr>\n",
       "      <th>0</th>\n",
       "      <td>128335</td>\n",
       "      <td>990238</td>\n",
       "      <td>1</td>\n",
       "      <td>0.408248</td>\n",
       "      <td>0.134840</td>\n",
       "    </tr>\n",
       "    <tr>\n",
       "      <th>1</th>\n",
       "      <td>64311</td>\n",
       "      <td>874986</td>\n",
       "      <td>1</td>\n",
       "      <td>0.577350</td>\n",
       "      <td>0.242536</td>\n",
       "    </tr>\n",
       "    <tr>\n",
       "      <th>2</th>\n",
       "      <td>108983</td>\n",
       "      <td>1416606</td>\n",
       "      <td>1</td>\n",
       "      <td>0.577350</td>\n",
       "      <td>0.333333</td>\n",
       "    </tr>\n",
       "    <tr>\n",
       "      <th>3</th>\n",
       "      <td>17882</td>\n",
       "      <td>1789054</td>\n",
       "      <td>1</td>\n",
       "      <td>0.707107</td>\n",
       "      <td>0.408248</td>\n",
       "    </tr>\n",
       "    <tr>\n",
       "      <th>4</th>\n",
       "      <td>109045</td>\n",
       "      <td>85458</td>\n",
       "      <td>1</td>\n",
       "      <td>0.447214</td>\n",
       "      <td>0.185695</td>\n",
       "    </tr>\n",
       "    <tr>\n",
       "      <th>...</th>\n",
       "      <td>...</td>\n",
       "      <td>...</td>\n",
       "      <td>...</td>\n",
       "      <td>...</td>\n",
       "      <td>...</td>\n",
       "    </tr>\n",
       "    <tr>\n",
       "      <th>1677715</th>\n",
       "      <td>631382</td>\n",
       "      <td>196479</td>\n",
       "      <td>0</td>\n",
       "      <td>0.707107</td>\n",
       "      <td>0.577350</td>\n",
       "    </tr>\n",
       "    <tr>\n",
       "      <th>1677716</th>\n",
       "      <td>50664</td>\n",
       "      <td>47983</td>\n",
       "      <td>0</td>\n",
       "      <td>0.447214</td>\n",
       "      <td>0.353553</td>\n",
       "    </tr>\n",
       "    <tr>\n",
       "      <th>1677717</th>\n",
       "      <td>277610</td>\n",
       "      <td>317522</td>\n",
       "      <td>0</td>\n",
       "      <td>0.707107</td>\n",
       "      <td>0.500000</td>\n",
       "    </tr>\n",
       "    <tr>\n",
       "      <th>1677718</th>\n",
       "      <td>443136</td>\n",
       "      <td>132821</td>\n",
       "      <td>0</td>\n",
       "      <td>0.577350</td>\n",
       "      <td>0.707107</td>\n",
       "    </tr>\n",
       "    <tr>\n",
       "      <th>1677719</th>\n",
       "      <td>104387</td>\n",
       "      <td>704051</td>\n",
       "      <td>0</td>\n",
       "      <td>0.707107</td>\n",
       "      <td>0.500000</td>\n",
       "    </tr>\n",
       "  </tbody>\n",
       "</table>\n",
       "<p>1677720 rows × 5 columns</p>\n",
       "</div>"
      ],
      "text/plain": [
       "         source_node  destination_node  link_indicator  weight_in  weight_out\n",
       "0             128335            990238               1   0.408248    0.134840\n",
       "1              64311            874986               1   0.577350    0.242536\n",
       "2             108983           1416606               1   0.577350    0.333333\n",
       "3              17882           1789054               1   0.707107    0.408248\n",
       "4             109045             85458               1   0.447214    0.185695\n",
       "...              ...               ...             ...        ...         ...\n",
       "1677715       631382            196479               0   0.707107    0.577350\n",
       "1677716        50664             47983               0   0.447214    0.353553\n",
       "1677717       277610            317522               0   0.707107    0.500000\n",
       "1677718       443136            132821               0   0.577350    0.707107\n",
       "1677719       104387            704051               0   0.707107    0.500000\n",
       "\n",
       "[1677720 rows x 5 columns]"
      ]
     },
     "execution_count": 88,
     "metadata": {},
     "output_type": "execute_result"
    }
   ],
   "source": [
    "#ftrain.drop(\"weight_in\",axis=1,inplace=True)\n",
    "#ftrain.drop(\"weight_out\",axis=1,inplace=True)\n",
    "\n",
    "ftrain"
   ]
  },
  {
   "cell_type": "code",
   "execution_count": null,
   "id": "faa873ed",
   "metadata": {},
   "outputs": [],
   "source": []
  },
  {
   "cell_type": "markdown",
   "id": "f0e91054",
   "metadata": {},
   "source": [
    "# Pipeline for train dataset"
   ]
  },
  {
   "cell_type": "code",
   "execution_count": null,
   "id": "471ec684",
   "metadata": {},
   "outputs": [],
   "source": []
  },
  {
   "cell_type": "code",
   "execution_count": 89,
   "id": "74178bf0",
   "metadata": {},
   "outputs": [
    {
     "data": {
      "text/html": [
       "<div>\n",
       "<style scoped>\n",
       "    .dataframe tbody tr th:only-of-type {\n",
       "        vertical-align: middle;\n",
       "    }\n",
       "\n",
       "    .dataframe tbody tr th {\n",
       "        vertical-align: top;\n",
       "    }\n",
       "\n",
       "    .dataframe thead th {\n",
       "        text-align: right;\n",
       "    }\n",
       "</style>\n",
       "<table border=\"1\" class=\"dataframe\">\n",
       "  <thead>\n",
       "    <tr style=\"text-align: right;\">\n",
       "      <th></th>\n",
       "      <th>source_node</th>\n",
       "      <th>destination_node</th>\n",
       "      <th>link_indicator</th>\n",
       "    </tr>\n",
       "  </thead>\n",
       "  <tbody>\n",
       "    <tr>\n",
       "      <th>0</th>\n",
       "      <td>128335</td>\n",
       "      <td>990238</td>\n",
       "      <td>1</td>\n",
       "    </tr>\n",
       "    <tr>\n",
       "      <th>1</th>\n",
       "      <td>64311</td>\n",
       "      <td>874986</td>\n",
       "      <td>1</td>\n",
       "    </tr>\n",
       "    <tr>\n",
       "      <th>2</th>\n",
       "      <td>108983</td>\n",
       "      <td>1416606</td>\n",
       "      <td>1</td>\n",
       "    </tr>\n",
       "    <tr>\n",
       "      <th>3</th>\n",
       "      <td>17882</td>\n",
       "      <td>1789054</td>\n",
       "      <td>1</td>\n",
       "    </tr>\n",
       "    <tr>\n",
       "      <th>4</th>\n",
       "      <td>109045</td>\n",
       "      <td>85458</td>\n",
       "      <td>1</td>\n",
       "    </tr>\n",
       "    <tr>\n",
       "      <th>...</th>\n",
       "      <td>...</td>\n",
       "      <td>...</td>\n",
       "      <td>...</td>\n",
       "    </tr>\n",
       "    <tr>\n",
       "      <th>1677715</th>\n",
       "      <td>631382</td>\n",
       "      <td>196479</td>\n",
       "      <td>0</td>\n",
       "    </tr>\n",
       "    <tr>\n",
       "      <th>1677716</th>\n",
       "      <td>50664</td>\n",
       "      <td>47983</td>\n",
       "      <td>0</td>\n",
       "    </tr>\n",
       "    <tr>\n",
       "      <th>1677717</th>\n",
       "      <td>277610</td>\n",
       "      <td>317522</td>\n",
       "      <td>0</td>\n",
       "    </tr>\n",
       "    <tr>\n",
       "      <th>1677718</th>\n",
       "      <td>443136</td>\n",
       "      <td>132821</td>\n",
       "      <td>0</td>\n",
       "    </tr>\n",
       "    <tr>\n",
       "      <th>1677719</th>\n",
       "      <td>104387</td>\n",
       "      <td>704051</td>\n",
       "      <td>0</td>\n",
       "    </tr>\n",
       "  </tbody>\n",
       "</table>\n",
       "<p>1677720 rows × 3 columns</p>\n",
       "</div>"
      ],
      "text/plain": [
       "         source_node  destination_node  link_indicator\n",
       "0             128335            990238               1\n",
       "1              64311            874986               1\n",
       "2             108983           1416606               1\n",
       "3              17882           1789054               1\n",
       "4             109045             85458               1\n",
       "...              ...               ...             ...\n",
       "1677715       631382            196479               0\n",
       "1677716        50664             47983               0\n",
       "1677717       277610            317522               0\n",
       "1677718       443136            132821               0\n",
       "1677719       104387            704051               0\n",
       "\n",
       "[1677720 rows x 3 columns]"
      ]
     },
     "execution_count": 89,
     "metadata": {},
     "output_type": "execute_result"
    }
   ],
   "source": [
    "final_train "
   ]
  },
  {
   "cell_type": "code",
   "execution_count": 90,
   "id": "9d1ed9da",
   "metadata": {},
   "outputs": [
    {
     "data": {
      "text/plain": [
       "int"
      ]
     },
     "execution_count": 90,
     "metadata": {},
     "output_type": "execute_result"
    }
   ],
   "source": [
    "source=int(ftrain[\"source_node\"][0])\n",
    "\n",
    "type(source)"
   ]
  },
  {
   "cell_type": "code",
   "execution_count": null,
   "id": "bb7a5b74",
   "metadata": {},
   "outputs": [],
   "source": []
  },
  {
   "cell_type": "code",
   "execution_count": 91,
   "id": "aeb9d8d2",
   "metadata": {},
   "outputs": [],
   "source": [
    "#jaccard_followees(n1,n2)\n",
    "#jaccard_followers(n1,n2)\n",
    "#cosine_followees(n1,n2)\n",
    "#cosine_followers(n1,n2)\n",
    "#avgsim_followees(n1,n2)\n",
    "#avgsim_followers(n1,n2)\n",
    "#adar_in(n1,n2)\n",
    "#is_followback(n1,n2)\n",
    "#shortest_path_length(n1,n2)"
   ]
  },
  {
   "cell_type": "code",
   "execution_count": null,
   "id": "224bd324",
   "metadata": {},
   "outputs": [],
   "source": []
  },
  {
   "cell_type": "code",
   "execution_count": 92,
   "id": "299144f2",
   "metadata": {},
   "outputs": [
    {
     "name": "stdout",
     "output_type": "stream",
     "text": [
      "jac_followees:  [0]\n",
      "jac_followers:  [0.0]\n",
      "cos_followees:  [0]\n",
      "cos_followers:  [0]\n",
      "asim_followees:  [0.0]\n",
      "asim_followers:  [0.0]\n",
      "adarin:  [0]\n",
      "Is followback:  [1]\n",
      "short_path:  [-1]\n",
      "source_numfollowees:  [7]\n",
      "dest_numfollowees:  [0]\n",
      "source_numfollowers:  [18]\n",
      "dest_numfollowers:  [0]\n",
      "common_numfollowers:  [0]\n",
      "common_numfollowers:  [0]\n"
     ]
    }
   ],
   "source": [
    "jac_followees=[]\n",
    "jac_followers=[]\n",
    "cos_followees=[]\n",
    "cos_followers=[]\n",
    "asim_followees=[]\n",
    "asim_followers=[]\n",
    "adarin=[]\n",
    "followback=[]\n",
    "short_path=[]\n",
    "source_numfollowees=[]\n",
    "dest_numfollowees=[]\n",
    "source_numfollowers=[]\n",
    "dest_numfollowers=[]\n",
    "common_numfollowees=[]\n",
    "common_numfollowers=[]\n",
    "\n",
    "\n",
    "\n",
    "#for index,row in ftrain.iterrows():\n",
    "    \n",
    "source=int(ftrain[\"source_node\"][6])\n",
    "dest=int(ftrain[\"destination_node\"][6])\n",
    "\n",
    "jac_followees.append(jaccard_followees(source,dest))\n",
    "jac_followers.append(jaccard_followers(source,dest))\n",
    "cos_followees.append(cosine_followees(source,dest))\n",
    "cos_followers.append(cosine_followers(source,dest))\n",
    "asim_followees.append(avgsim_followees(source,dest))\n",
    "asim_followers.append(avgsim_followers(source,dest))\n",
    "adarin.append(adar_in(source,dest))\n",
    "followback.append(is_followback(source,dest))\n",
    "short_path.append(shortest_path_length(source,dest))\n",
    "\n",
    "s_followees=set(train_graph.predecessors(source))\n",
    "s_followers=set(train_graph.successors(source))\n",
    "d_followees=set(train_graph.predecessors(dest))\n",
    "d_followers=set(train_graph.successors(dest))\n",
    "\n",
    "cm_folowees=s_followees.intersection(d_followees)\n",
    "cm_folowers=s_followers.intersection(d_followers)\n",
    "\n",
    "source_numfollowees.append(len(s_followees))\n",
    "dest_numfollowees.append(len(d_followees))\n",
    "source_numfollowers.append(len(s_followers))\n",
    "dest_numfollowers.append(len(d_followers))\n",
    "\n",
    "common_numfollowees.append(len(cm_folowees))\n",
    "common_numfollowers.append(len(cm_folowers))\n",
    "\n",
    "print(\"jac_followees: \", jac_followees)\n",
    "print(\"jac_followers: \",jac_followers)\n",
    "print(\"cos_followees: \",cos_followees)\n",
    "print(\"cos_followers: \",cos_followers)\n",
    "print(\"asim_followees: \",asim_followees)\n",
    "print(\"asim_followers: \",asim_followers)\n",
    "print(\"adarin: \",adarin)\n",
    "print(\"Is followback: \",followback)\n",
    "print(\"short_path: \",short_path)\n",
    "print(\"source_numfollowees: \",source_numfollowees)\n",
    "print(\"dest_numfollowees: \",dest_numfollowees)\n",
    "print(\"source_numfollowers: \",source_numfollowers)\n",
    "print(\"dest_numfollowers: \",dest_numfollowees)\n",
    "print(\"common_numfollowers: \",common_numfollowees)\n",
    "print(\"common_numfollowers: \",common_numfollowees)\n",
    "\n",
    "\n",
    "\n",
    "\n",
    "    \n",
    "    "
   ]
  },
  {
   "cell_type": "code",
   "execution_count": null,
   "id": "f9c55f35",
   "metadata": {},
   "outputs": [],
   "source": []
  },
  {
   "cell_type": "code",
   "execution_count": 93,
   "id": "79ee7073",
   "metadata": {},
   "outputs": [],
   "source": [
    "jac_followees=[]\n",
    "jac_followers=[]\n",
    "cos_followees=[]\n",
    "cos_followers=[]\n",
    "asim_followees=[]\n",
    "asim_followers=[]\n",
    "adarin=[]\n",
    "followback=[]\n",
    "short_path=[]\n",
    "source_numfollowees=[]\n",
    "dest_numfollowees=[]\n",
    "source_numfollowers=[]\n",
    "dest_numfollowers=[]\n",
    "common_numfollowees=[]\n",
    "common_numfollowers=[]\n",
    "\n",
    "\n",
    "\n",
    "for index,row in ftrain.iterrows():\n",
    "    \n",
    "    source=int(row[\"source_node\"])\n",
    "    dest=int(row[\"destination_node\"])\n",
    "\n",
    "    jac_followees.append(jaccard_followees(source,dest))\n",
    "    jac_followers.append(jaccard_followers(source,dest))\n",
    "    cos_followees.append(cosine_followees(source,dest))\n",
    "    cos_followers.append(cosine_followers(source,dest))   \n",
    "    asim_followees.append(avgsim_followees(source,dest))\n",
    "    asim_followers.append(avgsim_followers(source,dest))\n",
    "    adarin.append(adar_in(source,dest))\n",
    "    followback.append(is_followback(source,dest))\n",
    "    short_path.append(shortest_path_length(source,dest))\n",
    "\n",
    "    s_followees=set(train_graph.predecessors(source))\n",
    "    s_followers=set(train_graph.successors(source))\n",
    "    d_followees=set(train_graph.predecessors(dest))\n",
    "    d_followers=set(train_graph.successors(dest))\n",
    "\n",
    "    cm_folowees=s_followees.intersection(d_followees)\n",
    "    cm_folowers=s_followers.intersection(d_followers)\n",
    "\n",
    "    source_numfollowees.append(len(s_followees))\n",
    "    dest_numfollowees.append(len(d_followees))\n",
    "    source_numfollowers.append(len(s_followers))\n",
    "    dest_numfollowers.append(len(d_followers))\n",
    "\n",
    "    common_numfollowees.append(len(cm_folowees))\n",
    "    common_numfollowers.append(len(cm_folowers))"
   ]
  },
  {
   "cell_type": "code",
   "execution_count": null,
   "id": "b11d5fb9",
   "metadata": {},
   "outputs": [],
   "source": []
  },
  {
   "cell_type": "code",
   "execution_count": 94,
   "id": "7cf9936c",
   "metadata": {},
   "outputs": [
    {
     "data": {
      "text/plain": [
       "1677720"
      ]
     },
     "execution_count": 94,
     "metadata": {},
     "output_type": "execute_result"
    }
   ],
   "source": [
    "len(jac_followees)"
   ]
  },
  {
   "cell_type": "code",
   "execution_count": null,
   "id": "c8c35cbc",
   "metadata": {},
   "outputs": [],
   "source": []
  },
  {
   "cell_type": "code",
   "execution_count": 95,
   "id": "a89fa7aa",
   "metadata": {},
   "outputs": [],
   "source": [
    "final_train[\"Jaccard_followees\"]=jac_followees\n",
    "final_train[\"Jaccard_followers\"]=jac_followers\n",
    "final_train[\"cosine_followees\"]=cos_followees\n",
    "final_train[\"cosine_followers\"]=cos_followers\n",
    "final_train[\"Avg_sim_followees\"]=asim_followees\n",
    "final_train[\"Avg_sim_followers\"]=asim_followers\n",
    "final_train[\"Adar Index\"]=adarin\n",
    "final_train[\"Is_Followback\"]=followback\n",
    "final_train[\"Shortest Path\"]=short_path\n",
    "final_train[\"source_followees\"]=source_numfollowees\n",
    "final_train[\"dest_followees\"]=dest_numfollowees\n",
    "final_train[\"source_followers\"]=source_numfollowers\n",
    "final_train[\"dest_followers\"]=dest_numfollowers\n",
    "final_train[\"common_followees\"]=common_numfollowees\n",
    "final_train[\"common_followers\"]=common_numfollowers"
   ]
  },
  {
   "cell_type": "code",
   "execution_count": null,
   "id": "61e196ab",
   "metadata": {},
   "outputs": [],
   "source": []
  },
  {
   "cell_type": "code",
   "execution_count": 96,
   "id": "e2a027a6",
   "metadata": {},
   "outputs": [
    {
     "data": {
      "text/html": [
       "<div>\n",
       "<style scoped>\n",
       "    .dataframe tbody tr th:only-of-type {\n",
       "        vertical-align: middle;\n",
       "    }\n",
       "\n",
       "    .dataframe tbody tr th {\n",
       "        vertical-align: top;\n",
       "    }\n",
       "\n",
       "    .dataframe thead th {\n",
       "        text-align: right;\n",
       "    }\n",
       "</style>\n",
       "<table border=\"1\" class=\"dataframe\">\n",
       "  <thead>\n",
       "    <tr style=\"text-align: right;\">\n",
       "      <th></th>\n",
       "      <th>source_node</th>\n",
       "      <th>destination_node</th>\n",
       "      <th>link_indicator</th>\n",
       "      <th>Jaccard_followees</th>\n",
       "      <th>Jaccard_followers</th>\n",
       "      <th>cosine_followees</th>\n",
       "      <th>cosine_followers</th>\n",
       "      <th>Avg_sim_followees</th>\n",
       "      <th>Avg_sim_followers</th>\n",
       "      <th>Adar Index</th>\n",
       "      <th>Is_Followback</th>\n",
       "      <th>Shortest Path</th>\n",
       "      <th>source_followees</th>\n",
       "      <th>dest_followees</th>\n",
       "      <th>source_followers</th>\n",
       "      <th>dest_followers</th>\n",
       "      <th>common_followees</th>\n",
       "      <th>common_followers</th>\n",
       "    </tr>\n",
       "  </thead>\n",
       "  <tbody>\n",
       "    <tr>\n",
       "      <th>0</th>\n",
       "      <td>128335</td>\n",
       "      <td>990238</td>\n",
       "      <td>1</td>\n",
       "      <td>0.000000</td>\n",
       "      <td>0.00</td>\n",
       "      <td>0</td>\n",
       "      <td>0</td>\n",
       "      <td>0.00</td>\n",
       "      <td>0.00</td>\n",
       "      <td>0.000000</td>\n",
       "      <td>1</td>\n",
       "      <td>3</td>\n",
       "      <td>2</td>\n",
       "      <td>5</td>\n",
       "      <td>54</td>\n",
       "      <td>0</td>\n",
       "      <td>0</td>\n",
       "      <td>0</td>\n",
       "    </tr>\n",
       "    <tr>\n",
       "      <th>1</th>\n",
       "      <td>64311</td>\n",
       "      <td>874986</td>\n",
       "      <td>1</td>\n",
       "      <td>0.000000</td>\n",
       "      <td>0.25</td>\n",
       "      <td>0</td>\n",
       "      <td>0</td>\n",
       "      <td>0.00</td>\n",
       "      <td>0.12</td>\n",
       "      <td>0.000000</td>\n",
       "      <td>1</td>\n",
       "      <td>16</td>\n",
       "      <td>3</td>\n",
       "      <td>2</td>\n",
       "      <td>16</td>\n",
       "      <td>0</td>\n",
       "      <td>1</td>\n",
       "      <td>0</td>\n",
       "    </tr>\n",
       "    <tr>\n",
       "      <th>2</th>\n",
       "      <td>108983</td>\n",
       "      <td>1416606</td>\n",
       "      <td>1</td>\n",
       "      <td>0.000000</td>\n",
       "      <td>0.00</td>\n",
       "      <td>0</td>\n",
       "      <td>0</td>\n",
       "      <td>0.00</td>\n",
       "      <td>0.00</td>\n",
       "      <td>0.000000</td>\n",
       "      <td>1</td>\n",
       "      <td>-1</td>\n",
       "      <td>2</td>\n",
       "      <td>1</td>\n",
       "      <td>7</td>\n",
       "      <td>0</td>\n",
       "      <td>0</td>\n",
       "      <td>0</td>\n",
       "    </tr>\n",
       "    <tr>\n",
       "      <th>3</th>\n",
       "      <td>17882</td>\n",
       "      <td>1789054</td>\n",
       "      <td>1</td>\n",
       "      <td>0.000000</td>\n",
       "      <td>0.00</td>\n",
       "      <td>0</td>\n",
       "      <td>0</td>\n",
       "      <td>0.00</td>\n",
       "      <td>0.00</td>\n",
       "      <td>0.000000</td>\n",
       "      <td>1</td>\n",
       "      <td>-1</td>\n",
       "      <td>0</td>\n",
       "      <td>0</td>\n",
       "      <td>4</td>\n",
       "      <td>0</td>\n",
       "      <td>0</td>\n",
       "      <td>0</td>\n",
       "    </tr>\n",
       "    <tr>\n",
       "      <th>4</th>\n",
       "      <td>109045</td>\n",
       "      <td>85458</td>\n",
       "      <td>1</td>\n",
       "      <td>0.051282</td>\n",
       "      <td>0.00</td>\n",
       "      <td>0</td>\n",
       "      <td>0</td>\n",
       "      <td>0.03</td>\n",
       "      <td>0.00</td>\n",
       "      <td>2.183295</td>\n",
       "      <td>1</td>\n",
       "      <td>7</td>\n",
       "      <td>6</td>\n",
       "      <td>4</td>\n",
       "      <td>28</td>\n",
       "      <td>13</td>\n",
       "      <td>0</td>\n",
       "      <td>2</td>\n",
       "    </tr>\n",
       "    <tr>\n",
       "      <th>...</th>\n",
       "      <td>...</td>\n",
       "      <td>...</td>\n",
       "      <td>...</td>\n",
       "      <td>...</td>\n",
       "      <td>...</td>\n",
       "      <td>...</td>\n",
       "      <td>...</td>\n",
       "      <td>...</td>\n",
       "      <td>...</td>\n",
       "      <td>...</td>\n",
       "      <td>...</td>\n",
       "      <td>...</td>\n",
       "      <td>...</td>\n",
       "      <td>...</td>\n",
       "      <td>...</td>\n",
       "      <td>...</td>\n",
       "      <td>...</td>\n",
       "      <td>...</td>\n",
       "    </tr>\n",
       "    <tr>\n",
       "      <th>1677715</th>\n",
       "      <td>631382</td>\n",
       "      <td>196479</td>\n",
       "      <td>0</td>\n",
       "      <td>0.000000</td>\n",
       "      <td>0.00</td>\n",
       "      <td>0</td>\n",
       "      <td>0</td>\n",
       "      <td>0.00</td>\n",
       "      <td>0.00</td>\n",
       "      <td>0.000000</td>\n",
       "      <td>1</td>\n",
       "      <td>-1</td>\n",
       "      <td>0</td>\n",
       "      <td>0</td>\n",
       "      <td>0</td>\n",
       "      <td>0</td>\n",
       "      <td>0</td>\n",
       "      <td>0</td>\n",
       "    </tr>\n",
       "    <tr>\n",
       "      <th>1677716</th>\n",
       "      <td>50664</td>\n",
       "      <td>47983</td>\n",
       "      <td>0</td>\n",
       "      <td>0.000000</td>\n",
       "      <td>0.00</td>\n",
       "      <td>0</td>\n",
       "      <td>0</td>\n",
       "      <td>0.00</td>\n",
       "      <td>0.00</td>\n",
       "      <td>0.000000</td>\n",
       "      <td>1</td>\n",
       "      <td>-1</td>\n",
       "      <td>0</td>\n",
       "      <td>1</td>\n",
       "      <td>3</td>\n",
       "      <td>2</td>\n",
       "      <td>0</td>\n",
       "      <td>0</td>\n",
       "    </tr>\n",
       "    <tr>\n",
       "      <th>1677717</th>\n",
       "      <td>277610</td>\n",
       "      <td>317522</td>\n",
       "      <td>0</td>\n",
       "      <td>0.000000</td>\n",
       "      <td>0.00</td>\n",
       "      <td>0</td>\n",
       "      <td>0</td>\n",
       "      <td>0.00</td>\n",
       "      <td>0.00</td>\n",
       "      <td>0.000000</td>\n",
       "      <td>1</td>\n",
       "      <td>-1</td>\n",
       "      <td>1</td>\n",
       "      <td>0</td>\n",
       "      <td>0</td>\n",
       "      <td>0</td>\n",
       "      <td>0</td>\n",
       "      <td>0</td>\n",
       "    </tr>\n",
       "    <tr>\n",
       "      <th>1677718</th>\n",
       "      <td>443136</td>\n",
       "      <td>132821</td>\n",
       "      <td>0</td>\n",
       "      <td>0.000000</td>\n",
       "      <td>0.00</td>\n",
       "      <td>0</td>\n",
       "      <td>0</td>\n",
       "      <td>0.00</td>\n",
       "      <td>0.00</td>\n",
       "      <td>0.000000</td>\n",
       "      <td>1</td>\n",
       "      <td>-1</td>\n",
       "      <td>0</td>\n",
       "      <td>0</td>\n",
       "      <td>0</td>\n",
       "      <td>0</td>\n",
       "      <td>0</td>\n",
       "      <td>0</td>\n",
       "    </tr>\n",
       "    <tr>\n",
       "      <th>1677719</th>\n",
       "      <td>104387</td>\n",
       "      <td>704051</td>\n",
       "      <td>0</td>\n",
       "      <td>0.000000</td>\n",
       "      <td>0.00</td>\n",
       "      <td>0</td>\n",
       "      <td>0</td>\n",
       "      <td>0.00</td>\n",
       "      <td>0.00</td>\n",
       "      <td>0.000000</td>\n",
       "      <td>1</td>\n",
       "      <td>-1</td>\n",
       "      <td>0</td>\n",
       "      <td>0</td>\n",
       "      <td>2</td>\n",
       "      <td>0</td>\n",
       "      <td>0</td>\n",
       "      <td>0</td>\n",
       "    </tr>\n",
       "  </tbody>\n",
       "</table>\n",
       "<p>1677720 rows × 18 columns</p>\n",
       "</div>"
      ],
      "text/plain": [
       "         source_node  destination_node  link_indicator  Jaccard_followees  \\\n",
       "0             128335            990238               1           0.000000   \n",
       "1              64311            874986               1           0.000000   \n",
       "2             108983           1416606               1           0.000000   \n",
       "3              17882           1789054               1           0.000000   \n",
       "4             109045             85458               1           0.051282   \n",
       "...              ...               ...             ...                ...   \n",
       "1677715       631382            196479               0           0.000000   \n",
       "1677716        50664             47983               0           0.000000   \n",
       "1677717       277610            317522               0           0.000000   \n",
       "1677718       443136            132821               0           0.000000   \n",
       "1677719       104387            704051               0           0.000000   \n",
       "\n",
       "         Jaccard_followers  cosine_followees  cosine_followers  \\\n",
       "0                     0.00                 0                 0   \n",
       "1                     0.25                 0                 0   \n",
       "2                     0.00                 0                 0   \n",
       "3                     0.00                 0                 0   \n",
       "4                     0.00                 0                 0   \n",
       "...                    ...               ...               ...   \n",
       "1677715               0.00                 0                 0   \n",
       "1677716               0.00                 0                 0   \n",
       "1677717               0.00                 0                 0   \n",
       "1677718               0.00                 0                 0   \n",
       "1677719               0.00                 0                 0   \n",
       "\n",
       "         Avg_sim_followees  Avg_sim_followers  Adar Index  Is_Followback  \\\n",
       "0                     0.00               0.00    0.000000              1   \n",
       "1                     0.00               0.12    0.000000              1   \n",
       "2                     0.00               0.00    0.000000              1   \n",
       "3                     0.00               0.00    0.000000              1   \n",
       "4                     0.03               0.00    2.183295              1   \n",
       "...                    ...                ...         ...            ...   \n",
       "1677715               0.00               0.00    0.000000              1   \n",
       "1677716               0.00               0.00    0.000000              1   \n",
       "1677717               0.00               0.00    0.000000              1   \n",
       "1677718               0.00               0.00    0.000000              1   \n",
       "1677719               0.00               0.00    0.000000              1   \n",
       "\n",
       "         Shortest Path  source_followees  dest_followees  source_followers  \\\n",
       "0                    3                 2               5                54   \n",
       "1                   16                 3               2                16   \n",
       "2                   -1                 2               1                 7   \n",
       "3                   -1                 0               0                 4   \n",
       "4                    7                 6               4                28   \n",
       "...                ...               ...             ...               ...   \n",
       "1677715             -1                 0               0                 0   \n",
       "1677716             -1                 0               1                 3   \n",
       "1677717             -1                 1               0                 0   \n",
       "1677718             -1                 0               0                 0   \n",
       "1677719             -1                 0               0                 2   \n",
       "\n",
       "         dest_followers  common_followees  common_followers  \n",
       "0                     0                 0                 0  \n",
       "1                     0                 1                 0  \n",
       "2                     0                 0                 0  \n",
       "3                     0                 0                 0  \n",
       "4                    13                 0                 2  \n",
       "...                 ...               ...               ...  \n",
       "1677715               0                 0                 0  \n",
       "1677716               2                 0                 0  \n",
       "1677717               0                 0                 0  \n",
       "1677718               0                 0                 0  \n",
       "1677719               0                 0                 0  \n",
       "\n",
       "[1677720 rows x 18 columns]"
      ]
     },
     "execution_count": 96,
     "metadata": {},
     "output_type": "execute_result"
    }
   ],
   "source": [
    "final_train"
   ]
  },
  {
   "cell_type": "code",
   "execution_count": null,
   "id": "93541779",
   "metadata": {},
   "outputs": [],
   "source": []
  },
  {
   "cell_type": "code",
   "execution_count": 97,
   "id": "ca4e5bab",
   "metadata": {},
   "outputs": [],
   "source": [
    "final_train['weight_in'] = final_train.destination_node.apply(lambda x: Weight_in.get(x,mean_weight_in))\n",
    "final_train['weight_out'] = final_train.source_node.apply(lambda x: Weight_out.get(x,mean_weight_out))"
   ]
  },
  {
   "cell_type": "code",
   "execution_count": null,
   "id": "f431c99b",
   "metadata": {},
   "outputs": [],
   "source": []
  },
  {
   "cell_type": "code",
   "execution_count": 98,
   "id": "ce2b15b8",
   "metadata": {},
   "outputs": [
    {
     "data": {
      "text/html": [
       "<div>\n",
       "<style scoped>\n",
       "    .dataframe tbody tr th:only-of-type {\n",
       "        vertical-align: middle;\n",
       "    }\n",
       "\n",
       "    .dataframe tbody tr th {\n",
       "        vertical-align: top;\n",
       "    }\n",
       "\n",
       "    .dataframe thead th {\n",
       "        text-align: right;\n",
       "    }\n",
       "</style>\n",
       "<table border=\"1\" class=\"dataframe\">\n",
       "  <thead>\n",
       "    <tr style=\"text-align: right;\">\n",
       "      <th></th>\n",
       "      <th>source_node</th>\n",
       "      <th>destination_node</th>\n",
       "      <th>link_indicator</th>\n",
       "      <th>Jaccard_followees</th>\n",
       "      <th>Jaccard_followers</th>\n",
       "      <th>cosine_followees</th>\n",
       "      <th>cosine_followers</th>\n",
       "      <th>Avg_sim_followees</th>\n",
       "      <th>Avg_sim_followers</th>\n",
       "      <th>Adar Index</th>\n",
       "      <th>Is_Followback</th>\n",
       "      <th>Shortest Path</th>\n",
       "      <th>source_followees</th>\n",
       "      <th>dest_followees</th>\n",
       "      <th>source_followers</th>\n",
       "      <th>dest_followers</th>\n",
       "      <th>common_followees</th>\n",
       "      <th>common_followers</th>\n",
       "      <th>weight_in</th>\n",
       "      <th>weight_out</th>\n",
       "    </tr>\n",
       "  </thead>\n",
       "  <tbody>\n",
       "    <tr>\n",
       "      <th>0</th>\n",
       "      <td>128335</td>\n",
       "      <td>990238</td>\n",
       "      <td>1</td>\n",
       "      <td>0.000000</td>\n",
       "      <td>0.00</td>\n",
       "      <td>0</td>\n",
       "      <td>0</td>\n",
       "      <td>0.00</td>\n",
       "      <td>0.00</td>\n",
       "      <td>0.000000</td>\n",
       "      <td>1</td>\n",
       "      <td>3</td>\n",
       "      <td>2</td>\n",
       "      <td>5</td>\n",
       "      <td>54</td>\n",
       "      <td>0</td>\n",
       "      <td>0</td>\n",
       "      <td>0</td>\n",
       "      <td>0.408248</td>\n",
       "      <td>0.134840</td>\n",
       "    </tr>\n",
       "    <tr>\n",
       "      <th>1</th>\n",
       "      <td>64311</td>\n",
       "      <td>874986</td>\n",
       "      <td>1</td>\n",
       "      <td>0.000000</td>\n",
       "      <td>0.25</td>\n",
       "      <td>0</td>\n",
       "      <td>0</td>\n",
       "      <td>0.00</td>\n",
       "      <td>0.12</td>\n",
       "      <td>0.000000</td>\n",
       "      <td>1</td>\n",
       "      <td>16</td>\n",
       "      <td>3</td>\n",
       "      <td>2</td>\n",
       "      <td>16</td>\n",
       "      <td>0</td>\n",
       "      <td>1</td>\n",
       "      <td>0</td>\n",
       "      <td>0.577350</td>\n",
       "      <td>0.242536</td>\n",
       "    </tr>\n",
       "    <tr>\n",
       "      <th>2</th>\n",
       "      <td>108983</td>\n",
       "      <td>1416606</td>\n",
       "      <td>1</td>\n",
       "      <td>0.000000</td>\n",
       "      <td>0.00</td>\n",
       "      <td>0</td>\n",
       "      <td>0</td>\n",
       "      <td>0.00</td>\n",
       "      <td>0.00</td>\n",
       "      <td>0.000000</td>\n",
       "      <td>1</td>\n",
       "      <td>-1</td>\n",
       "      <td>2</td>\n",
       "      <td>1</td>\n",
       "      <td>7</td>\n",
       "      <td>0</td>\n",
       "      <td>0</td>\n",
       "      <td>0</td>\n",
       "      <td>0.577350</td>\n",
       "      <td>0.333333</td>\n",
       "    </tr>\n",
       "    <tr>\n",
       "      <th>3</th>\n",
       "      <td>17882</td>\n",
       "      <td>1789054</td>\n",
       "      <td>1</td>\n",
       "      <td>0.000000</td>\n",
       "      <td>0.00</td>\n",
       "      <td>0</td>\n",
       "      <td>0</td>\n",
       "      <td>0.00</td>\n",
       "      <td>0.00</td>\n",
       "      <td>0.000000</td>\n",
       "      <td>1</td>\n",
       "      <td>-1</td>\n",
       "      <td>0</td>\n",
       "      <td>0</td>\n",
       "      <td>4</td>\n",
       "      <td>0</td>\n",
       "      <td>0</td>\n",
       "      <td>0</td>\n",
       "      <td>0.707107</td>\n",
       "      <td>0.408248</td>\n",
       "    </tr>\n",
       "    <tr>\n",
       "      <th>4</th>\n",
       "      <td>109045</td>\n",
       "      <td>85458</td>\n",
       "      <td>1</td>\n",
       "      <td>0.051282</td>\n",
       "      <td>0.00</td>\n",
       "      <td>0</td>\n",
       "      <td>0</td>\n",
       "      <td>0.03</td>\n",
       "      <td>0.00</td>\n",
       "      <td>2.183295</td>\n",
       "      <td>1</td>\n",
       "      <td>7</td>\n",
       "      <td>6</td>\n",
       "      <td>4</td>\n",
       "      <td>28</td>\n",
       "      <td>13</td>\n",
       "      <td>0</td>\n",
       "      <td>2</td>\n",
       "      <td>0.447214</td>\n",
       "      <td>0.185695</td>\n",
       "    </tr>\n",
       "    <tr>\n",
       "      <th>...</th>\n",
       "      <td>...</td>\n",
       "      <td>...</td>\n",
       "      <td>...</td>\n",
       "      <td>...</td>\n",
       "      <td>...</td>\n",
       "      <td>...</td>\n",
       "      <td>...</td>\n",
       "      <td>...</td>\n",
       "      <td>...</td>\n",
       "      <td>...</td>\n",
       "      <td>...</td>\n",
       "      <td>...</td>\n",
       "      <td>...</td>\n",
       "      <td>...</td>\n",
       "      <td>...</td>\n",
       "      <td>...</td>\n",
       "      <td>...</td>\n",
       "      <td>...</td>\n",
       "      <td>...</td>\n",
       "      <td>...</td>\n",
       "    </tr>\n",
       "    <tr>\n",
       "      <th>1677715</th>\n",
       "      <td>631382</td>\n",
       "      <td>196479</td>\n",
       "      <td>0</td>\n",
       "      <td>0.000000</td>\n",
       "      <td>0.00</td>\n",
       "      <td>0</td>\n",
       "      <td>0</td>\n",
       "      <td>0.00</td>\n",
       "      <td>0.00</td>\n",
       "      <td>0.000000</td>\n",
       "      <td>1</td>\n",
       "      <td>-1</td>\n",
       "      <td>0</td>\n",
       "      <td>0</td>\n",
       "      <td>0</td>\n",
       "      <td>0</td>\n",
       "      <td>0</td>\n",
       "      <td>0</td>\n",
       "      <td>0.707107</td>\n",
       "      <td>0.577350</td>\n",
       "    </tr>\n",
       "    <tr>\n",
       "      <th>1677716</th>\n",
       "      <td>50664</td>\n",
       "      <td>47983</td>\n",
       "      <td>0</td>\n",
       "      <td>0.000000</td>\n",
       "      <td>0.00</td>\n",
       "      <td>0</td>\n",
       "      <td>0</td>\n",
       "      <td>0.00</td>\n",
       "      <td>0.00</td>\n",
       "      <td>0.000000</td>\n",
       "      <td>1</td>\n",
       "      <td>-1</td>\n",
       "      <td>0</td>\n",
       "      <td>1</td>\n",
       "      <td>3</td>\n",
       "      <td>2</td>\n",
       "      <td>0</td>\n",
       "      <td>0</td>\n",
       "      <td>0.447214</td>\n",
       "      <td>0.353553</td>\n",
       "    </tr>\n",
       "    <tr>\n",
       "      <th>1677717</th>\n",
       "      <td>277610</td>\n",
       "      <td>317522</td>\n",
       "      <td>0</td>\n",
       "      <td>0.000000</td>\n",
       "      <td>0.00</td>\n",
       "      <td>0</td>\n",
       "      <td>0</td>\n",
       "      <td>0.00</td>\n",
       "      <td>0.00</td>\n",
       "      <td>0.000000</td>\n",
       "      <td>1</td>\n",
       "      <td>-1</td>\n",
       "      <td>1</td>\n",
       "      <td>0</td>\n",
       "      <td>0</td>\n",
       "      <td>0</td>\n",
       "      <td>0</td>\n",
       "      <td>0</td>\n",
       "      <td>0.707107</td>\n",
       "      <td>0.500000</td>\n",
       "    </tr>\n",
       "    <tr>\n",
       "      <th>1677718</th>\n",
       "      <td>443136</td>\n",
       "      <td>132821</td>\n",
       "      <td>0</td>\n",
       "      <td>0.000000</td>\n",
       "      <td>0.00</td>\n",
       "      <td>0</td>\n",
       "      <td>0</td>\n",
       "      <td>0.00</td>\n",
       "      <td>0.00</td>\n",
       "      <td>0.000000</td>\n",
       "      <td>1</td>\n",
       "      <td>-1</td>\n",
       "      <td>0</td>\n",
       "      <td>0</td>\n",
       "      <td>0</td>\n",
       "      <td>0</td>\n",
       "      <td>0</td>\n",
       "      <td>0</td>\n",
       "      <td>0.577350</td>\n",
       "      <td>0.707107</td>\n",
       "    </tr>\n",
       "    <tr>\n",
       "      <th>1677719</th>\n",
       "      <td>104387</td>\n",
       "      <td>704051</td>\n",
       "      <td>0</td>\n",
       "      <td>0.000000</td>\n",
       "      <td>0.00</td>\n",
       "      <td>0</td>\n",
       "      <td>0</td>\n",
       "      <td>0.00</td>\n",
       "      <td>0.00</td>\n",
       "      <td>0.000000</td>\n",
       "      <td>1</td>\n",
       "      <td>-1</td>\n",
       "      <td>0</td>\n",
       "      <td>0</td>\n",
       "      <td>2</td>\n",
       "      <td>0</td>\n",
       "      <td>0</td>\n",
       "      <td>0</td>\n",
       "      <td>0.707107</td>\n",
       "      <td>0.500000</td>\n",
       "    </tr>\n",
       "  </tbody>\n",
       "</table>\n",
       "<p>1677720 rows × 20 columns</p>\n",
       "</div>"
      ],
      "text/plain": [
       "         source_node  destination_node  link_indicator  Jaccard_followees  \\\n",
       "0             128335            990238               1           0.000000   \n",
       "1              64311            874986               1           0.000000   \n",
       "2             108983           1416606               1           0.000000   \n",
       "3              17882           1789054               1           0.000000   \n",
       "4             109045             85458               1           0.051282   \n",
       "...              ...               ...             ...                ...   \n",
       "1677715       631382            196479               0           0.000000   \n",
       "1677716        50664             47983               0           0.000000   \n",
       "1677717       277610            317522               0           0.000000   \n",
       "1677718       443136            132821               0           0.000000   \n",
       "1677719       104387            704051               0           0.000000   \n",
       "\n",
       "         Jaccard_followers  cosine_followees  cosine_followers  \\\n",
       "0                     0.00                 0                 0   \n",
       "1                     0.25                 0                 0   \n",
       "2                     0.00                 0                 0   \n",
       "3                     0.00                 0                 0   \n",
       "4                     0.00                 0                 0   \n",
       "...                    ...               ...               ...   \n",
       "1677715               0.00                 0                 0   \n",
       "1677716               0.00                 0                 0   \n",
       "1677717               0.00                 0                 0   \n",
       "1677718               0.00                 0                 0   \n",
       "1677719               0.00                 0                 0   \n",
       "\n",
       "         Avg_sim_followees  Avg_sim_followers  Adar Index  Is_Followback  \\\n",
       "0                     0.00               0.00    0.000000              1   \n",
       "1                     0.00               0.12    0.000000              1   \n",
       "2                     0.00               0.00    0.000000              1   \n",
       "3                     0.00               0.00    0.000000              1   \n",
       "4                     0.03               0.00    2.183295              1   \n",
       "...                    ...                ...         ...            ...   \n",
       "1677715               0.00               0.00    0.000000              1   \n",
       "1677716               0.00               0.00    0.000000              1   \n",
       "1677717               0.00               0.00    0.000000              1   \n",
       "1677718               0.00               0.00    0.000000              1   \n",
       "1677719               0.00               0.00    0.000000              1   \n",
       "\n",
       "         Shortest Path  source_followees  dest_followees  source_followers  \\\n",
       "0                    3                 2               5                54   \n",
       "1                   16                 3               2                16   \n",
       "2                   -1                 2               1                 7   \n",
       "3                   -1                 0               0                 4   \n",
       "4                    7                 6               4                28   \n",
       "...                ...               ...             ...               ...   \n",
       "1677715             -1                 0               0                 0   \n",
       "1677716             -1                 0               1                 3   \n",
       "1677717             -1                 1               0                 0   \n",
       "1677718             -1                 0               0                 0   \n",
       "1677719             -1                 0               0                 2   \n",
       "\n",
       "         dest_followers  common_followees  common_followers  weight_in  \\\n",
       "0                     0                 0                 0   0.408248   \n",
       "1                     0                 1                 0   0.577350   \n",
       "2                     0                 0                 0   0.577350   \n",
       "3                     0                 0                 0   0.707107   \n",
       "4                    13                 0                 2   0.447214   \n",
       "...                 ...               ...               ...        ...   \n",
       "1677715               0                 0                 0   0.707107   \n",
       "1677716               2                 0                 0   0.447214   \n",
       "1677717               0                 0                 0   0.707107   \n",
       "1677718               0                 0                 0   0.577350   \n",
       "1677719               0                 0                 0   0.707107   \n",
       "\n",
       "         weight_out  \n",
       "0          0.134840  \n",
       "1          0.242536  \n",
       "2          0.333333  \n",
       "3          0.408248  \n",
       "4          0.185695  \n",
       "...             ...  \n",
       "1677715    0.577350  \n",
       "1677716    0.353553  \n",
       "1677717    0.500000  \n",
       "1677718    0.707107  \n",
       "1677719    0.500000  \n",
       "\n",
       "[1677720 rows x 20 columns]"
      ]
     },
     "execution_count": 98,
     "metadata": {},
     "output_type": "execute_result"
    }
   ],
   "source": [
    "final_train"
   ]
  },
  {
   "cell_type": "raw",
   "id": "b7a39e69",
   "metadata": {},
   "source": []
  },
  {
   "cell_type": "code",
   "execution_count": 99,
   "id": "a9ef50c8",
   "metadata": {},
   "outputs": [],
   "source": [
    "link_indicator=final_train[\"link_indicator\"].tolist()\n",
    "\n",
    "final_train.drop(\"link_indicator\",axis=1,inplace=True)\n",
    "\n",
    "final_train[\"link_indicator\"]=link_indicator"
   ]
  },
  {
   "cell_type": "code",
   "execution_count": null,
   "id": "f381b4c8",
   "metadata": {},
   "outputs": [],
   "source": []
  },
  {
   "cell_type": "code",
   "execution_count": 100,
   "id": "9787d384",
   "metadata": {},
   "outputs": [
    {
     "data": {
      "text/html": [
       "<div>\n",
       "<style scoped>\n",
       "    .dataframe tbody tr th:only-of-type {\n",
       "        vertical-align: middle;\n",
       "    }\n",
       "\n",
       "    .dataframe tbody tr th {\n",
       "        vertical-align: top;\n",
       "    }\n",
       "\n",
       "    .dataframe thead th {\n",
       "        text-align: right;\n",
       "    }\n",
       "</style>\n",
       "<table border=\"1\" class=\"dataframe\">\n",
       "  <thead>\n",
       "    <tr style=\"text-align: right;\">\n",
       "      <th></th>\n",
       "      <th>source_node</th>\n",
       "      <th>destination_node</th>\n",
       "      <th>Jaccard_followees</th>\n",
       "      <th>Jaccard_followers</th>\n",
       "      <th>cosine_followees</th>\n",
       "      <th>cosine_followers</th>\n",
       "      <th>Avg_sim_followees</th>\n",
       "      <th>Avg_sim_followers</th>\n",
       "      <th>Adar Index</th>\n",
       "      <th>Is_Followback</th>\n",
       "      <th>Shortest Path</th>\n",
       "      <th>source_followees</th>\n",
       "      <th>dest_followees</th>\n",
       "      <th>source_followers</th>\n",
       "      <th>dest_followers</th>\n",
       "      <th>common_followees</th>\n",
       "      <th>common_followers</th>\n",
       "      <th>weight_in</th>\n",
       "      <th>weight_out</th>\n",
       "      <th>link_indicator</th>\n",
       "    </tr>\n",
       "  </thead>\n",
       "  <tbody>\n",
       "    <tr>\n",
       "      <th>0</th>\n",
       "      <td>128335</td>\n",
       "      <td>990238</td>\n",
       "      <td>0.000000</td>\n",
       "      <td>0.00</td>\n",
       "      <td>0</td>\n",
       "      <td>0</td>\n",
       "      <td>0.00</td>\n",
       "      <td>0.00</td>\n",
       "      <td>0.000000</td>\n",
       "      <td>1</td>\n",
       "      <td>3</td>\n",
       "      <td>2</td>\n",
       "      <td>5</td>\n",
       "      <td>54</td>\n",
       "      <td>0</td>\n",
       "      <td>0</td>\n",
       "      <td>0</td>\n",
       "      <td>0.408248</td>\n",
       "      <td>0.134840</td>\n",
       "      <td>1</td>\n",
       "    </tr>\n",
       "    <tr>\n",
       "      <th>1</th>\n",
       "      <td>64311</td>\n",
       "      <td>874986</td>\n",
       "      <td>0.000000</td>\n",
       "      <td>0.25</td>\n",
       "      <td>0</td>\n",
       "      <td>0</td>\n",
       "      <td>0.00</td>\n",
       "      <td>0.12</td>\n",
       "      <td>0.000000</td>\n",
       "      <td>1</td>\n",
       "      <td>16</td>\n",
       "      <td>3</td>\n",
       "      <td>2</td>\n",
       "      <td>16</td>\n",
       "      <td>0</td>\n",
       "      <td>1</td>\n",
       "      <td>0</td>\n",
       "      <td>0.577350</td>\n",
       "      <td>0.242536</td>\n",
       "      <td>1</td>\n",
       "    </tr>\n",
       "    <tr>\n",
       "      <th>2</th>\n",
       "      <td>108983</td>\n",
       "      <td>1416606</td>\n",
       "      <td>0.000000</td>\n",
       "      <td>0.00</td>\n",
       "      <td>0</td>\n",
       "      <td>0</td>\n",
       "      <td>0.00</td>\n",
       "      <td>0.00</td>\n",
       "      <td>0.000000</td>\n",
       "      <td>1</td>\n",
       "      <td>-1</td>\n",
       "      <td>2</td>\n",
       "      <td>1</td>\n",
       "      <td>7</td>\n",
       "      <td>0</td>\n",
       "      <td>0</td>\n",
       "      <td>0</td>\n",
       "      <td>0.577350</td>\n",
       "      <td>0.333333</td>\n",
       "      <td>1</td>\n",
       "    </tr>\n",
       "    <tr>\n",
       "      <th>3</th>\n",
       "      <td>17882</td>\n",
       "      <td>1789054</td>\n",
       "      <td>0.000000</td>\n",
       "      <td>0.00</td>\n",
       "      <td>0</td>\n",
       "      <td>0</td>\n",
       "      <td>0.00</td>\n",
       "      <td>0.00</td>\n",
       "      <td>0.000000</td>\n",
       "      <td>1</td>\n",
       "      <td>-1</td>\n",
       "      <td>0</td>\n",
       "      <td>0</td>\n",
       "      <td>4</td>\n",
       "      <td>0</td>\n",
       "      <td>0</td>\n",
       "      <td>0</td>\n",
       "      <td>0.707107</td>\n",
       "      <td>0.408248</td>\n",
       "      <td>1</td>\n",
       "    </tr>\n",
       "    <tr>\n",
       "      <th>4</th>\n",
       "      <td>109045</td>\n",
       "      <td>85458</td>\n",
       "      <td>0.051282</td>\n",
       "      <td>0.00</td>\n",
       "      <td>0</td>\n",
       "      <td>0</td>\n",
       "      <td>0.03</td>\n",
       "      <td>0.00</td>\n",
       "      <td>2.183295</td>\n",
       "      <td>1</td>\n",
       "      <td>7</td>\n",
       "      <td>6</td>\n",
       "      <td>4</td>\n",
       "      <td>28</td>\n",
       "      <td>13</td>\n",
       "      <td>0</td>\n",
       "      <td>2</td>\n",
       "      <td>0.447214</td>\n",
       "      <td>0.185695</td>\n",
       "      <td>1</td>\n",
       "    </tr>\n",
       "    <tr>\n",
       "      <th>...</th>\n",
       "      <td>...</td>\n",
       "      <td>...</td>\n",
       "      <td>...</td>\n",
       "      <td>...</td>\n",
       "      <td>...</td>\n",
       "      <td>...</td>\n",
       "      <td>...</td>\n",
       "      <td>...</td>\n",
       "      <td>...</td>\n",
       "      <td>...</td>\n",
       "      <td>...</td>\n",
       "      <td>...</td>\n",
       "      <td>...</td>\n",
       "      <td>...</td>\n",
       "      <td>...</td>\n",
       "      <td>...</td>\n",
       "      <td>...</td>\n",
       "      <td>...</td>\n",
       "      <td>...</td>\n",
       "      <td>...</td>\n",
       "    </tr>\n",
       "    <tr>\n",
       "      <th>1677715</th>\n",
       "      <td>631382</td>\n",
       "      <td>196479</td>\n",
       "      <td>0.000000</td>\n",
       "      <td>0.00</td>\n",
       "      <td>0</td>\n",
       "      <td>0</td>\n",
       "      <td>0.00</td>\n",
       "      <td>0.00</td>\n",
       "      <td>0.000000</td>\n",
       "      <td>1</td>\n",
       "      <td>-1</td>\n",
       "      <td>0</td>\n",
       "      <td>0</td>\n",
       "      <td>0</td>\n",
       "      <td>0</td>\n",
       "      <td>0</td>\n",
       "      <td>0</td>\n",
       "      <td>0.707107</td>\n",
       "      <td>0.577350</td>\n",
       "      <td>0</td>\n",
       "    </tr>\n",
       "    <tr>\n",
       "      <th>1677716</th>\n",
       "      <td>50664</td>\n",
       "      <td>47983</td>\n",
       "      <td>0.000000</td>\n",
       "      <td>0.00</td>\n",
       "      <td>0</td>\n",
       "      <td>0</td>\n",
       "      <td>0.00</td>\n",
       "      <td>0.00</td>\n",
       "      <td>0.000000</td>\n",
       "      <td>1</td>\n",
       "      <td>-1</td>\n",
       "      <td>0</td>\n",
       "      <td>1</td>\n",
       "      <td>3</td>\n",
       "      <td>2</td>\n",
       "      <td>0</td>\n",
       "      <td>0</td>\n",
       "      <td>0.447214</td>\n",
       "      <td>0.353553</td>\n",
       "      <td>0</td>\n",
       "    </tr>\n",
       "    <tr>\n",
       "      <th>1677717</th>\n",
       "      <td>277610</td>\n",
       "      <td>317522</td>\n",
       "      <td>0.000000</td>\n",
       "      <td>0.00</td>\n",
       "      <td>0</td>\n",
       "      <td>0</td>\n",
       "      <td>0.00</td>\n",
       "      <td>0.00</td>\n",
       "      <td>0.000000</td>\n",
       "      <td>1</td>\n",
       "      <td>-1</td>\n",
       "      <td>1</td>\n",
       "      <td>0</td>\n",
       "      <td>0</td>\n",
       "      <td>0</td>\n",
       "      <td>0</td>\n",
       "      <td>0</td>\n",
       "      <td>0.707107</td>\n",
       "      <td>0.500000</td>\n",
       "      <td>0</td>\n",
       "    </tr>\n",
       "    <tr>\n",
       "      <th>1677718</th>\n",
       "      <td>443136</td>\n",
       "      <td>132821</td>\n",
       "      <td>0.000000</td>\n",
       "      <td>0.00</td>\n",
       "      <td>0</td>\n",
       "      <td>0</td>\n",
       "      <td>0.00</td>\n",
       "      <td>0.00</td>\n",
       "      <td>0.000000</td>\n",
       "      <td>1</td>\n",
       "      <td>-1</td>\n",
       "      <td>0</td>\n",
       "      <td>0</td>\n",
       "      <td>0</td>\n",
       "      <td>0</td>\n",
       "      <td>0</td>\n",
       "      <td>0</td>\n",
       "      <td>0.577350</td>\n",
       "      <td>0.707107</td>\n",
       "      <td>0</td>\n",
       "    </tr>\n",
       "    <tr>\n",
       "      <th>1677719</th>\n",
       "      <td>104387</td>\n",
       "      <td>704051</td>\n",
       "      <td>0.000000</td>\n",
       "      <td>0.00</td>\n",
       "      <td>0</td>\n",
       "      <td>0</td>\n",
       "      <td>0.00</td>\n",
       "      <td>0.00</td>\n",
       "      <td>0.000000</td>\n",
       "      <td>1</td>\n",
       "      <td>-1</td>\n",
       "      <td>0</td>\n",
       "      <td>0</td>\n",
       "      <td>2</td>\n",
       "      <td>0</td>\n",
       "      <td>0</td>\n",
       "      <td>0</td>\n",
       "      <td>0.707107</td>\n",
       "      <td>0.500000</td>\n",
       "      <td>0</td>\n",
       "    </tr>\n",
       "  </tbody>\n",
       "</table>\n",
       "<p>1677720 rows × 20 columns</p>\n",
       "</div>"
      ],
      "text/plain": [
       "         source_node  destination_node  Jaccard_followees  Jaccard_followers  \\\n",
       "0             128335            990238           0.000000               0.00   \n",
       "1              64311            874986           0.000000               0.25   \n",
       "2             108983           1416606           0.000000               0.00   \n",
       "3              17882           1789054           0.000000               0.00   \n",
       "4             109045             85458           0.051282               0.00   \n",
       "...              ...               ...                ...                ...   \n",
       "1677715       631382            196479           0.000000               0.00   \n",
       "1677716        50664             47983           0.000000               0.00   \n",
       "1677717       277610            317522           0.000000               0.00   \n",
       "1677718       443136            132821           0.000000               0.00   \n",
       "1677719       104387            704051           0.000000               0.00   \n",
       "\n",
       "         cosine_followees  cosine_followers  Avg_sim_followees  \\\n",
       "0                       0                 0               0.00   \n",
       "1                       0                 0               0.00   \n",
       "2                       0                 0               0.00   \n",
       "3                       0                 0               0.00   \n",
       "4                       0                 0               0.03   \n",
       "...                   ...               ...                ...   \n",
       "1677715                 0                 0               0.00   \n",
       "1677716                 0                 0               0.00   \n",
       "1677717                 0                 0               0.00   \n",
       "1677718                 0                 0               0.00   \n",
       "1677719                 0                 0               0.00   \n",
       "\n",
       "         Avg_sim_followers  Adar Index  Is_Followback  Shortest Path  \\\n",
       "0                     0.00    0.000000              1              3   \n",
       "1                     0.12    0.000000              1             16   \n",
       "2                     0.00    0.000000              1             -1   \n",
       "3                     0.00    0.000000              1             -1   \n",
       "4                     0.00    2.183295              1              7   \n",
       "...                    ...         ...            ...            ...   \n",
       "1677715               0.00    0.000000              1             -1   \n",
       "1677716               0.00    0.000000              1             -1   \n",
       "1677717               0.00    0.000000              1             -1   \n",
       "1677718               0.00    0.000000              1             -1   \n",
       "1677719               0.00    0.000000              1             -1   \n",
       "\n",
       "         source_followees  dest_followees  source_followers  dest_followers  \\\n",
       "0                       2               5                54               0   \n",
       "1                       3               2                16               0   \n",
       "2                       2               1                 7               0   \n",
       "3                       0               0                 4               0   \n",
       "4                       6               4                28              13   \n",
       "...                   ...             ...               ...             ...   \n",
       "1677715                 0               0                 0               0   \n",
       "1677716                 0               1                 3               2   \n",
       "1677717                 1               0                 0               0   \n",
       "1677718                 0               0                 0               0   \n",
       "1677719                 0               0                 2               0   \n",
       "\n",
       "         common_followees  common_followers  weight_in  weight_out  \\\n",
       "0                       0                 0   0.408248    0.134840   \n",
       "1                       1                 0   0.577350    0.242536   \n",
       "2                       0                 0   0.577350    0.333333   \n",
       "3                       0                 0   0.707107    0.408248   \n",
       "4                       0                 2   0.447214    0.185695   \n",
       "...                   ...               ...        ...         ...   \n",
       "1677715                 0                 0   0.707107    0.577350   \n",
       "1677716                 0                 0   0.447214    0.353553   \n",
       "1677717                 0                 0   0.707107    0.500000   \n",
       "1677718                 0                 0   0.577350    0.707107   \n",
       "1677719                 0                 0   0.707107    0.500000   \n",
       "\n",
       "         link_indicator  \n",
       "0                     1  \n",
       "1                     1  \n",
       "2                     1  \n",
       "3                     1  \n",
       "4                     1  \n",
       "...                 ...  \n",
       "1677715               0  \n",
       "1677716               0  \n",
       "1677717               0  \n",
       "1677718               0  \n",
       "1677719               0  \n",
       "\n",
       "[1677720 rows x 20 columns]"
      ]
     },
     "execution_count": 100,
     "metadata": {},
     "output_type": "execute_result"
    }
   ],
   "source": [
    "final_train"
   ]
  },
  {
   "cell_type": "code",
   "execution_count": null,
   "id": "ba52e7ab",
   "metadata": {},
   "outputs": [],
   "source": []
  },
  {
   "cell_type": "markdown",
   "id": "a1ed03ba",
   "metadata": {},
   "source": [
    "# For Test"
   ]
  },
  {
   "cell_type": "code",
   "execution_count": null,
   "id": "51ed8172",
   "metadata": {},
   "outputs": [],
   "source": []
  },
  {
   "cell_type": "code",
   "execution_count": 101,
   "id": "2fc6cc5e",
   "metadata": {},
   "outputs": [
    {
     "name": "stderr",
     "output_type": "stream",
     "text": [
      "C:\\Users\\Shafiq\\AppData\\Local\\Temp\\ipykernel_12316\\581555850.py:1: DeprecationWarning: info is deprecated and will be removed in version 3.0.\n",
      "\n",
      "  print(nx.info(test_graph))\n"
     ]
    },
    {
     "name": "stdout",
     "output_type": "stream",
     "text": [
      "DiGraph with 504097 nodes and 419430 edges\n"
     ]
    }
   ],
   "source": [
    "print(nx.info(test_graph))"
   ]
  },
  {
   "cell_type": "code",
   "execution_count": null,
   "id": "19abd25c",
   "metadata": {},
   "outputs": [],
   "source": []
  },
  {
   "cell_type": "code",
   "execution_count": 102,
   "id": "ee782cc8",
   "metadata": {},
   "outputs": [
    {
     "data": {
      "text/html": [
       "<div>\n",
       "<style scoped>\n",
       "    .dataframe tbody tr th:only-of-type {\n",
       "        vertical-align: middle;\n",
       "    }\n",
       "\n",
       "    .dataframe tbody tr th {\n",
       "        vertical-align: top;\n",
       "    }\n",
       "\n",
       "    .dataframe thead th {\n",
       "        text-align: right;\n",
       "    }\n",
       "</style>\n",
       "<table border=\"1\" class=\"dataframe\">\n",
       "  <thead>\n",
       "    <tr style=\"text-align: right;\">\n",
       "      <th></th>\n",
       "      <th>source_node</th>\n",
       "      <th>destination_node</th>\n",
       "      <th>link_indicator</th>\n",
       "    </tr>\n",
       "  </thead>\n",
       "  <tbody>\n",
       "    <tr>\n",
       "      <th>0</th>\n",
       "      <td>204446</td>\n",
       "      <td>139592</td>\n",
       "      <td>1</td>\n",
       "    </tr>\n",
       "    <tr>\n",
       "      <th>1</th>\n",
       "      <td>70119</td>\n",
       "      <td>256428</td>\n",
       "      <td>1</td>\n",
       "    </tr>\n",
       "    <tr>\n",
       "      <th>2</th>\n",
       "      <td>171448</td>\n",
       "      <td>1548414</td>\n",
       "      <td>1</td>\n",
       "    </tr>\n",
       "    <tr>\n",
       "      <th>3</th>\n",
       "      <td>108453</td>\n",
       "      <td>163467</td>\n",
       "      <td>1</td>\n",
       "    </tr>\n",
       "    <tr>\n",
       "      <th>4</th>\n",
       "      <td>53271</td>\n",
       "      <td>1548358</td>\n",
       "      <td>1</td>\n",
       "    </tr>\n",
       "    <tr>\n",
       "      <th>...</th>\n",
       "      <td>...</td>\n",
       "      <td>...</td>\n",
       "      <td>...</td>\n",
       "    </tr>\n",
       "    <tr>\n",
       "      <th>419425</th>\n",
       "      <td>559059</td>\n",
       "      <td>137244</td>\n",
       "      <td>0</td>\n",
       "    </tr>\n",
       "    <tr>\n",
       "      <th>419426</th>\n",
       "      <td>270923</td>\n",
       "      <td>688340</td>\n",
       "      <td>0</td>\n",
       "    </tr>\n",
       "    <tr>\n",
       "      <th>419427</th>\n",
       "      <td>399586</td>\n",
       "      <td>700444</td>\n",
       "      <td>0</td>\n",
       "    </tr>\n",
       "    <tr>\n",
       "      <th>419428</th>\n",
       "      <td>285081</td>\n",
       "      <td>335390</td>\n",
       "      <td>0</td>\n",
       "    </tr>\n",
       "    <tr>\n",
       "      <th>419429</th>\n",
       "      <td>10864</td>\n",
       "      <td>630525</td>\n",
       "      <td>0</td>\n",
       "    </tr>\n",
       "  </tbody>\n",
       "</table>\n",
       "<p>419430 rows × 3 columns</p>\n",
       "</div>"
      ],
      "text/plain": [
       "        source_node  destination_node  link_indicator\n",
       "0            204446            139592               1\n",
       "1             70119            256428               1\n",
       "2            171448           1548414               1\n",
       "3            108453            163467               1\n",
       "4             53271           1548358               1\n",
       "...             ...               ...             ...\n",
       "419425       559059            137244               0\n",
       "419426       270923            688340               0\n",
       "419427       399586            700444               0\n",
       "419428       285081            335390               0\n",
       "419429        10864            630525               0\n",
       "\n",
       "[419430 rows x 3 columns]"
      ]
     },
     "execution_count": 102,
     "metadata": {},
     "output_type": "execute_result"
    }
   ],
   "source": [
    "final_test"
   ]
  },
  {
   "cell_type": "code",
   "execution_count": null,
   "id": "a71d1112",
   "metadata": {},
   "outputs": [],
   "source": []
  },
  {
   "cell_type": "markdown",
   "id": "7ef1e7a4",
   "metadata": {},
   "source": [
    "# Jaccard Similarity"
   ]
  },
  {
   "cell_type": "code",
   "execution_count": null,
   "id": "259068b1",
   "metadata": {},
   "outputs": [],
   "source": []
  },
  {
   "cell_type": "code",
   "execution_count": 103,
   "id": "a26c7fef",
   "metadata": {},
   "outputs": [],
   "source": [
    "def jaccard_followees(n1,n2):\n",
    "    \n",
    "        \n",
    "    try:\n",
    "        \n",
    "               \n",
    "        if(len(set(test_graph.successors(n1)))==0 or len(set(test_graph.successors(n2)))==0):\n",
    "            \n",
    "                       \n",
    "            return 0\n",
    "        \n",
    "        else:\n",
    "            \n",
    "            sim = (len(set(test_graph.successors(n1)).intersection(set(test_graph.successors(n2)))))/\\\n",
    "                                    (len(set(test_graph.successors(n1)).union(set(test_graph.successors(n2)))))\n",
    "            \n",
    "            return sim\n",
    "    \n",
    "    except:\n",
    "        \n",
    "        \n",
    "        return 0"
   ]
  },
  {
   "cell_type": "code",
   "execution_count": null,
   "id": "a70c55ee",
   "metadata": {},
   "outputs": [],
   "source": []
  },
  {
   "cell_type": "code",
   "execution_count": 104,
   "id": "51bf2b56",
   "metadata": {},
   "outputs": [
    {
     "data": {
      "text/plain": [
       "0.0"
      ]
     },
     "execution_count": 104,
     "metadata": {},
     "output_type": "execute_result"
    }
   ],
   "source": [
    "jaccard_followees(204446,139592)"
   ]
  },
  {
   "cell_type": "code",
   "execution_count": null,
   "id": "079a85e0",
   "metadata": {},
   "outputs": [],
   "source": []
  },
  {
   "cell_type": "code",
   "execution_count": 105,
   "id": "e98c8e91",
   "metadata": {},
   "outputs": [],
   "source": [
    "def jaccard_followers(n1,n2):\n",
    "    \n",
    "        \n",
    "    try:\n",
    "        \n",
    "               \n",
    "        if(len(set(test_graph.predecessors(n1)))==0 or len(set(test_graph.predecessors(n2)))==0):\n",
    "            \n",
    "                       \n",
    "            return 0\n",
    "        \n",
    "        else:\n",
    "            \n",
    "            sim = (len(set(test_graph.predecessors(n1)).intersection(set(test_graph.predecessors(n2)))))/\\\n",
    "                                    (len(set(test_graph.predecessors(n1)).union(set(test_graph.predecessors(n2)))))\n",
    "            \n",
    "            return sim\n",
    "    \n",
    "    except:\n",
    "        \n",
    "        \n",
    "        return 0"
   ]
  },
  {
   "cell_type": "code",
   "execution_count": null,
   "id": "5170784f",
   "metadata": {},
   "outputs": [],
   "source": []
  },
  {
   "cell_type": "code",
   "execution_count": 106,
   "id": "8e4b2f00",
   "metadata": {},
   "outputs": [
    {
     "data": {
      "text/plain": [
       "0.0"
      ]
     },
     "execution_count": 106,
     "metadata": {},
     "output_type": "execute_result"
    }
   ],
   "source": [
    "jaccard_followers(204446,139592)"
   ]
  },
  {
   "cell_type": "code",
   "execution_count": null,
   "id": "49670413",
   "metadata": {},
   "outputs": [],
   "source": []
  },
  {
   "cell_type": "markdown",
   "id": "46f3c040",
   "metadata": {},
   "source": [
    "# Cosine Similarity"
   ]
  },
  {
   "cell_type": "code",
   "execution_count": null,
   "id": "fc8159cf",
   "metadata": {},
   "outputs": [],
   "source": []
  },
  {
   "cell_type": "code",
   "execution_count": 107,
   "id": "ccb80b26",
   "metadata": {},
   "outputs": [],
   "source": [
    "def cosine_followees(n1,n2):\n",
    "    try:\n",
    "        if len(set(test_graph.successors(n1))) == 0  | len(set(test_graph.successors(n2))) == 0:\n",
    "            return 0\n",
    "        sim = (len(set(test_graph.successors(n1)).intersection(set(test_graph.successors(n2)))))/\\\n",
    "                                    (math.sqrt(len(set(test_graph.successors(n1)))*len((set(test_graph.successors(n2))))))\n",
    "       \n",
    "        return sim\n",
    "    \n",
    "    except:\n",
    "        return 0"
   ]
  },
  {
   "cell_type": "code",
   "execution_count": null,
   "id": "2832de3b",
   "metadata": {},
   "outputs": [],
   "source": []
  },
  {
   "cell_type": "code",
   "execution_count": 108,
   "id": "be92996c",
   "metadata": {},
   "outputs": [
    {
     "data": {
      "text/plain": [
       "0"
      ]
     },
     "execution_count": 108,
     "metadata": {},
     "output_type": "execute_result"
    }
   ],
   "source": [
    "cosine_followees(204446,139592)"
   ]
  },
  {
   "cell_type": "code",
   "execution_count": null,
   "id": "4796b91a",
   "metadata": {},
   "outputs": [],
   "source": []
  },
  {
   "cell_type": "code",
   "execution_count": 109,
   "id": "c60b2ea4",
   "metadata": {},
   "outputs": [],
   "source": [
    "def cosine_followers(n1,n2):\n",
    "    try:\n",
    "        if len(set(test_graph.predecessors(n1))) == 0  | len(set(test_graph.predecessors(n2))) == 0:\n",
    "            return 0\n",
    "        sim = (len(set(test_graph.predecessors(n1)).intersection(set(test_graph.predecessors(n2)))))/\\\n",
    "                                    (math.sqrt(len(set(test_graph.predecessors(n1)))*len((set(test_graph.predecessors(n2))))))\n",
    "       \n",
    "        return sim\n",
    "    \n",
    "    except:\n",
    "        return 0"
   ]
  },
  {
   "cell_type": "code",
   "execution_count": null,
   "id": "594b31df",
   "metadata": {},
   "outputs": [],
   "source": []
  },
  {
   "cell_type": "code",
   "execution_count": 110,
   "id": "a3333373",
   "metadata": {},
   "outputs": [
    {
     "data": {
      "text/plain": [
       "0"
      ]
     },
     "execution_count": 110,
     "metadata": {},
     "output_type": "execute_result"
    }
   ],
   "source": [
    "cosine_followers(204446,139592)"
   ]
  },
  {
   "cell_type": "code",
   "execution_count": null,
   "id": "567c3930",
   "metadata": {},
   "outputs": [],
   "source": []
  },
  {
   "cell_type": "markdown",
   "id": "471c65b7",
   "metadata": {},
   "source": [
    "# Avg Similarity"
   ]
  },
  {
   "cell_type": "code",
   "execution_count": null,
   "id": "e6266c30",
   "metadata": {},
   "outputs": [],
   "source": []
  },
  {
   "cell_type": "code",
   "execution_count": 111,
   "id": "b37808c2",
   "metadata": {},
   "outputs": [],
   "source": [
    "def avgsim_followees(n1,n2):\n",
    "    \n",
    "    jaccard=jaccard_followees(n1,n2)\n",
    "    cosine=cosine_followees(n1,n2)\n",
    "    \n",
    "    sim=round(((jaccard+cosine)/2),2)\n",
    "    \n",
    "    return sim"
   ]
  },
  {
   "cell_type": "code",
   "execution_count": null,
   "id": "dfb576aa",
   "metadata": {},
   "outputs": [],
   "source": []
  },
  {
   "cell_type": "code",
   "execution_count": 112,
   "id": "cafb8cd5",
   "metadata": {},
   "outputs": [
    {
     "data": {
      "text/plain": [
       "0.0"
      ]
     },
     "execution_count": 112,
     "metadata": {},
     "output_type": "execute_result"
    }
   ],
   "source": [
    "avgsim_followees(204446,139592)"
   ]
  },
  {
   "cell_type": "code",
   "execution_count": null,
   "id": "21638754",
   "metadata": {},
   "outputs": [],
   "source": []
  },
  {
   "cell_type": "code",
   "execution_count": 113,
   "id": "9b91b6c7",
   "metadata": {},
   "outputs": [],
   "source": [
    "def avgsim_followers(n1,n2):\n",
    "    \n",
    "    jaccard=jaccard_followers(n1,n2)\n",
    "    cosine=cosine_followers(n1,n2)\n",
    "    \n",
    "    sim=round(((jaccard+cosine)/2),2)\n",
    "    \n",
    "    return sim"
   ]
  },
  {
   "cell_type": "code",
   "execution_count": null,
   "id": "9f02d4d5",
   "metadata": {},
   "outputs": [],
   "source": []
  },
  {
   "cell_type": "code",
   "execution_count": 114,
   "id": "abbdcfac",
   "metadata": {},
   "outputs": [
    {
     "data": {
      "text/plain": [
       "0.0"
      ]
     },
     "execution_count": 114,
     "metadata": {},
     "output_type": "execute_result"
    }
   ],
   "source": [
    "avgsim_followers(204446,139592)"
   ]
  },
  {
   "cell_type": "code",
   "execution_count": null,
   "id": "fccb7d2e",
   "metadata": {},
   "outputs": [],
   "source": []
  },
  {
   "cell_type": "markdown",
   "id": "d7f636cf",
   "metadata": {},
   "source": [
    "# Adamic/Adar Index"
   ]
  },
  {
   "cell_type": "code",
   "execution_count": null,
   "id": "d73b2146",
   "metadata": {},
   "outputs": [],
   "source": []
  },
  {
   "cell_type": "code",
   "execution_count": 115,
   "id": "73c1a61d",
   "metadata": {},
   "outputs": [],
   "source": [
    " def adar_in(n1,n2):\n",
    "    \n",
    "    sum=0\n",
    "    \n",
    "    try:\n",
    "        \n",
    "        n=list(set(test_graph.successors(n1)).intersection(set(test_graph.successors(n2))))\n",
    "        \n",
    "        if len(n)!=0:\n",
    "            \n",
    "            for i in n:\n",
    "                \n",
    "                sum=sum+(1/np.log10(len(list(test_graph.predecessors(i)))))\n",
    "                \n",
    "            return sum\n",
    "        \n",
    "        else:\n",
    "            \n",
    "            return 0\n",
    "    except:\n",
    "        \n",
    "        return 0"
   ]
  },
  {
   "cell_type": "code",
   "execution_count": null,
   "id": "2702af17",
   "metadata": {},
   "outputs": [],
   "source": []
  },
  {
   "cell_type": "code",
   "execution_count": 116,
   "id": "b2af3208",
   "metadata": {},
   "outputs": [
    {
     "data": {
      "text/plain": [
       "0"
      ]
     },
     "execution_count": 116,
     "metadata": {},
     "output_type": "execute_result"
    }
   ],
   "source": [
    "adar_in(204446,139592)"
   ]
  },
  {
   "cell_type": "code",
   "execution_count": null,
   "id": "c6303bd5",
   "metadata": {},
   "outputs": [],
   "source": []
  },
  {
   "cell_type": "markdown",
   "id": "9f7ae90a",
   "metadata": {},
   "source": [
    "# is_Followback"
   ]
  },
  {
   "cell_type": "code",
   "execution_count": null,
   "id": "d0071008",
   "metadata": {},
   "outputs": [],
   "source": []
  },
  {
   "cell_type": "code",
   "execution_count": 117,
   "id": "5277adc9",
   "metadata": {},
   "outputs": [],
   "source": [
    "def is_followback(n1,n2):\n",
    "    \n",
    "    if test_graph.has_edge(n1,n2):\n",
    "        \n",
    "        return 1\n",
    "    \n",
    "    else:\n",
    "        \n",
    "        return 0"
   ]
  },
  {
   "cell_type": "code",
   "execution_count": null,
   "id": "53403058",
   "metadata": {},
   "outputs": [],
   "source": []
  },
  {
   "cell_type": "code",
   "execution_count": 118,
   "id": "5c63a3d2",
   "metadata": {},
   "outputs": [
    {
     "data": {
      "text/plain": [
       "1"
      ]
     },
     "execution_count": 118,
     "metadata": {},
     "output_type": "execute_result"
    }
   ],
   "source": [
    "is_followback(204446,139592)"
   ]
  },
  {
   "cell_type": "code",
   "execution_count": null,
   "id": "680d6917",
   "metadata": {},
   "outputs": [],
   "source": []
  },
  {
   "cell_type": "markdown",
   "id": "8eef1a7e",
   "metadata": {},
   "source": [
    "# Shortest Path"
   ]
  },
  {
   "cell_type": "code",
   "execution_count": null,
   "id": "004f3bdf",
   "metadata": {},
   "outputs": [],
   "source": []
  },
  {
   "cell_type": "code",
   "execution_count": 119,
   "id": "0c3b9994",
   "metadata": {},
   "outputs": [],
   "source": [
    "def shortest_path_length(n1,n2):\n",
    "    path=-1\n",
    "    try:\n",
    "        if test_graph.has_edge(n1,n2):\n",
    "            test_graph.remove_edge(n1,n2)\n",
    "            path= nx.shortest_path_length(test_graph,source=n1,target=n2)\n",
    "            test_graph.add_edge(n1,n2)\n",
    "        else:\n",
    "            path= nx.shortest_path_length(test_graph,source=n1,target=n2)\n",
    "        return path\n",
    "    except:\n",
    "        return -1"
   ]
  },
  {
   "cell_type": "code",
   "execution_count": null,
   "id": "00318412",
   "metadata": {},
   "outputs": [],
   "source": []
  },
  {
   "cell_type": "code",
   "execution_count": 120,
   "id": "74b066a0",
   "metadata": {},
   "outputs": [
    {
     "data": {
      "text/plain": [
       "-1"
      ]
     },
     "execution_count": 120,
     "metadata": {},
     "output_type": "execute_result"
    }
   ],
   "source": [
    "shortest_path_length(204446,139592)"
   ]
  },
  {
   "cell_type": "code",
   "execution_count": null,
   "id": "b870dc9e",
   "metadata": {},
   "outputs": [],
   "source": []
  },
  {
   "cell_type": "markdown",
   "id": "710c98c2",
   "metadata": {},
   "source": [
    "# Weight Indexes"
   ]
  },
  {
   "cell_type": "code",
   "execution_count": null,
   "id": "5a3519c2",
   "metadata": {},
   "outputs": [],
   "source": []
  },
  {
   "cell_type": "code",
   "execution_count": 121,
   "id": "6434b56b",
   "metadata": {},
   "outputs": [
    {
     "name": "stderr",
     "output_type": "stream",
     "text": [
      "100%|██████████████████████████████████████████████████████████████████████| 504097/504097 [00:03<00:00, 126880.86it/s]\n"
     ]
    }
   ],
   "source": [
    "Weight_in = {}\n",
    "Weight_out = {}\n",
    "\n",
    "for i in  tqdm(test_graph.nodes()):\n",
    "    \n",
    "    win=set(test_graph.predecessors(i))\n",
    "    \n",
    "    w_in = 1.0/(np.sqrt(1+len(win)))\n",
    "    \n",
    "    Weight_in[i]=w_in\n",
    "    \n",
    "    wout=set(test_graph.successors(i))\n",
    "    \n",
    "    w_out = 1.0/(np.sqrt(1+len(wout)))\n",
    "    \n",
    "    Weight_out[i]=w_out"
   ]
  },
  {
   "cell_type": "code",
   "execution_count": null,
   "id": "d7063b6e",
   "metadata": {},
   "outputs": [],
   "source": []
  },
  {
   "cell_type": "markdown",
   "id": "5229edcf",
   "metadata": {},
   "source": [
    "# Pipeline for Test Dataset"
   ]
  },
  {
   "cell_type": "code",
   "execution_count": null,
   "id": "2b2d79d3",
   "metadata": {},
   "outputs": [],
   "source": []
  },
  {
   "cell_type": "code",
   "execution_count": 122,
   "id": "6e7e5108",
   "metadata": {},
   "outputs": [
    {
     "name": "stdout",
     "output_type": "stream",
     "text": [
      "jac_followees:  [0]\n",
      "jac_followers:  [0]\n",
      "cos_followees:  [0]\n",
      "cos_followers:  [0]\n",
      "asim_followees:  [0.0]\n",
      "asim_followers:  [0.0]\n",
      "adarin:  [0]\n",
      "Is followback:  [1]\n",
      "short_path:  [4]\n",
      "source_numfollowees:  [0]\n",
      "dest_numfollowees:  [5]\n",
      "source_numfollowers:  [13]\n",
      "dest_numfollowers:  [5]\n",
      "common_numfollowers:  [0]\n",
      "common_numfollowers:  [0]\n"
     ]
    }
   ],
   "source": [
    "jac_followees=[]\n",
    "jac_followers=[]\n",
    "cos_followees=[]\n",
    "cos_followers=[]\n",
    "asim_followees=[]\n",
    "asim_followers=[]\n",
    "adarin=[]\n",
    "followback=[]\n",
    "short_path=[]\n",
    "source_numfollowees=[]\n",
    "dest_numfollowees=[]\n",
    "source_numfollowers=[]\n",
    "dest_numfollowers=[]\n",
    "common_numfollowees=[]\n",
    "common_numfollowers=[]\n",
    "\n",
    "\n",
    "\n",
    "#for index,row in ftrain.iterrows():\n",
    "    \n",
    "source=int(final_test[\"source_node\"][7])\n",
    "dest=int(final_test[\"destination_node\"][7])\n",
    "\n",
    "jac_followees.append(jaccard_followees(source,dest))\n",
    "jac_followers.append(jaccard_followers(source,dest))\n",
    "cos_followees.append(cosine_followees(source,dest))\n",
    "cos_followers.append(cosine_followers(source,dest))\n",
    "asim_followees.append(avgsim_followees(source,dest))\n",
    "asim_followers.append(avgsim_followers(source,dest))\n",
    "adarin.append(adar_in(source,dest))\n",
    "followback.append(is_followback(source,dest))\n",
    "short_path.append(shortest_path_length(source,dest))\n",
    "\n",
    "s_followees=set(test_graph.predecessors(source))\n",
    "s_followers=set(test_graph.successors(source))\n",
    "d_followees=set(test_graph.predecessors(dest))\n",
    "d_followers=set(test_graph.successors(dest))\n",
    "\n",
    "cm_folowees=s_followees.intersection(d_followees)\n",
    "cm_folowers=s_followers.intersection(d_followers)\n",
    "\n",
    "source_numfollowees.append(len(s_followees))\n",
    "dest_numfollowees.append(len(d_followees))\n",
    "source_numfollowers.append(len(s_followers))\n",
    "dest_numfollowers.append(len(d_followers))\n",
    "\n",
    "common_numfollowees.append(len(cm_folowees))\n",
    "common_numfollowers.append(len(cm_folowers))\n",
    "\n",
    "print(\"jac_followees: \", jac_followees)\n",
    "print(\"jac_followers: \",jac_followers)\n",
    "print(\"cos_followees: \",cos_followees)\n",
    "print(\"cos_followers: \",cos_followers)\n",
    "print(\"asim_followees: \",asim_followees)\n",
    "print(\"asim_followers: \",asim_followers)\n",
    "print(\"adarin: \",adarin)\n",
    "print(\"Is followback: \",followback)\n",
    "print(\"short_path: \",short_path)\n",
    "print(\"source_numfollowees: \",source_numfollowees)\n",
    "print(\"dest_numfollowees: \",dest_numfollowees)\n",
    "print(\"source_numfollowers: \",source_numfollowers)\n",
    "print(\"dest_numfollowers: \",dest_numfollowees)\n",
    "print(\"common_numfollowers: \",common_numfollowees)\n",
    "print(\"common_numfollowers: \",common_numfollowees)"
   ]
  },
  {
   "cell_type": "code",
   "execution_count": null,
   "id": "5ce617ec",
   "metadata": {},
   "outputs": [],
   "source": []
  },
  {
   "cell_type": "code",
   "execution_count": 123,
   "id": "156eceac",
   "metadata": {},
   "outputs": [],
   "source": [
    "jac_followees=[]\n",
    "jac_followers=[]\n",
    "cos_followees=[]\n",
    "cos_followers=[]\n",
    "asim_followees=[]\n",
    "asim_followers=[]\n",
    "adarin=[]\n",
    "followback=[]\n",
    "short_path=[]\n",
    "source_numfollowees=[]\n",
    "dest_numfollowees=[]\n",
    "source_numfollowers=[]\n",
    "dest_numfollowers=[]\n",
    "common_numfollowees=[]\n",
    "common_numfollowers=[]\n",
    "\n",
    "\n",
    "\n",
    "for index,row in final_test.iterrows():\n",
    "    \n",
    "    source=int(row[\"source_node\"])\n",
    "    dest=int(row[\"destination_node\"])\n",
    "\n",
    "    jac_followees.append(jaccard_followees(source,dest))\n",
    "    jac_followers.append(jaccard_followers(source,dest))\n",
    "    cos_followees.append(cosine_followees(source,dest))\n",
    "    cos_followers.append(cosine_followers(source,dest))   \n",
    "    asim_followees.append(avgsim_followees(source,dest))\n",
    "    asim_followers.append(avgsim_followers(source,dest))\n",
    "    adarin.append(adar_in(source,dest))\n",
    "    followback.append(is_followback(source,dest))\n",
    "    short_path.append(shortest_path_length(source,dest))\n",
    "\n",
    "    s_followees=set(test_graph.predecessors(source))\n",
    "    s_followers=set(test_graph.successors(source))\n",
    "    d_followees=set(test_graph.predecessors(dest))\n",
    "    d_followers=set(test_graph.successors(dest))\n",
    "\n",
    "    cm_folowees=s_followees.intersection(d_followees)\n",
    "    cm_folowers=s_followers.intersection(d_followers)\n",
    "\n",
    "    source_numfollowees.append(len(s_followees))\n",
    "    dest_numfollowees.append(len(d_followees))\n",
    "    source_numfollowers.append(len(s_followers))\n",
    "    dest_numfollowers.append(len(d_followers))\n",
    "\n",
    "    common_numfollowees.append(len(cm_folowees))\n",
    "    common_numfollowers.append(len(cm_folowers))"
   ]
  },
  {
   "cell_type": "code",
   "execution_count": null,
   "id": "37f264bf",
   "metadata": {},
   "outputs": [],
   "source": []
  },
  {
   "cell_type": "code",
   "execution_count": 124,
   "id": "a78e53be",
   "metadata": {},
   "outputs": [
    {
     "data": {
      "text/plain": [
       "419430"
      ]
     },
     "execution_count": 124,
     "metadata": {},
     "output_type": "execute_result"
    }
   ],
   "source": [
    "len(jac_followees)"
   ]
  },
  {
   "cell_type": "code",
   "execution_count": null,
   "id": "f87555cb",
   "metadata": {},
   "outputs": [],
   "source": []
  },
  {
   "cell_type": "code",
   "execution_count": 125,
   "id": "a97e62b5",
   "metadata": {},
   "outputs": [],
   "source": [
    "final_test[\"Jaccard_followees\"]=jac_followees\n",
    "final_test[\"Jaccard_followers\"]=jac_followers\n",
    "final_test[\"cosine_followees\"]=cos_followees\n",
    "final_test[\"cosine_followers\"]=cos_followers\n",
    "final_test[\"Avg_sim_followees\"]=asim_followees\n",
    "final_test[\"Avg_sim_followers\"]=asim_followers\n",
    "final_test[\"Adar Index\"]=adarin\n",
    "final_test[\"Is_Followback\"]=followback\n",
    "final_test[\"Shortest Path\"]=short_path\n",
    "final_test[\"source_followees\"]=source_numfollowees\n",
    "final_test[\"dest_followees\"]=dest_numfollowees\n",
    "final_test[\"source_followers\"]=source_numfollowers\n",
    "final_test[\"dest_followers\"]=dest_numfollowers\n",
    "final_test[\"common_followees\"]=common_numfollowees\n",
    "final_test[\"common_followers\"]=common_numfollowers"
   ]
  },
  {
   "cell_type": "code",
   "execution_count": null,
   "id": "f18875cc",
   "metadata": {},
   "outputs": [],
   "source": []
  },
  {
   "cell_type": "code",
   "execution_count": 126,
   "id": "eb5a66e2",
   "metadata": {},
   "outputs": [
    {
     "data": {
      "text/html": [
       "<div>\n",
       "<style scoped>\n",
       "    .dataframe tbody tr th:only-of-type {\n",
       "        vertical-align: middle;\n",
       "    }\n",
       "\n",
       "    .dataframe tbody tr th {\n",
       "        vertical-align: top;\n",
       "    }\n",
       "\n",
       "    .dataframe thead th {\n",
       "        text-align: right;\n",
       "    }\n",
       "</style>\n",
       "<table border=\"1\" class=\"dataframe\">\n",
       "  <thead>\n",
       "    <tr style=\"text-align: right;\">\n",
       "      <th></th>\n",
       "      <th>source_node</th>\n",
       "      <th>destination_node</th>\n",
       "      <th>link_indicator</th>\n",
       "      <th>Jaccard_followees</th>\n",
       "      <th>Jaccard_followers</th>\n",
       "      <th>cosine_followees</th>\n",
       "      <th>cosine_followers</th>\n",
       "      <th>Avg_sim_followees</th>\n",
       "      <th>Avg_sim_followers</th>\n",
       "      <th>Adar Index</th>\n",
       "      <th>Is_Followback</th>\n",
       "      <th>Shortest Path</th>\n",
       "      <th>source_followees</th>\n",
       "      <th>dest_followees</th>\n",
       "      <th>source_followers</th>\n",
       "      <th>dest_followers</th>\n",
       "      <th>common_followees</th>\n",
       "      <th>common_followers</th>\n",
       "    </tr>\n",
       "  </thead>\n",
       "  <tbody>\n",
       "    <tr>\n",
       "      <th>0</th>\n",
       "      <td>204446</td>\n",
       "      <td>139592</td>\n",
       "      <td>1</td>\n",
       "      <td>0.0</td>\n",
       "      <td>0.0</td>\n",
       "      <td>0</td>\n",
       "      <td>0</td>\n",
       "      <td>0.0</td>\n",
       "      <td>0.0</td>\n",
       "      <td>0.0</td>\n",
       "      <td>0</td>\n",
       "      <td>-1</td>\n",
       "      <td>1</td>\n",
       "      <td>0</td>\n",
       "      <td>2</td>\n",
       "      <td>1</td>\n",
       "      <td>0</td>\n",
       "      <td>0</td>\n",
       "    </tr>\n",
       "    <tr>\n",
       "      <th>1</th>\n",
       "      <td>70119</td>\n",
       "      <td>256428</td>\n",
       "      <td>1</td>\n",
       "      <td>0.0</td>\n",
       "      <td>0.0</td>\n",
       "      <td>0</td>\n",
       "      <td>0</td>\n",
       "      <td>0.0</td>\n",
       "      <td>0.0</td>\n",
       "      <td>0.0</td>\n",
       "      <td>1</td>\n",
       "      <td>-1</td>\n",
       "      <td>0</td>\n",
       "      <td>0</td>\n",
       "      <td>0</td>\n",
       "      <td>1</td>\n",
       "      <td>0</td>\n",
       "      <td>0</td>\n",
       "    </tr>\n",
       "    <tr>\n",
       "      <th>2</th>\n",
       "      <td>171448</td>\n",
       "      <td>1548414</td>\n",
       "      <td>1</td>\n",
       "      <td>0.0</td>\n",
       "      <td>0.0</td>\n",
       "      <td>0</td>\n",
       "      <td>0</td>\n",
       "      <td>0.0</td>\n",
       "      <td>0.0</td>\n",
       "      <td>0.0</td>\n",
       "      <td>1</td>\n",
       "      <td>-1</td>\n",
       "      <td>0</td>\n",
       "      <td>0</td>\n",
       "      <td>2</td>\n",
       "      <td>0</td>\n",
       "      <td>0</td>\n",
       "      <td>0</td>\n",
       "    </tr>\n",
       "    <tr>\n",
       "      <th>3</th>\n",
       "      <td>108453</td>\n",
       "      <td>163467</td>\n",
       "      <td>1</td>\n",
       "      <td>0.0</td>\n",
       "      <td>0.0</td>\n",
       "      <td>0</td>\n",
       "      <td>0</td>\n",
       "      <td>0.0</td>\n",
       "      <td>0.0</td>\n",
       "      <td>0.0</td>\n",
       "      <td>1</td>\n",
       "      <td>-1</td>\n",
       "      <td>0</td>\n",
       "      <td>1</td>\n",
       "      <td>8</td>\n",
       "      <td>1</td>\n",
       "      <td>0</td>\n",
       "      <td>0</td>\n",
       "    </tr>\n",
       "    <tr>\n",
       "      <th>4</th>\n",
       "      <td>53271</td>\n",
       "      <td>1548358</td>\n",
       "      <td>1</td>\n",
       "      <td>0.0</td>\n",
       "      <td>0.0</td>\n",
       "      <td>0</td>\n",
       "      <td>0</td>\n",
       "      <td>0.0</td>\n",
       "      <td>0.0</td>\n",
       "      <td>0.0</td>\n",
       "      <td>1</td>\n",
       "      <td>-1</td>\n",
       "      <td>2</td>\n",
       "      <td>0</td>\n",
       "      <td>3</td>\n",
       "      <td>0</td>\n",
       "      <td>0</td>\n",
       "      <td>0</td>\n",
       "    </tr>\n",
       "    <tr>\n",
       "      <th>...</th>\n",
       "      <td>...</td>\n",
       "      <td>...</td>\n",
       "      <td>...</td>\n",
       "      <td>...</td>\n",
       "      <td>...</td>\n",
       "      <td>...</td>\n",
       "      <td>...</td>\n",
       "      <td>...</td>\n",
       "      <td>...</td>\n",
       "      <td>...</td>\n",
       "      <td>...</td>\n",
       "      <td>...</td>\n",
       "      <td>...</td>\n",
       "      <td>...</td>\n",
       "      <td>...</td>\n",
       "      <td>...</td>\n",
       "      <td>...</td>\n",
       "      <td>...</td>\n",
       "    </tr>\n",
       "    <tr>\n",
       "      <th>419425</th>\n",
       "      <td>559059</td>\n",
       "      <td>137244</td>\n",
       "      <td>0</td>\n",
       "      <td>0.0</td>\n",
       "      <td>0.0</td>\n",
       "      <td>0</td>\n",
       "      <td>0</td>\n",
       "      <td>0.0</td>\n",
       "      <td>0.0</td>\n",
       "      <td>0.0</td>\n",
       "      <td>1</td>\n",
       "      <td>-1</td>\n",
       "      <td>0</td>\n",
       "      <td>0</td>\n",
       "      <td>0</td>\n",
       "      <td>0</td>\n",
       "      <td>0</td>\n",
       "      <td>0</td>\n",
       "    </tr>\n",
       "    <tr>\n",
       "      <th>419426</th>\n",
       "      <td>270923</td>\n",
       "      <td>688340</td>\n",
       "      <td>0</td>\n",
       "      <td>0.0</td>\n",
       "      <td>0.0</td>\n",
       "      <td>0</td>\n",
       "      <td>0</td>\n",
       "      <td>0.0</td>\n",
       "      <td>0.0</td>\n",
       "      <td>0.0</td>\n",
       "      <td>1</td>\n",
       "      <td>-1</td>\n",
       "      <td>0</td>\n",
       "      <td>0</td>\n",
       "      <td>0</td>\n",
       "      <td>0</td>\n",
       "      <td>0</td>\n",
       "      <td>0</td>\n",
       "    </tr>\n",
       "    <tr>\n",
       "      <th>419427</th>\n",
       "      <td>399586</td>\n",
       "      <td>700444</td>\n",
       "      <td>0</td>\n",
       "      <td>0.0</td>\n",
       "      <td>0.0</td>\n",
       "      <td>0</td>\n",
       "      <td>0</td>\n",
       "      <td>0.0</td>\n",
       "      <td>0.0</td>\n",
       "      <td>0.0</td>\n",
       "      <td>1</td>\n",
       "      <td>-1</td>\n",
       "      <td>0</td>\n",
       "      <td>0</td>\n",
       "      <td>0</td>\n",
       "      <td>0</td>\n",
       "      <td>0</td>\n",
       "      <td>0</td>\n",
       "    </tr>\n",
       "    <tr>\n",
       "      <th>419428</th>\n",
       "      <td>285081</td>\n",
       "      <td>335390</td>\n",
       "      <td>0</td>\n",
       "      <td>0.0</td>\n",
       "      <td>0.0</td>\n",
       "      <td>0</td>\n",
       "      <td>0</td>\n",
       "      <td>0.0</td>\n",
       "      <td>0.0</td>\n",
       "      <td>0.0</td>\n",
       "      <td>1</td>\n",
       "      <td>-1</td>\n",
       "      <td>0</td>\n",
       "      <td>0</td>\n",
       "      <td>0</td>\n",
       "      <td>0</td>\n",
       "      <td>0</td>\n",
       "      <td>0</td>\n",
       "    </tr>\n",
       "    <tr>\n",
       "      <th>419429</th>\n",
       "      <td>10864</td>\n",
       "      <td>630525</td>\n",
       "      <td>0</td>\n",
       "      <td>0.0</td>\n",
       "      <td>0.0</td>\n",
       "      <td>0</td>\n",
       "      <td>0</td>\n",
       "      <td>0.0</td>\n",
       "      <td>0.0</td>\n",
       "      <td>0.0</td>\n",
       "      <td>1</td>\n",
       "      <td>-1</td>\n",
       "      <td>0</td>\n",
       "      <td>0</td>\n",
       "      <td>0</td>\n",
       "      <td>0</td>\n",
       "      <td>0</td>\n",
       "      <td>0</td>\n",
       "    </tr>\n",
       "  </tbody>\n",
       "</table>\n",
       "<p>419430 rows × 18 columns</p>\n",
       "</div>"
      ],
      "text/plain": [
       "        source_node  destination_node  link_indicator  Jaccard_followees  \\\n",
       "0            204446            139592               1                0.0   \n",
       "1             70119            256428               1                0.0   \n",
       "2            171448           1548414               1                0.0   \n",
       "3            108453            163467               1                0.0   \n",
       "4             53271           1548358               1                0.0   \n",
       "...             ...               ...             ...                ...   \n",
       "419425       559059            137244               0                0.0   \n",
       "419426       270923            688340               0                0.0   \n",
       "419427       399586            700444               0                0.0   \n",
       "419428       285081            335390               0                0.0   \n",
       "419429        10864            630525               0                0.0   \n",
       "\n",
       "        Jaccard_followers  cosine_followees  cosine_followers  \\\n",
       "0                     0.0                 0                 0   \n",
       "1                     0.0                 0                 0   \n",
       "2                     0.0                 0                 0   \n",
       "3                     0.0                 0                 0   \n",
       "4                     0.0                 0                 0   \n",
       "...                   ...               ...               ...   \n",
       "419425                0.0                 0                 0   \n",
       "419426                0.0                 0                 0   \n",
       "419427                0.0                 0                 0   \n",
       "419428                0.0                 0                 0   \n",
       "419429                0.0                 0                 0   \n",
       "\n",
       "        Avg_sim_followees  Avg_sim_followers  Adar Index  Is_Followback  \\\n",
       "0                     0.0                0.0         0.0              0   \n",
       "1                     0.0                0.0         0.0              1   \n",
       "2                     0.0                0.0         0.0              1   \n",
       "3                     0.0                0.0         0.0              1   \n",
       "4                     0.0                0.0         0.0              1   \n",
       "...                   ...                ...         ...            ...   \n",
       "419425                0.0                0.0         0.0              1   \n",
       "419426                0.0                0.0         0.0              1   \n",
       "419427                0.0                0.0         0.0              1   \n",
       "419428                0.0                0.0         0.0              1   \n",
       "419429                0.0                0.0         0.0              1   \n",
       "\n",
       "        Shortest Path  source_followees  dest_followees  source_followers  \\\n",
       "0                  -1                 1               0                 2   \n",
       "1                  -1                 0               0                 0   \n",
       "2                  -1                 0               0                 2   \n",
       "3                  -1                 0               1                 8   \n",
       "4                  -1                 2               0                 3   \n",
       "...               ...               ...             ...               ...   \n",
       "419425             -1                 0               0                 0   \n",
       "419426             -1                 0               0                 0   \n",
       "419427             -1                 0               0                 0   \n",
       "419428             -1                 0               0                 0   \n",
       "419429             -1                 0               0                 0   \n",
       "\n",
       "        dest_followers  common_followees  common_followers  \n",
       "0                    1                 0                 0  \n",
       "1                    1                 0                 0  \n",
       "2                    0                 0                 0  \n",
       "3                    1                 0                 0  \n",
       "4                    0                 0                 0  \n",
       "...                ...               ...               ...  \n",
       "419425               0                 0                 0  \n",
       "419426               0                 0                 0  \n",
       "419427               0                 0                 0  \n",
       "419428               0                 0                 0  \n",
       "419429               0                 0                 0  \n",
       "\n",
       "[419430 rows x 18 columns]"
      ]
     },
     "execution_count": 126,
     "metadata": {},
     "output_type": "execute_result"
    }
   ],
   "source": [
    "final_test"
   ]
  },
  {
   "cell_type": "code",
   "execution_count": null,
   "id": "0e8c79c0",
   "metadata": {},
   "outputs": [],
   "source": []
  },
  {
   "cell_type": "code",
   "execution_count": 127,
   "id": "7bf20ae5",
   "metadata": {},
   "outputs": [],
   "source": [
    "final_test['weight_in'] = final_test.destination_node.apply(lambda x: Weight_in.get(x,mean_weight_in))\n",
    "final_test['weight_out'] = final_test.source_node.apply(lambda x: Weight_out.get(x,mean_weight_out))"
   ]
  },
  {
   "cell_type": "code",
   "execution_count": null,
   "id": "2edab965",
   "metadata": {},
   "outputs": [],
   "source": []
  },
  {
   "cell_type": "code",
   "execution_count": 128,
   "id": "af9003ed",
   "metadata": {},
   "outputs": [
    {
     "data": {
      "text/html": [
       "<div>\n",
       "<style scoped>\n",
       "    .dataframe tbody tr th:only-of-type {\n",
       "        vertical-align: middle;\n",
       "    }\n",
       "\n",
       "    .dataframe tbody tr th {\n",
       "        vertical-align: top;\n",
       "    }\n",
       "\n",
       "    .dataframe thead th {\n",
       "        text-align: right;\n",
       "    }\n",
       "</style>\n",
       "<table border=\"1\" class=\"dataframe\">\n",
       "  <thead>\n",
       "    <tr style=\"text-align: right;\">\n",
       "      <th></th>\n",
       "      <th>source_node</th>\n",
       "      <th>destination_node</th>\n",
       "      <th>link_indicator</th>\n",
       "      <th>Jaccard_followees</th>\n",
       "      <th>Jaccard_followers</th>\n",
       "      <th>cosine_followees</th>\n",
       "      <th>cosine_followers</th>\n",
       "      <th>Avg_sim_followees</th>\n",
       "      <th>Avg_sim_followers</th>\n",
       "      <th>Adar Index</th>\n",
       "      <th>Is_Followback</th>\n",
       "      <th>Shortest Path</th>\n",
       "      <th>source_followees</th>\n",
       "      <th>dest_followees</th>\n",
       "      <th>source_followers</th>\n",
       "      <th>dest_followers</th>\n",
       "      <th>common_followees</th>\n",
       "      <th>common_followers</th>\n",
       "      <th>weight_in</th>\n",
       "      <th>weight_out</th>\n",
       "    </tr>\n",
       "  </thead>\n",
       "  <tbody>\n",
       "    <tr>\n",
       "      <th>0</th>\n",
       "      <td>204446</td>\n",
       "      <td>139592</td>\n",
       "      <td>1</td>\n",
       "      <td>0.0</td>\n",
       "      <td>0.0</td>\n",
       "      <td>0</td>\n",
       "      <td>0</td>\n",
       "      <td>0.0</td>\n",
       "      <td>0.0</td>\n",
       "      <td>0.0</td>\n",
       "      <td>0</td>\n",
       "      <td>-1</td>\n",
       "      <td>1</td>\n",
       "      <td>0</td>\n",
       "      <td>2</td>\n",
       "      <td>1</td>\n",
       "      <td>0</td>\n",
       "      <td>0</td>\n",
       "      <td>1.000000</td>\n",
       "      <td>0.577350</td>\n",
       "    </tr>\n",
       "    <tr>\n",
       "      <th>1</th>\n",
       "      <td>70119</td>\n",
       "      <td>256428</td>\n",
       "      <td>1</td>\n",
       "      <td>0.0</td>\n",
       "      <td>0.0</td>\n",
       "      <td>0</td>\n",
       "      <td>0</td>\n",
       "      <td>0.0</td>\n",
       "      <td>0.0</td>\n",
       "      <td>0.0</td>\n",
       "      <td>1</td>\n",
       "      <td>-1</td>\n",
       "      <td>0</td>\n",
       "      <td>0</td>\n",
       "      <td>0</td>\n",
       "      <td>1</td>\n",
       "      <td>0</td>\n",
       "      <td>0</td>\n",
       "      <td>0.707107</td>\n",
       "      <td>0.707107</td>\n",
       "    </tr>\n",
       "    <tr>\n",
       "      <th>2</th>\n",
       "      <td>171448</td>\n",
       "      <td>1548414</td>\n",
       "      <td>1</td>\n",
       "      <td>0.0</td>\n",
       "      <td>0.0</td>\n",
       "      <td>0</td>\n",
       "      <td>0</td>\n",
       "      <td>0.0</td>\n",
       "      <td>0.0</td>\n",
       "      <td>0.0</td>\n",
       "      <td>1</td>\n",
       "      <td>-1</td>\n",
       "      <td>0</td>\n",
       "      <td>0</td>\n",
       "      <td>2</td>\n",
       "      <td>0</td>\n",
       "      <td>0</td>\n",
       "      <td>0</td>\n",
       "      <td>0.707107</td>\n",
       "      <td>0.500000</td>\n",
       "    </tr>\n",
       "    <tr>\n",
       "      <th>3</th>\n",
       "      <td>108453</td>\n",
       "      <td>163467</td>\n",
       "      <td>1</td>\n",
       "      <td>0.0</td>\n",
       "      <td>0.0</td>\n",
       "      <td>0</td>\n",
       "      <td>0</td>\n",
       "      <td>0.0</td>\n",
       "      <td>0.0</td>\n",
       "      <td>0.0</td>\n",
       "      <td>1</td>\n",
       "      <td>-1</td>\n",
       "      <td>0</td>\n",
       "      <td>1</td>\n",
       "      <td>8</td>\n",
       "      <td>1</td>\n",
       "      <td>0</td>\n",
       "      <td>0</td>\n",
       "      <td>0.577350</td>\n",
       "      <td>0.316228</td>\n",
       "    </tr>\n",
       "    <tr>\n",
       "      <th>4</th>\n",
       "      <td>53271</td>\n",
       "      <td>1548358</td>\n",
       "      <td>1</td>\n",
       "      <td>0.0</td>\n",
       "      <td>0.0</td>\n",
       "      <td>0</td>\n",
       "      <td>0</td>\n",
       "      <td>0.0</td>\n",
       "      <td>0.0</td>\n",
       "      <td>0.0</td>\n",
       "      <td>1</td>\n",
       "      <td>-1</td>\n",
       "      <td>2</td>\n",
       "      <td>0</td>\n",
       "      <td>3</td>\n",
       "      <td>0</td>\n",
       "      <td>0</td>\n",
       "      <td>0</td>\n",
       "      <td>0.707107</td>\n",
       "      <td>0.447214</td>\n",
       "    </tr>\n",
       "    <tr>\n",
       "      <th>...</th>\n",
       "      <td>...</td>\n",
       "      <td>...</td>\n",
       "      <td>...</td>\n",
       "      <td>...</td>\n",
       "      <td>...</td>\n",
       "      <td>...</td>\n",
       "      <td>...</td>\n",
       "      <td>...</td>\n",
       "      <td>...</td>\n",
       "      <td>...</td>\n",
       "      <td>...</td>\n",
       "      <td>...</td>\n",
       "      <td>...</td>\n",
       "      <td>...</td>\n",
       "      <td>...</td>\n",
       "      <td>...</td>\n",
       "      <td>...</td>\n",
       "      <td>...</td>\n",
       "      <td>...</td>\n",
       "      <td>...</td>\n",
       "    </tr>\n",
       "    <tr>\n",
       "      <th>419425</th>\n",
       "      <td>559059</td>\n",
       "      <td>137244</td>\n",
       "      <td>0</td>\n",
       "      <td>0.0</td>\n",
       "      <td>0.0</td>\n",
       "      <td>0</td>\n",
       "      <td>0</td>\n",
       "      <td>0.0</td>\n",
       "      <td>0.0</td>\n",
       "      <td>0.0</td>\n",
       "      <td>1</td>\n",
       "      <td>-1</td>\n",
       "      <td>0</td>\n",
       "      <td>0</td>\n",
       "      <td>0</td>\n",
       "      <td>0</td>\n",
       "      <td>0</td>\n",
       "      <td>0</td>\n",
       "      <td>0.577350</td>\n",
       "      <td>0.707107</td>\n",
       "    </tr>\n",
       "    <tr>\n",
       "      <th>419426</th>\n",
       "      <td>270923</td>\n",
       "      <td>688340</td>\n",
       "      <td>0</td>\n",
       "      <td>0.0</td>\n",
       "      <td>0.0</td>\n",
       "      <td>0</td>\n",
       "      <td>0</td>\n",
       "      <td>0.0</td>\n",
       "      <td>0.0</td>\n",
       "      <td>0.0</td>\n",
       "      <td>1</td>\n",
       "      <td>-1</td>\n",
       "      <td>0</td>\n",
       "      <td>0</td>\n",
       "      <td>0</td>\n",
       "      <td>0</td>\n",
       "      <td>0</td>\n",
       "      <td>0</td>\n",
       "      <td>0.707107</td>\n",
       "      <td>0.707107</td>\n",
       "    </tr>\n",
       "    <tr>\n",
       "      <th>419427</th>\n",
       "      <td>399586</td>\n",
       "      <td>700444</td>\n",
       "      <td>0</td>\n",
       "      <td>0.0</td>\n",
       "      <td>0.0</td>\n",
       "      <td>0</td>\n",
       "      <td>0</td>\n",
       "      <td>0.0</td>\n",
       "      <td>0.0</td>\n",
       "      <td>0.0</td>\n",
       "      <td>1</td>\n",
       "      <td>-1</td>\n",
       "      <td>0</td>\n",
       "      <td>0</td>\n",
       "      <td>0</td>\n",
       "      <td>0</td>\n",
       "      <td>0</td>\n",
       "      <td>0</td>\n",
       "      <td>0.577350</td>\n",
       "      <td>0.707107</td>\n",
       "    </tr>\n",
       "    <tr>\n",
       "      <th>419428</th>\n",
       "      <td>285081</td>\n",
       "      <td>335390</td>\n",
       "      <td>0</td>\n",
       "      <td>0.0</td>\n",
       "      <td>0.0</td>\n",
       "      <td>0</td>\n",
       "      <td>0</td>\n",
       "      <td>0.0</td>\n",
       "      <td>0.0</td>\n",
       "      <td>0.0</td>\n",
       "      <td>1</td>\n",
       "      <td>-1</td>\n",
       "      <td>0</td>\n",
       "      <td>0</td>\n",
       "      <td>0</td>\n",
       "      <td>0</td>\n",
       "      <td>0</td>\n",
       "      <td>0</td>\n",
       "      <td>0.707107</td>\n",
       "      <td>0.707107</td>\n",
       "    </tr>\n",
       "    <tr>\n",
       "      <th>419429</th>\n",
       "      <td>10864</td>\n",
       "      <td>630525</td>\n",
       "      <td>0</td>\n",
       "      <td>0.0</td>\n",
       "      <td>0.0</td>\n",
       "      <td>0</td>\n",
       "      <td>0</td>\n",
       "      <td>0.0</td>\n",
       "      <td>0.0</td>\n",
       "      <td>0.0</td>\n",
       "      <td>1</td>\n",
       "      <td>-1</td>\n",
       "      <td>0</td>\n",
       "      <td>0</td>\n",
       "      <td>0</td>\n",
       "      <td>0</td>\n",
       "      <td>0</td>\n",
       "      <td>0</td>\n",
       "      <td>0.707107</td>\n",
       "      <td>0.577350</td>\n",
       "    </tr>\n",
       "  </tbody>\n",
       "</table>\n",
       "<p>419430 rows × 20 columns</p>\n",
       "</div>"
      ],
      "text/plain": [
       "        source_node  destination_node  link_indicator  Jaccard_followees  \\\n",
       "0            204446            139592               1                0.0   \n",
       "1             70119            256428               1                0.0   \n",
       "2            171448           1548414               1                0.0   \n",
       "3            108453            163467               1                0.0   \n",
       "4             53271           1548358               1                0.0   \n",
       "...             ...               ...             ...                ...   \n",
       "419425       559059            137244               0                0.0   \n",
       "419426       270923            688340               0                0.0   \n",
       "419427       399586            700444               0                0.0   \n",
       "419428       285081            335390               0                0.0   \n",
       "419429        10864            630525               0                0.0   \n",
       "\n",
       "        Jaccard_followers  cosine_followees  cosine_followers  \\\n",
       "0                     0.0                 0                 0   \n",
       "1                     0.0                 0                 0   \n",
       "2                     0.0                 0                 0   \n",
       "3                     0.0                 0                 0   \n",
       "4                     0.0                 0                 0   \n",
       "...                   ...               ...               ...   \n",
       "419425                0.0                 0                 0   \n",
       "419426                0.0                 0                 0   \n",
       "419427                0.0                 0                 0   \n",
       "419428                0.0                 0                 0   \n",
       "419429                0.0                 0                 0   \n",
       "\n",
       "        Avg_sim_followees  Avg_sim_followers  Adar Index  Is_Followback  \\\n",
       "0                     0.0                0.0         0.0              0   \n",
       "1                     0.0                0.0         0.0              1   \n",
       "2                     0.0                0.0         0.0              1   \n",
       "3                     0.0                0.0         0.0              1   \n",
       "4                     0.0                0.0         0.0              1   \n",
       "...                   ...                ...         ...            ...   \n",
       "419425                0.0                0.0         0.0              1   \n",
       "419426                0.0                0.0         0.0              1   \n",
       "419427                0.0                0.0         0.0              1   \n",
       "419428                0.0                0.0         0.0              1   \n",
       "419429                0.0                0.0         0.0              1   \n",
       "\n",
       "        Shortest Path  source_followees  dest_followees  source_followers  \\\n",
       "0                  -1                 1               0                 2   \n",
       "1                  -1                 0               0                 0   \n",
       "2                  -1                 0               0                 2   \n",
       "3                  -1                 0               1                 8   \n",
       "4                  -1                 2               0                 3   \n",
       "...               ...               ...             ...               ...   \n",
       "419425             -1                 0               0                 0   \n",
       "419426             -1                 0               0                 0   \n",
       "419427             -1                 0               0                 0   \n",
       "419428             -1                 0               0                 0   \n",
       "419429             -1                 0               0                 0   \n",
       "\n",
       "        dest_followers  common_followees  common_followers  weight_in  \\\n",
       "0                    1                 0                 0   1.000000   \n",
       "1                    1                 0                 0   0.707107   \n",
       "2                    0                 0                 0   0.707107   \n",
       "3                    1                 0                 0   0.577350   \n",
       "4                    0                 0                 0   0.707107   \n",
       "...                ...               ...               ...        ...   \n",
       "419425               0                 0                 0   0.577350   \n",
       "419426               0                 0                 0   0.707107   \n",
       "419427               0                 0                 0   0.577350   \n",
       "419428               0                 0                 0   0.707107   \n",
       "419429               0                 0                 0   0.707107   \n",
       "\n",
       "        weight_out  \n",
       "0         0.577350  \n",
       "1         0.707107  \n",
       "2         0.500000  \n",
       "3         0.316228  \n",
       "4         0.447214  \n",
       "...            ...  \n",
       "419425    0.707107  \n",
       "419426    0.707107  \n",
       "419427    0.707107  \n",
       "419428    0.707107  \n",
       "419429    0.577350  \n",
       "\n",
       "[419430 rows x 20 columns]"
      ]
     },
     "execution_count": 128,
     "metadata": {},
     "output_type": "execute_result"
    }
   ],
   "source": [
    "final_test"
   ]
  },
  {
   "cell_type": "code",
   "execution_count": null,
   "id": "0ec5ad44",
   "metadata": {},
   "outputs": [],
   "source": []
  },
  {
   "cell_type": "code",
   "execution_count": 129,
   "id": "41291fd6",
   "metadata": {},
   "outputs": [],
   "source": [
    "link_indicator=final_test[\"link_indicator\"].tolist()\n",
    "\n",
    "final_test.drop(\"link_indicator\",axis=1,inplace=True)\n",
    "\n",
    "final_test[\"link_indicator\"]=link_indicator"
   ]
  },
  {
   "cell_type": "code",
   "execution_count": null,
   "id": "764dbf02",
   "metadata": {},
   "outputs": [],
   "source": []
  },
  {
   "cell_type": "code",
   "execution_count": 130,
   "id": "7d84142e",
   "metadata": {},
   "outputs": [
    {
     "data": {
      "text/html": [
       "<div>\n",
       "<style scoped>\n",
       "    .dataframe tbody tr th:only-of-type {\n",
       "        vertical-align: middle;\n",
       "    }\n",
       "\n",
       "    .dataframe tbody tr th {\n",
       "        vertical-align: top;\n",
       "    }\n",
       "\n",
       "    .dataframe thead th {\n",
       "        text-align: right;\n",
       "    }\n",
       "</style>\n",
       "<table border=\"1\" class=\"dataframe\">\n",
       "  <thead>\n",
       "    <tr style=\"text-align: right;\">\n",
       "      <th></th>\n",
       "      <th>source_node</th>\n",
       "      <th>destination_node</th>\n",
       "      <th>Jaccard_followees</th>\n",
       "      <th>Jaccard_followers</th>\n",
       "      <th>cosine_followees</th>\n",
       "      <th>cosine_followers</th>\n",
       "      <th>Avg_sim_followees</th>\n",
       "      <th>Avg_sim_followers</th>\n",
       "      <th>Adar Index</th>\n",
       "      <th>Is_Followback</th>\n",
       "      <th>Shortest Path</th>\n",
       "      <th>source_followees</th>\n",
       "      <th>dest_followees</th>\n",
       "      <th>source_followers</th>\n",
       "      <th>dest_followers</th>\n",
       "      <th>common_followees</th>\n",
       "      <th>common_followers</th>\n",
       "      <th>weight_in</th>\n",
       "      <th>weight_out</th>\n",
       "      <th>link_indicator</th>\n",
       "    </tr>\n",
       "  </thead>\n",
       "  <tbody>\n",
       "    <tr>\n",
       "      <th>0</th>\n",
       "      <td>204446</td>\n",
       "      <td>139592</td>\n",
       "      <td>0.0</td>\n",
       "      <td>0.0</td>\n",
       "      <td>0</td>\n",
       "      <td>0</td>\n",
       "      <td>0.0</td>\n",
       "      <td>0.0</td>\n",
       "      <td>0.0</td>\n",
       "      <td>0</td>\n",
       "      <td>-1</td>\n",
       "      <td>1</td>\n",
       "      <td>0</td>\n",
       "      <td>2</td>\n",
       "      <td>1</td>\n",
       "      <td>0</td>\n",
       "      <td>0</td>\n",
       "      <td>1.000000</td>\n",
       "      <td>0.577350</td>\n",
       "      <td>1</td>\n",
       "    </tr>\n",
       "    <tr>\n",
       "      <th>1</th>\n",
       "      <td>70119</td>\n",
       "      <td>256428</td>\n",
       "      <td>0.0</td>\n",
       "      <td>0.0</td>\n",
       "      <td>0</td>\n",
       "      <td>0</td>\n",
       "      <td>0.0</td>\n",
       "      <td>0.0</td>\n",
       "      <td>0.0</td>\n",
       "      <td>1</td>\n",
       "      <td>-1</td>\n",
       "      <td>0</td>\n",
       "      <td>0</td>\n",
       "      <td>0</td>\n",
       "      <td>1</td>\n",
       "      <td>0</td>\n",
       "      <td>0</td>\n",
       "      <td>0.707107</td>\n",
       "      <td>0.707107</td>\n",
       "      <td>1</td>\n",
       "    </tr>\n",
       "    <tr>\n",
       "      <th>2</th>\n",
       "      <td>171448</td>\n",
       "      <td>1548414</td>\n",
       "      <td>0.0</td>\n",
       "      <td>0.0</td>\n",
       "      <td>0</td>\n",
       "      <td>0</td>\n",
       "      <td>0.0</td>\n",
       "      <td>0.0</td>\n",
       "      <td>0.0</td>\n",
       "      <td>1</td>\n",
       "      <td>-1</td>\n",
       "      <td>0</td>\n",
       "      <td>0</td>\n",
       "      <td>2</td>\n",
       "      <td>0</td>\n",
       "      <td>0</td>\n",
       "      <td>0</td>\n",
       "      <td>0.707107</td>\n",
       "      <td>0.500000</td>\n",
       "      <td>1</td>\n",
       "    </tr>\n",
       "    <tr>\n",
       "      <th>3</th>\n",
       "      <td>108453</td>\n",
       "      <td>163467</td>\n",
       "      <td>0.0</td>\n",
       "      <td>0.0</td>\n",
       "      <td>0</td>\n",
       "      <td>0</td>\n",
       "      <td>0.0</td>\n",
       "      <td>0.0</td>\n",
       "      <td>0.0</td>\n",
       "      <td>1</td>\n",
       "      <td>-1</td>\n",
       "      <td>0</td>\n",
       "      <td>1</td>\n",
       "      <td>8</td>\n",
       "      <td>1</td>\n",
       "      <td>0</td>\n",
       "      <td>0</td>\n",
       "      <td>0.577350</td>\n",
       "      <td>0.316228</td>\n",
       "      <td>1</td>\n",
       "    </tr>\n",
       "    <tr>\n",
       "      <th>4</th>\n",
       "      <td>53271</td>\n",
       "      <td>1548358</td>\n",
       "      <td>0.0</td>\n",
       "      <td>0.0</td>\n",
       "      <td>0</td>\n",
       "      <td>0</td>\n",
       "      <td>0.0</td>\n",
       "      <td>0.0</td>\n",
       "      <td>0.0</td>\n",
       "      <td>1</td>\n",
       "      <td>-1</td>\n",
       "      <td>2</td>\n",
       "      <td>0</td>\n",
       "      <td>3</td>\n",
       "      <td>0</td>\n",
       "      <td>0</td>\n",
       "      <td>0</td>\n",
       "      <td>0.707107</td>\n",
       "      <td>0.447214</td>\n",
       "      <td>1</td>\n",
       "    </tr>\n",
       "    <tr>\n",
       "      <th>...</th>\n",
       "      <td>...</td>\n",
       "      <td>...</td>\n",
       "      <td>...</td>\n",
       "      <td>...</td>\n",
       "      <td>...</td>\n",
       "      <td>...</td>\n",
       "      <td>...</td>\n",
       "      <td>...</td>\n",
       "      <td>...</td>\n",
       "      <td>...</td>\n",
       "      <td>...</td>\n",
       "      <td>...</td>\n",
       "      <td>...</td>\n",
       "      <td>...</td>\n",
       "      <td>...</td>\n",
       "      <td>...</td>\n",
       "      <td>...</td>\n",
       "      <td>...</td>\n",
       "      <td>...</td>\n",
       "      <td>...</td>\n",
       "    </tr>\n",
       "    <tr>\n",
       "      <th>419425</th>\n",
       "      <td>559059</td>\n",
       "      <td>137244</td>\n",
       "      <td>0.0</td>\n",
       "      <td>0.0</td>\n",
       "      <td>0</td>\n",
       "      <td>0</td>\n",
       "      <td>0.0</td>\n",
       "      <td>0.0</td>\n",
       "      <td>0.0</td>\n",
       "      <td>1</td>\n",
       "      <td>-1</td>\n",
       "      <td>0</td>\n",
       "      <td>0</td>\n",
       "      <td>0</td>\n",
       "      <td>0</td>\n",
       "      <td>0</td>\n",
       "      <td>0</td>\n",
       "      <td>0.577350</td>\n",
       "      <td>0.707107</td>\n",
       "      <td>0</td>\n",
       "    </tr>\n",
       "    <tr>\n",
       "      <th>419426</th>\n",
       "      <td>270923</td>\n",
       "      <td>688340</td>\n",
       "      <td>0.0</td>\n",
       "      <td>0.0</td>\n",
       "      <td>0</td>\n",
       "      <td>0</td>\n",
       "      <td>0.0</td>\n",
       "      <td>0.0</td>\n",
       "      <td>0.0</td>\n",
       "      <td>1</td>\n",
       "      <td>-1</td>\n",
       "      <td>0</td>\n",
       "      <td>0</td>\n",
       "      <td>0</td>\n",
       "      <td>0</td>\n",
       "      <td>0</td>\n",
       "      <td>0</td>\n",
       "      <td>0.707107</td>\n",
       "      <td>0.707107</td>\n",
       "      <td>0</td>\n",
       "    </tr>\n",
       "    <tr>\n",
       "      <th>419427</th>\n",
       "      <td>399586</td>\n",
       "      <td>700444</td>\n",
       "      <td>0.0</td>\n",
       "      <td>0.0</td>\n",
       "      <td>0</td>\n",
       "      <td>0</td>\n",
       "      <td>0.0</td>\n",
       "      <td>0.0</td>\n",
       "      <td>0.0</td>\n",
       "      <td>1</td>\n",
       "      <td>-1</td>\n",
       "      <td>0</td>\n",
       "      <td>0</td>\n",
       "      <td>0</td>\n",
       "      <td>0</td>\n",
       "      <td>0</td>\n",
       "      <td>0</td>\n",
       "      <td>0.577350</td>\n",
       "      <td>0.707107</td>\n",
       "      <td>0</td>\n",
       "    </tr>\n",
       "    <tr>\n",
       "      <th>419428</th>\n",
       "      <td>285081</td>\n",
       "      <td>335390</td>\n",
       "      <td>0.0</td>\n",
       "      <td>0.0</td>\n",
       "      <td>0</td>\n",
       "      <td>0</td>\n",
       "      <td>0.0</td>\n",
       "      <td>0.0</td>\n",
       "      <td>0.0</td>\n",
       "      <td>1</td>\n",
       "      <td>-1</td>\n",
       "      <td>0</td>\n",
       "      <td>0</td>\n",
       "      <td>0</td>\n",
       "      <td>0</td>\n",
       "      <td>0</td>\n",
       "      <td>0</td>\n",
       "      <td>0.707107</td>\n",
       "      <td>0.707107</td>\n",
       "      <td>0</td>\n",
       "    </tr>\n",
       "    <tr>\n",
       "      <th>419429</th>\n",
       "      <td>10864</td>\n",
       "      <td>630525</td>\n",
       "      <td>0.0</td>\n",
       "      <td>0.0</td>\n",
       "      <td>0</td>\n",
       "      <td>0</td>\n",
       "      <td>0.0</td>\n",
       "      <td>0.0</td>\n",
       "      <td>0.0</td>\n",
       "      <td>1</td>\n",
       "      <td>-1</td>\n",
       "      <td>0</td>\n",
       "      <td>0</td>\n",
       "      <td>0</td>\n",
       "      <td>0</td>\n",
       "      <td>0</td>\n",
       "      <td>0</td>\n",
       "      <td>0.707107</td>\n",
       "      <td>0.577350</td>\n",
       "      <td>0</td>\n",
       "    </tr>\n",
       "  </tbody>\n",
       "</table>\n",
       "<p>419430 rows × 20 columns</p>\n",
       "</div>"
      ],
      "text/plain": [
       "        source_node  destination_node  Jaccard_followees  Jaccard_followers  \\\n",
       "0            204446            139592                0.0                0.0   \n",
       "1             70119            256428                0.0                0.0   \n",
       "2            171448           1548414                0.0                0.0   \n",
       "3            108453            163467                0.0                0.0   \n",
       "4             53271           1548358                0.0                0.0   \n",
       "...             ...               ...                ...                ...   \n",
       "419425       559059            137244                0.0                0.0   \n",
       "419426       270923            688340                0.0                0.0   \n",
       "419427       399586            700444                0.0                0.0   \n",
       "419428       285081            335390                0.0                0.0   \n",
       "419429        10864            630525                0.0                0.0   \n",
       "\n",
       "        cosine_followees  cosine_followers  Avg_sim_followees  \\\n",
       "0                      0                 0                0.0   \n",
       "1                      0                 0                0.0   \n",
       "2                      0                 0                0.0   \n",
       "3                      0                 0                0.0   \n",
       "4                      0                 0                0.0   \n",
       "...                  ...               ...                ...   \n",
       "419425                 0                 0                0.0   \n",
       "419426                 0                 0                0.0   \n",
       "419427                 0                 0                0.0   \n",
       "419428                 0                 0                0.0   \n",
       "419429                 0                 0                0.0   \n",
       "\n",
       "        Avg_sim_followers  Adar Index  Is_Followback  Shortest Path  \\\n",
       "0                     0.0         0.0              0             -1   \n",
       "1                     0.0         0.0              1             -1   \n",
       "2                     0.0         0.0              1             -1   \n",
       "3                     0.0         0.0              1             -1   \n",
       "4                     0.0         0.0              1             -1   \n",
       "...                   ...         ...            ...            ...   \n",
       "419425                0.0         0.0              1             -1   \n",
       "419426                0.0         0.0              1             -1   \n",
       "419427                0.0         0.0              1             -1   \n",
       "419428                0.0         0.0              1             -1   \n",
       "419429                0.0         0.0              1             -1   \n",
       "\n",
       "        source_followees  dest_followees  source_followers  dest_followers  \\\n",
       "0                      1               0                 2               1   \n",
       "1                      0               0                 0               1   \n",
       "2                      0               0                 2               0   \n",
       "3                      0               1                 8               1   \n",
       "4                      2               0                 3               0   \n",
       "...                  ...             ...               ...             ...   \n",
       "419425                 0               0                 0               0   \n",
       "419426                 0               0                 0               0   \n",
       "419427                 0               0                 0               0   \n",
       "419428                 0               0                 0               0   \n",
       "419429                 0               0                 0               0   \n",
       "\n",
       "        common_followees  common_followers  weight_in  weight_out  \\\n",
       "0                      0                 0   1.000000    0.577350   \n",
       "1                      0                 0   0.707107    0.707107   \n",
       "2                      0                 0   0.707107    0.500000   \n",
       "3                      0                 0   0.577350    0.316228   \n",
       "4                      0                 0   0.707107    0.447214   \n",
       "...                  ...               ...        ...         ...   \n",
       "419425                 0                 0   0.577350    0.707107   \n",
       "419426                 0                 0   0.707107    0.707107   \n",
       "419427                 0                 0   0.577350    0.707107   \n",
       "419428                 0                 0   0.707107    0.707107   \n",
       "419429                 0                 0   0.707107    0.577350   \n",
       "\n",
       "        link_indicator  \n",
       "0                    1  \n",
       "1                    1  \n",
       "2                    1  \n",
       "3                    1  \n",
       "4                    1  \n",
       "...                ...  \n",
       "419425               0  \n",
       "419426               0  \n",
       "419427               0  \n",
       "419428               0  \n",
       "419429               0  \n",
       "\n",
       "[419430 rows x 20 columns]"
      ]
     },
     "execution_count": 130,
     "metadata": {},
     "output_type": "execute_result"
    }
   ],
   "source": [
    "final_test"
   ]
  },
  {
   "cell_type": "code",
   "execution_count": null,
   "id": "d98e1e9e",
   "metadata": {},
   "outputs": [],
   "source": []
  },
  {
   "cell_type": "markdown",
   "id": "ce547b08",
   "metadata": {},
   "source": [
    "# Saving the dataset as csv"
   ]
  },
  {
   "cell_type": "code",
   "execution_count": null,
   "id": "516b4fa8",
   "metadata": {},
   "outputs": [],
   "source": []
  },
  {
   "cell_type": "code",
   "execution_count": null,
   "id": "ea0ff620",
   "metadata": {},
   "outputs": [],
   "source": [
    "final_train.to_csv(\"C:/Users/Shafiq/Desktop/arsh LU/final_train.csv\",index=False)\n",
    "\n",
    "final_test.to_csv(\"C:/Users/Shafiq/Desktop/arsh LU/final_test.csv\",index=False)"
   ]
  }
 ],
 "metadata": {
  "kernelspec": {
   "display_name": "Python 3 (ipykernel)",
   "language": "python",
   "name": "python3"
  },
  "language_info": {
   "codemirror_mode": {
    "name": "ipython",
    "version": 3
   },
   "file_extension": ".py",
   "mimetype": "text/x-python",
   "name": "python",
   "nbconvert_exporter": "python",
   "pygments_lexer": "ipython3",
   "version": "3.9.12"
  }
 },
 "nbformat": 4,
 "nbformat_minor": 5
}
